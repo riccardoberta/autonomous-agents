{
 "cells": [
  {
   "cell_type": "markdown",
   "metadata": {},
   "source": [
    "## NFQ and Pendulum problem \n",
    "\n",
    "The [inverted pendulum swingup problem](https://gymnasium.farama.org/environments/classic_control/pendulum//) is a classic problem in control theory. The system consists of a pendulum attached at one end to a fixed point, and the other end being free. The pendulum starts in a random position and the goal is to apply torque on the free end to swing it into an upright position, with its center of gravity right above the fixed point.\n",
    "\n",
    "- The Action Space is a single action, the torque applied to the pendulum. It is a ndarray with shape (1,) representing the torque applied to free end of the pendulum.\n",
    "- The Observation Space is a 3-dimensional space with the angle of the pendulum, the angular velocity and the torque applied."
   ]
  },
  {
   "cell_type": "markdown",
   "metadata": {},
   "source": [
    "1 - import the pendulum environment from Gymnasium and show it with a random policy"
   ]
  },
  {
   "cell_type": "code",
   "execution_count": 6,
   "metadata": {},
   "outputs": [],
   "source": [
    "# YOUR CODE HERE\n",
    "\n",
    "# You can get the environment from Gymnasium 'Pendulum-v1’; \n",
    "# In order to visually plot the environment you can import it \n",
    "# using render_mode=\"rgb_array\"\n",
    "\n",
    "import gymnasium as gym\n",
    "\n",
    "pendulum = gym.make('Pendulum-v1', render_mode=\"rgb_array\")"
   ]
  },
  {
   "cell_type": "markdown",
   "metadata": {},
   "source": [
    "2- Create a random policy as a baseline:"
   ]
  },
  {
   "cell_type": "code",
   "execution_count": 15,
   "metadata": {},
   "outputs": [],
   "source": [
    "# YOUR CODE HERE\n",
    "\n",
    "# You have to create a function that get in input a state and provide a random float\n",
    "# value (in the range [-2;2])\n",
    "\n",
    "import numpy as np\n",
    "\n",
    "pi_random = lambda s: pendulum.action_space.sample()"
   ]
  },
  {
   "cell_type": "markdown",
   "metadata": {},
   "source": [
    "3 - Show the policy in action by rendering the environment several times after different decisions from the random policy:"
   ]
  },
  {
   "cell_type": "code",
   "execution_count": 18,
   "metadata": {},
   "outputs": [
    {
     "data": {
      "image/png": "[encoded data removed]",
      "text/plain": [
       "<Figure size 640x480 with 1 Axes>"
      ]
     },
     "metadata": {},
     "output_type": "display_data"
    },
    {
     "name": "stdout",
     "output_type": "stream",
     "text": [
      "Step : 500 Action:  [0.11000645]\n"
     ]
    }
   ],
   "source": [
    "# YOUR CODE HERE\n",
    "\n",
    "# You have to use a while loop in order to provide the current state to \n",
    "# the policy and then make a step in the environment using the action \n",
    "# provided by the policy. \n",
    "# Try to create a function (to be called \"show_policy\") \n",
    "# to be reused with other policies later.\n",
    "# Hints: env.render() provides you an array representing \n",
    "# an image of the environment; plt.imshow() can be used to visualize \n",
    "# the image on the screen.\n",
    "\n",
    "import time\n",
    "import matplotlib.pyplot as plt\n",
    "from IPython.display import clear_output\n",
    "\n",
    "def show_policy(env, pi, n_episodes=1, max_steps=500):\n",
    "    for _ in range(n_episodes):\n",
    "        state, _ = env.reset()\n",
    "        done = False\n",
    "        steps = 0;\n",
    "        while not done and steps < max_steps:\n",
    "            action = pi(state);\n",
    "            print(action)\n",
    "            state, reward, done, _, _ = env.step(action)\n",
    "            clear_output(wait=True)\n",
    "            plt.imshow(env.render())\n",
    "            plt.show()\n",
    "            steps += 1\n",
    "            print('Step :',steps, 'Action: ', action)\n",
    "            time.sleep(0.01)\n",
    "\n",
    "show_policy(pendulum, pi_random)"
   ]
  },
  {
   "cell_type": "markdown",
   "metadata": {},
   "source": [
    "4 - Create a neural network as a function approximator for the Q-function."
   ]
  },
  {
   "cell_type": "code",
   "execution_count": 19,
   "metadata": {},
   "outputs": [],
   "source": [
    "# YOUR CODE HERE\n",
    "\n",
    "# Add the code for a neural network using the PyTorch library\n",
    "\n",
    "import torch.nn as nn\n",
    "import torch.nn.functional as F\n",
    "\n",
    "class FCQ(nn.Module):\n",
    "    def __init__(self, input_dim, output_dim, hidden_dims=(32,32), activation_fc=F.relu):\n",
    "        super(FCQ, self).__init__()\n",
    "        self.activation_fc = activation_fc\n",
    "        \n",
    "        # defining the input layer\n",
    "        self.input_layer = nn.Linear(input_dim, hidden_dims[0])\n",
    "        \n",
    "        # creating the hidden layers \n",
    "        self.hidden_layers = nn.ModuleList()\n",
    "        for i in range(len(hidden_dims)-1):\n",
    "            hidden_layer = nn.Linear(hidden_dims[i], hidden_dims[i+1])\n",
    "            self.hidden_layers.append(hidden_layer)\n",
    "            \n",
    "        # connecting the output layer    \n",
    "        self.output_layer = nn.Linear(hidden_dims[-1], output_dim)\n",
    "\n",
    "    def forward(self, state):\n",
    "        # take in the raw state and convert it into a tensor\n",
    "        x = state\n",
    "        if not isinstance(x, torch.Tensor):\n",
    "            x = torch.Tensor(x)\n",
    "            \n",
    "        # pass it through the input layer\n",
    "        x = self.activation_fc(self.input_layer(x))\n",
    "        \n",
    "        # then pass for all hidden layers\n",
    "        for hidden_layer in self.hidden_layers:\n",
    "            x = self.activation_fc(hidden_layer(x))\n",
    "\n",
    "        # finally, for the output layer\n",
    "        x = self.output_layer(x)\n",
    "        \n",
    "        return x\n",
    "    \n",
    "    def load(self, experiences):\n",
    "        states, actions, new_states, rewards, is_terminals = experiences\n",
    "        states = torch.from_numpy(states)\n",
    "        actions = torch.from_numpy(actions)\n",
    "        new_states = torch.from_numpy(new_states)\n",
    "        rewards = torch.from_numpy(rewards)\n",
    "        is_terminals = torch.from_numpy(is_terminals)\n",
    "        return states, actions, new_states, rewards, is_terminals\n",
    "\n"
   ]
  },
  {
   "cell_type": "markdown",
   "metadata": {},
   "source": [
    "5 - Create a the code of two strategy for exploration and exploitation"
   ]
  },
  {
   "cell_type": "code",
   "execution_count": 20,
   "metadata": {},
   "outputs": [],
   "source": [
    "# YOUR CODE HERE\n",
    "\n",
    "# Add the code for an exploration strategy based on the epsilon-greedy algorithm\n",
    "\n",
    "class EGreedyStrategy():\n",
    "    \n",
    "    def __init__(self, epsilon=0.1):\n",
    "        self.epsilon = epsilon\n",
    "\n",
    "    def select_action(self, model, state):\n",
    "        # pulling out the Q-values for state s\n",
    "        q_values = model(state).detach()\n",
    "        # make the values NumPy friendly \n",
    "        q_values = q_values.data.numpy().squeeze()\n",
    "\n",
    "        # get a random number..\n",
    "        if np.random.rand() > self.epsilon:\n",
    "            # ...if greater than epsilon, act greedily\n",
    "            action = np.argmax(q_values)\n",
    "        else: \n",
    "            # ...otherwise, act randomly\n",
    "            action = np.random.randint(len(q_values))\n",
    "\n",
    "        self.exploratory_action_taken = (action != np.argmax(q_values))\n",
    "        return action"
   ]
  },
  {
   "cell_type": "code",
   "execution_count": 21,
   "metadata": {},
   "outputs": [],
   "source": [
    "# YOUR CODE HERE\n",
    "\n",
    "# Add the code for a exploitation strategy based on the greedy algorithm in order to evaluate your policy\n",
    "\n",
    "class GreedyStrategy():\n",
    "    \n",
    "    def select_action(self, model, state):\n",
    "        q_values = model(state).detach()\n",
    "        q_values = q_values.data.numpy().squeeze()\n",
    "        return np.argmax(q_values)\n",
    "\n"
   ]
  },
  {
   "cell_type": "markdown",
   "metadata": {},
   "source": [
    "6 - Write the code of the NFQ algorithm"
   ]
  },
  {
   "cell_type": "code",
   "execution_count": 22,
   "metadata": {},
   "outputs": [],
   "source": [
    "# YOUR CODE HERE\n",
    "\n",
    "# Add the code for the NFQ algorithm\n",
    "\n",
    "import random \n",
    "import torch\n",
    "import torch.optim as optim\n",
    "from itertools import count\n",
    "\n",
    "class NFQ():\n",
    "    def __init__(self, env, model, optimizer, train_strategy, eval_strategy,\n",
    "                 seed, batch_size, epochs):\n",
    "        \n",
    "        # set the seed\n",
    "        torch.manual_seed(seed)\n",
    "        np.random.seed(seed)\n",
    "        random.seed(seed)\n",
    "        \n",
    "        # store the objects\n",
    "        self.env = env\n",
    "        self.model = model\n",
    "        self.optimizer = optimizer\n",
    "        self.train_strategy = train_strategy\n",
    "        self.eval_strategy = eval_strategy\n",
    "        self.batch_size = batch_size\n",
    "        self.epochs = epochs\n",
    "\n",
    "    def train(self, gamma, max_minutes, max_episodes, goal_reward):\n",
    "\n",
    "        # timing variables\n",
    "        training_start = time.time()\n",
    "\n",
    "        self.gamma = gamma\n",
    "\n",
    "        # stats trackers \n",
    "        self.episode_timestep = []\n",
    "        self.episode_reward = []\n",
    "        self.episode_seconds = []\n",
    "        self.evaluation_scores = []        \n",
    "        self.episode_exploration = []\n",
    "\n",
    "        # vector to collect the experience\n",
    "        self.experiences = []\n",
    "\n",
    "        result = np.empty((max_episodes, 4))\n",
    "        result[:] = np.nan\n",
    "            \n",
    "        training_time = 0\n",
    "            \n",
    "        # train until we either reach the max minutes, the max episodes or the goal mean reward\n",
    "        for episode in range(1, max_episodes + 1):\n",
    "\n",
    "            # get the start time of the episode\n",
    "            episode_start = time.time()\n",
    "\n",
    "            # reset the episode trackers\n",
    "            self.episode_reward.append(0.0)\n",
    "            self.episode_timestep.append(0.0)\n",
    "            self.episode_exploration.append(0.0)\n",
    "                \n",
    "            # reset the environment before starting the episode  \n",
    "            state, is_terminal = self.env.reset()[0], False\n",
    "\n",
    "            # interact with the environment until the episode is done\n",
    "            for step in count():\n",
    "\n",
    "                # interact with environment using the exploration policy\n",
    "                # and collect the experience batch\n",
    "                state, is_terminal = self.interaction_step(state)\n",
    "\n",
    "                # if the experience is enough, then optimize the model \n",
    "                if len(self.experiences) >= self.batch_size:\n",
    "\n",
    "                    # load the experiences as tensors for training\n",
    "                    experiences = np.array(self.experiences, dtype=object)\n",
    "                    batches = [np.vstack(sars) for sars in experiences.T]\n",
    "                    experiences = self.model.load(batches)\n",
    "\n",
    "                    # optimize the model for a number of epochs\n",
    "                    for _ in range(self.epochs):\n",
    "                        self.optimize_model(experiences)\n",
    "                        \n",
    "                    # reset the experience batch\n",
    "                    self.experiences.clear()\n",
    "                if is_terminal:\n",
    "                    break\n",
    "                \n",
    "            # timing stuff\n",
    "            episode_elapsed = time.time() - episode_start\n",
    "            self.episode_seconds.append(episode_elapsed)\n",
    "            training_time += episode_elapsed\n",
    "\n",
    "            # episode steps count\n",
    "            total_step = int(np.sum(self.episode_timestep))\n",
    "\n",
    "            # evaluate the learned policy after the episode\n",
    "            evaluation_score, _ = self.evaluate()\n",
    "            self.evaluation_scores.append(evaluation_score)\n",
    "                \n",
    "            # average stats over some recent episodes\n",
    "            mean_100_train_reward = np.mean(self.episode_reward[-100:])\n",
    "            std_100_train_reward = np.std(self.episode_reward[-100:])\n",
    "            mean_100_eval_score = np.mean(self.evaluation_scores[-100:])\n",
    "            std_100_eval_score = np.std(self.evaluation_scores[-100:])\n",
    "\n",
    "            # report results\n",
    "            result[episode-1] = total_step, mean_100_train_reward, mean_100_eval_score, training_time\n",
    "                \n",
    "            # check max episodes, max minutes and goal achievement criteria\n",
    "            total_elapsed = time.time() - training_start\n",
    "            reached_max_minutes = total_elapsed >= max_minutes * 60\n",
    "            reached_max_episodes = episode >= max_episodes\n",
    "            reached_goal_mean_reward = mean_100_eval_score >= goal_reward\n",
    "            training_is_over = reached_max_minutes or reached_max_episodes or reached_goal_mean_reward\n",
    "                \n",
    "            # informative print logging  \n",
    "            debug_message = 'episode {:04}, steps {:06}, avg eval score {:05.1f} (+/- {:05.1f})'\n",
    "            debug_message = debug_message.format(episode, total_step, mean_100_eval_score, std_100_eval_score)\n",
    "            print(debug_message, end='\\r', flush=True)\n",
    "\n",
    "            # conclude training if we have met any of the stopping conditions \n",
    "            if training_is_over:\n",
    "                print(debug_message)\n",
    "                if reached_max_minutes: print('--> reached_max_minutes ')\n",
    "                if reached_max_episodes: print('--> reached_max_episodes ')\n",
    "                if reached_goal_mean_reward: print('--> reached_goal_mean_reward ')\n",
    "                break\n",
    "            \n",
    "        # evaluate the final policy\n",
    "        final_eval_score, final_eval_std = self.evaluate(n_episodes=100)\n",
    "            \n",
    "        return result, final_eval_score, final_eval_std, training_time\n",
    "\n",
    "    def optimize_model(self, experiences):\n",
    "            \n",
    "        # convert the experiences into separate arrays for each element\n",
    "        states, actions, rewards, next_states, is_terminals = experiences\n",
    "\n",
    "        # get the batch size\n",
    "        batch_size = len(is_terminals)\n",
    "            \n",
    "        # get the values of the Q-function at next state\n",
    "        # remember to detach, we need to treat these values as constants \n",
    "        q_sp = self.model(next_states).detach()\n",
    "            \n",
    "        # get the max value of the next state\n",
    "        max_a_q_sp = q_sp.max(1)[0].unsqueeze(1)\n",
    "            \n",
    "        # one important step, often overlooked, is to ensure \n",
    "        # terminal states are grounded to zero\n",
    "        max_a_q_sp *= (1 - is_terminals)\n",
    "            \n",
    "        # calculate the target \n",
    "        target_q_sa = rewards + self.gamma * max_a_q_sp\n",
    "            \n",
    "        # finally, we get the current estimate of Q(s,a)\n",
    "        q_sa = self.model(states).gather(1, actions)\n",
    "\n",
    "        # create the errors\n",
    "        td_errors = q_sa - target_q_sa\n",
    "            \n",
    "        # calculate the loss, and optimize the online network\n",
    "        value_loss = td_errors.pow(2).mul(0.5).mean()\n",
    "\n",
    "        self.optimizer.zero_grad()\n",
    "        value_loss.backward()\n",
    "        self.optimizer.step()\n",
    "\n",
    "    def interaction_step(self, state):\n",
    "\n",
    "        # interact with environment using the exploration policy\n",
    "        action = self.train_strategy.select_action(self.model, state)\n",
    "\n",
    "        # collect an experience tuple as usual\n",
    "        new_state, reward, is_terminal, is_truncated, info = self.env.step(action)\n",
    "        \n",
    "        # a failure is defined as follows\n",
    "        is_failure = is_terminal and not is_truncated\n",
    "\n",
    "        # collect the experience and store it in the batch \n",
    "        experience = (state, action, reward, new_state, float(is_failure))\n",
    "        self.experiences.append(experience)\n",
    "\n",
    "        # update episode stats\n",
    "        self.episode_reward[-1] += reward\n",
    "        self.episode_timestep[-1] += 1\n",
    "        self.episode_exploration[-1] += int(self.train_strategy.exploratory_action_taken)\n",
    "        \n",
    "        return new_state, is_terminal\n",
    "    \n",
    "    def evaluate(self, n_episodes=1):\n",
    "\n",
    "        # create a list of returns of each episode\n",
    "        rs = []\n",
    "\n",
    "        # loop over the episodes\n",
    "        for _ in range(n_episodes):\n",
    "\n",
    "            # reset the environment before starting the episode\n",
    "            s, d = self.env.reset()[0], False\n",
    "\n",
    "            # initialize the return\n",
    "            rs.append(0)\n",
    "\n",
    "            # interact with the environment until the episode is done \n",
    "            while(True):\n",
    "\n",
    "                # interact with environment using the exploitation policy\n",
    "                a = self.eval_strategy.select_action(self.model, s)\n",
    "\n",
    "                # collect an experience tuple as usual\n",
    "                s, r, d, t, _ = self.env.step(a)\n",
    "\n",
    "                # add the reward to the return of the episode\n",
    "                rs[-1] += r\n",
    "\n",
    "                if d or t:\n",
    "                    break\n",
    "                \n",
    "        return np.mean(rs), np.std(rs)"
   ]
  },
  {
   "cell_type": "markdown",
   "metadata": {},
   "source": [
    "6 - Apply NFQ to the pendulum environment. "
   ]
  },
  {
   "cell_type": "code",
   "execution_count": 29,
   "metadata": {},
   "outputs": [
    {
     "name": "stdout",
     "output_type": "stream",
     "text": [
      "Training started...\n"
     ]
    },
    {
     "ename": "TypeError",
     "evalue": "len() of unsized object",
     "output_type": "error",
     "traceback": [
      "\u001b[0;31m---------------------------------------------------------------------------\u001b[0m",
      "\u001b[0;31mTypeError\u001b[0m                                 Traceback (most recent call last)",
      "\u001b[1;32m/Users/riccardo.berta/Work/Didattica/AA - Autonomous Agents/Lecture Notes/07 - Neural Fitted Q/lab/pendulum.ipynb Cella 16\u001b[0m line \u001b[0;36m2\n\u001b[1;32m     <a href='vscode-notebook-cell:/Users/riccardo.berta/Work/Didattica/AA%20-%20Autonomous%20Agents/Lecture%20Notes/07%20-%20Neural%20Fitted%20Q/lab/pendulum.ipynb#X13sZmlsZQ%3D%3D?line=17'>18</a>\u001b[0m eval_strategy \u001b[39m=\u001b[39m GreedyStrategy()\n\u001b[1;32m     <a href='vscode-notebook-cell:/Users/riccardo.berta/Work/Didattica/AA%20-%20Autonomous%20Agents/Lecture%20Notes/07%20-%20Neural%20Fitted%20Q/lab/pendulum.ipynb#X13sZmlsZQ%3D%3D?line=19'>20</a>\u001b[0m agent \u001b[39m=\u001b[39m NFQ(pendulum, model, optimizer, train_strategy, eval_strategy, seed, batch_size, epochs)\n\u001b[0;32m---> <a href='vscode-notebook-cell:/Users/riccardo.berta/Work/Didattica/AA%20-%20Autonomous%20Agents/Lecture%20Notes/07%20-%20Neural%20Fitted%20Q/lab/pendulum.ipynb#X13sZmlsZQ%3D%3D?line=20'>21</a>\u001b[0m result, score, score_std, training_time \u001b[39m=\u001b[39m agent\u001b[39m.\u001b[39;49mtrain(gamma, max_minutes, max_episodes, goal_reward)\n\u001b[1;32m     <a href='vscode-notebook-cell:/Users/riccardo.berta/Work/Didattica/AA%20-%20Autonomous%20Agents/Lecture%20Notes/07%20-%20Neural%20Fitted%20Q/lab/pendulum.ipynb#X13sZmlsZQ%3D%3D?line=22'>23</a>\u001b[0m \u001b[39mprint\u001b[39m(\u001b[39m'\u001b[39m\u001b[39m...training complete.\u001b[39m\u001b[39m'\u001b[39m)\n\u001b[1;32m     <a href='vscode-notebook-cell:/Users/riccardo.berta/Work/Didattica/AA%20-%20Autonomous%20Agents/Lecture%20Notes/07%20-%20Neural%20Fitted%20Q/lab/pendulum.ipynb#X13sZmlsZQ%3D%3D?line=23'>24</a>\u001b[0m \u001b[39mprint\u001b[39m(\u001b[39m'\u001b[39m\u001b[39mFinal evaluation score \u001b[39m\u001b[39m{:.2f}\u001b[39;00m\u001b[39m\\u00B1\u001b[39;00m\u001b[39m{:.2f}\u001b[39;00m\u001b[39m in \u001b[39m\u001b[39m{:.2f}\u001b[39;00m\u001b[39ms training time\u001b[39m\u001b[39m\\n\u001b[39;00m\u001b[39m'\u001b[39m\u001b[39m.\u001b[39mformat(score, score_std, training_time))\n",
      "\u001b[1;32m/Users/riccardo.berta/Work/Didattica/AA - Autonomous Agents/Lecture Notes/07 - Neural Fitted Q/lab/pendulum.ipynb Cella 16\u001b[0m line \u001b[0;36m6\n\u001b[1;32m     <a href='vscode-notebook-cell:/Users/riccardo.berta/Work/Didattica/AA%20-%20Autonomous%20Agents/Lecture%20Notes/07%20-%20Neural%20Fitted%20Q/lab/pendulum.ipynb#X13sZmlsZQ%3D%3D?line=63'>64</a>\u001b[0m \u001b[39m# interact with the environment until the episode is done\u001b[39;00m\n\u001b[1;32m     <a href='vscode-notebook-cell:/Users/riccardo.berta/Work/Didattica/AA%20-%20Autonomous%20Agents/Lecture%20Notes/07%20-%20Neural%20Fitted%20Q/lab/pendulum.ipynb#X13sZmlsZQ%3D%3D?line=64'>65</a>\u001b[0m \u001b[39mfor\u001b[39;00m step \u001b[39min\u001b[39;00m count():\n\u001b[1;32m     <a href='vscode-notebook-cell:/Users/riccardo.berta/Work/Didattica/AA%20-%20Autonomous%20Agents/Lecture%20Notes/07%20-%20Neural%20Fitted%20Q/lab/pendulum.ipynb#X13sZmlsZQ%3D%3D?line=65'>66</a>\u001b[0m \n\u001b[1;32m     <a href='vscode-notebook-cell:/Users/riccardo.berta/Work/Didattica/AA%20-%20Autonomous%20Agents/Lecture%20Notes/07%20-%20Neural%20Fitted%20Q/lab/pendulum.ipynb#X13sZmlsZQ%3D%3D?line=66'>67</a>\u001b[0m     \u001b[39m# interact with environment using the exploration policy\u001b[39;00m\n\u001b[1;32m     <a href='vscode-notebook-cell:/Users/riccardo.berta/Work/Didattica/AA%20-%20Autonomous%20Agents/Lecture%20Notes/07%20-%20Neural%20Fitted%20Q/lab/pendulum.ipynb#X13sZmlsZQ%3D%3D?line=67'>68</a>\u001b[0m     \u001b[39m# and collect the experience batch\u001b[39;00m\n\u001b[0;32m---> <a href='vscode-notebook-cell:/Users/riccardo.berta/Work/Didattica/AA%20-%20Autonomous%20Agents/Lecture%20Notes/07%20-%20Neural%20Fitted%20Q/lab/pendulum.ipynb#X13sZmlsZQ%3D%3D?line=68'>69</a>\u001b[0m     state, is_terminal \u001b[39m=\u001b[39m \u001b[39mself\u001b[39;49m\u001b[39m.\u001b[39;49minteraction_step(state)\n\u001b[1;32m     <a href='vscode-notebook-cell:/Users/riccardo.berta/Work/Didattica/AA%20-%20Autonomous%20Agents/Lecture%20Notes/07%20-%20Neural%20Fitted%20Q/lab/pendulum.ipynb#X13sZmlsZQ%3D%3D?line=70'>71</a>\u001b[0m     \u001b[39m# if the experience is enough, then optimize the model \u001b[39;00m\n\u001b[1;32m     <a href='vscode-notebook-cell:/Users/riccardo.berta/Work/Didattica/AA%20-%20Autonomous%20Agents/Lecture%20Notes/07%20-%20Neural%20Fitted%20Q/lab/pendulum.ipynb#X13sZmlsZQ%3D%3D?line=71'>72</a>\u001b[0m     \u001b[39mif\u001b[39;00m \u001b[39mlen\u001b[39m(\u001b[39mself\u001b[39m\u001b[39m.\u001b[39mexperiences) \u001b[39m>\u001b[39m\u001b[39m=\u001b[39m \u001b[39mself\u001b[39m\u001b[39m.\u001b[39mbatch_size:\n\u001b[1;32m     <a href='vscode-notebook-cell:/Users/riccardo.berta/Work/Didattica/AA%20-%20Autonomous%20Agents/Lecture%20Notes/07%20-%20Neural%20Fitted%20Q/lab/pendulum.ipynb#X13sZmlsZQ%3D%3D?line=72'>73</a>\u001b[0m \n\u001b[1;32m     <a href='vscode-notebook-cell:/Users/riccardo.berta/Work/Didattica/AA%20-%20Autonomous%20Agents/Lecture%20Notes/07%20-%20Neural%20Fitted%20Q/lab/pendulum.ipynb#X13sZmlsZQ%3D%3D?line=73'>74</a>\u001b[0m         \u001b[39m# load the experiences as tensors for training\u001b[39;00m\n",
      "\u001b[1;32m/Users/riccardo.berta/Work/Didattica/AA - Autonomous Agents/Lecture Notes/07 - Neural Fitted Q/lab/pendulum.ipynb Cella 16\u001b[0m line \u001b[0;36m1\n\u001b[1;32m    <a href='vscode-notebook-cell:/Users/riccardo.berta/Work/Didattica/AA%20-%20Autonomous%20Agents/Lecture%20Notes/07%20-%20Neural%20Fitted%20Q/lab/pendulum.ipynb#X13sZmlsZQ%3D%3D?line=168'>169</a>\u001b[0m \u001b[39mdef\u001b[39;00m \u001b[39minteraction_step\u001b[39m(\u001b[39mself\u001b[39m, state):\n\u001b[1;32m    <a href='vscode-notebook-cell:/Users/riccardo.berta/Work/Didattica/AA%20-%20Autonomous%20Agents/Lecture%20Notes/07%20-%20Neural%20Fitted%20Q/lab/pendulum.ipynb#X13sZmlsZQ%3D%3D?line=169'>170</a>\u001b[0m \n\u001b[1;32m    <a href='vscode-notebook-cell:/Users/riccardo.berta/Work/Didattica/AA%20-%20Autonomous%20Agents/Lecture%20Notes/07%20-%20Neural%20Fitted%20Q/lab/pendulum.ipynb#X13sZmlsZQ%3D%3D?line=170'>171</a>\u001b[0m     \u001b[39m# interact with environment using the exploration policy\u001b[39;00m\n\u001b[0;32m--> <a href='vscode-notebook-cell:/Users/riccardo.berta/Work/Didattica/AA%20-%20Autonomous%20Agents/Lecture%20Notes/07%20-%20Neural%20Fitted%20Q/lab/pendulum.ipynb#X13sZmlsZQ%3D%3D?line=171'>172</a>\u001b[0m     action \u001b[39m=\u001b[39m \u001b[39mself\u001b[39;49m\u001b[39m.\u001b[39;49mtrain_strategy\u001b[39m.\u001b[39;49mselect_action(\u001b[39mself\u001b[39;49m\u001b[39m.\u001b[39;49mmodel, state)\n\u001b[1;32m    <a href='vscode-notebook-cell:/Users/riccardo.berta/Work/Didattica/AA%20-%20Autonomous%20Agents/Lecture%20Notes/07%20-%20Neural%20Fitted%20Q/lab/pendulum.ipynb#X13sZmlsZQ%3D%3D?line=173'>174</a>\u001b[0m     \u001b[39m# collect an experience tuple as usual\u001b[39;00m\n\u001b[1;32m    <a href='vscode-notebook-cell:/Users/riccardo.berta/Work/Didattica/AA%20-%20Autonomous%20Agents/Lecture%20Notes/07%20-%20Neural%20Fitted%20Q/lab/pendulum.ipynb#X13sZmlsZQ%3D%3D?line=174'>175</a>\u001b[0m     new_state, reward, is_terminal, is_truncated, info \u001b[39m=\u001b[39m \u001b[39mself\u001b[39m\u001b[39m.\u001b[39menv\u001b[39m.\u001b[39mstep(action)\n",
      "\u001b[1;32m/Users/riccardo.berta/Work/Didattica/AA - Autonomous Agents/Lecture Notes/07 - Neural Fitted Q/lab/pendulum.ipynb Cella 16\u001b[0m line \u001b[0;36m2\n\u001b[1;32m     <a href='vscode-notebook-cell:/Users/riccardo.berta/Work/Didattica/AA%20-%20Autonomous%20Agents/Lecture%20Notes/07%20-%20Neural%20Fitted%20Q/lab/pendulum.ipynb#X13sZmlsZQ%3D%3D?line=18'>19</a>\u001b[0m     action \u001b[39m=\u001b[39m np\u001b[39m.\u001b[39margmax(q_values)\n\u001b[1;32m     <a href='vscode-notebook-cell:/Users/riccardo.berta/Work/Didattica/AA%20-%20Autonomous%20Agents/Lecture%20Notes/07%20-%20Neural%20Fitted%20Q/lab/pendulum.ipynb#X13sZmlsZQ%3D%3D?line=19'>20</a>\u001b[0m \u001b[39melse\u001b[39;00m: \n\u001b[1;32m     <a href='vscode-notebook-cell:/Users/riccardo.berta/Work/Didattica/AA%20-%20Autonomous%20Agents/Lecture%20Notes/07%20-%20Neural%20Fitted%20Q/lab/pendulum.ipynb#X13sZmlsZQ%3D%3D?line=20'>21</a>\u001b[0m     \u001b[39m# ...otherwise, act randomly\u001b[39;00m\n\u001b[0;32m---> <a href='vscode-notebook-cell:/Users/riccardo.berta/Work/Didattica/AA%20-%20Autonomous%20Agents/Lecture%20Notes/07%20-%20Neural%20Fitted%20Q/lab/pendulum.ipynb#X13sZmlsZQ%3D%3D?line=21'>22</a>\u001b[0m     action \u001b[39m=\u001b[39m np\u001b[39m.\u001b[39mrandom\u001b[39m.\u001b[39mrandint(\u001b[39mlen\u001b[39;49m(q_values))\n\u001b[1;32m     <a href='vscode-notebook-cell:/Users/riccardo.berta/Work/Didattica/AA%20-%20Autonomous%20Agents/Lecture%20Notes/07%20-%20Neural%20Fitted%20Q/lab/pendulum.ipynb#X13sZmlsZQ%3D%3D?line=23'>24</a>\u001b[0m \u001b[39mself\u001b[39m\u001b[39m.\u001b[39mexploratory_action_taken \u001b[39m=\u001b[39m (action \u001b[39m!=\u001b[39m np\u001b[39m.\u001b[39margmax(q_values))\n\u001b[1;32m     <a href='vscode-notebook-cell:/Users/riccardo.berta/Work/Didattica/AA%20-%20Autonomous%20Agents/Lecture%20Notes/07%20-%20Neural%20Fitted%20Q/lab/pendulum.ipynb#X13sZmlsZQ%3D%3D?line=24'>25</a>\u001b[0m \u001b[39mreturn\u001b[39;00m action\n",
      "\u001b[0;31mTypeError\u001b[0m: len() of unsized object"
     ]
    }
   ],
   "source": [
    "gamma = 0.99\n",
    "\n",
    "max_minutes = 20\n",
    "max_episodes = 1000\n",
    "goal_reward = 10\n",
    "\n",
    "batch_size = 1024\n",
    "epochs = 40\n",
    "seed = 12\n",
    "\n",
    "nS, nA = pendulum.observation_space.shape[0], 1\n",
    "\n",
    "print('Training started...')\n",
    "\n",
    "model = FCQ(nS, nA, hidden_dims=(512,128))\n",
    "optimizer = optim.RMSprop(model.parameters(), lr=0.0005)\n",
    "train_strategy = EGreedyStrategy(epsilon=0.5)\n",
    "eval_strategy = GreedyStrategy()\n",
    "    \n",
    "agent = NFQ(pendulum, model, optimizer, train_strategy, eval_strategy, seed, batch_size, epochs)\n",
    "result, score, score_std, training_time = agent.train(gamma, max_minutes, max_episodes, goal_reward)\n",
    "    \n",
    "print('...training complete.')\n",
    "print('Final evaluation score {:.2f}\\u00B1{:.2f} in {:.2f}s training time\\n'.format(score, score_std, training_time))"
   ]
  },
  {
   "cell_type": "markdown",
   "metadata": {},
   "source": [
    "**3 - show the learning curves** "
   ]
  },
  {
   "cell_type": "code",
   "execution_count": 29,
   "metadata": {},
   "outputs": [
    {
     "data": {
      "image/png": "[encoded data removed]",
      "text/plain": [
       "<Figure size 864x360 with 1 Axes>"
      ]
     },
     "metadata": {
      "needs_background": "light"
     },
     "output_type": "display_data"
    }
   ],
   "source": [
    "import matplotlib.pyplot as plt\n",
    "\n",
    "steps, train_reward, eval_score, time = result.T\n",
    "\n",
    "plt.figure(figsize=(12,5))\n",
    "plt.plot(train_reward, linewidth=1)\n",
    "plt.title('Moving Avg Reward (Training)')\n",
    "plt.ylabel('Reward')\n",
    "plt.xlabel('Episodes')\n",
    "plt.show()"
   ]
  },
  {
   "cell_type": "code",
   "execution_count": 30,
   "metadata": {},
   "outputs": [
    {
     "data": {
      "image/png": "[encoded data removed]",
      "text/plain": [
       "<Figure size 864x360 with 1 Axes>"
      ]
     },
     "metadata": {
      "needs_background": "light"
     },
     "output_type": "display_data"
    }
   ],
   "source": [
    "plt.figure(figsize=(12,5))\n",
    "plt.plot(eval_score, linewidth=1)\n",
    "plt.title('Moving Avg Reward (Evaluation)')\n",
    "plt.ylabel('Reward')\n",
    "plt.xlabel('Episodes')\n",
    "plt.show()"
   ]
  },
  {
   "cell_type": "markdown",
   "metadata": {},
   "source": [
    "**4 - show the policy behaviour**"
   ]
  },
  {
   "cell_type": "code",
   "execution_count": 40,
   "metadata": {},
   "outputs": [],
   "source": [
    "def show_policy(agent, env, steps=100):\n",
    "    plt.axis('off')\n",
    "    observation = env.reset()\n",
    "    done = False\n",
    "    for _ in range(steps): \n",
    "        action = agent.eval_strategy.select_action(agent.model, observation)\n",
    "        observation, _, done, _ = env.step(action)\n",
    "        if done: \n",
    "            observation = env.reset()\n",
    "        display.clear_output(wait=True)\n",
    "        plt.axis('off')\n",
    "        plt.imshow(env.render(mode='rgb_array'))\n",
    "        plt.show()   \n",
    "    env.close()\n",
    "    return"
   ]
  },
  {
   "cell_type": "code",
   "execution_count": 41,
   "metadata": {},
   "outputs": [
    {
     "data": {
      "image/png": "[encoded data removed]",
      "text/plain": [
       "<Figure size 432x288 with 1 Axes>"
      ]
     },
     "metadata": {
      "needs_background": "light"
     },
     "output_type": "display_data"
    }
   ],
   "source": [
    "env = gym.make('Acrobot-v1');\n",
    "show_policy(agent, env, steps=200)"
   ]
  }
 ],
 "metadata": {
  "colab": {
   "collapsed_sections": [],
   "name": "math_differential_calculus",
   "provenance": [],
   "toc_visible": true
  },
  "interpreter": {
   "hash": "8aeb84091b1f1fb8d8b9efbf1e96a552fa0144c39bfbc7f744113ad2216f701d"
  },
  "kernelspec": {
   "display_name": "Python 3 (ipykernel)",
   "language": "python",
   "name": "python3"
  },
  "language_info": {
   "codemirror_mode": {
    "name": "ipython",
    "version": 3
   },
   "file_extension": ".py",
   "mimetype": "text/x-python",
   "name": "python",
   "nbconvert_exporter": "python",
   "pygments_lexer": "ipython3",
   "version": "3.11.4"
  },
  "pycharm": {
   "stem_cell": {
    "cell_type": "raw",
    "metadata": {
     "collapsed": false
    },
    "source": []
   }
  }
 },
 "nbformat": 4,
 "nbformat_minor": 4
}
