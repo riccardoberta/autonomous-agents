{
 "cells": [
  {
   "cell_type": "markdown",
   "metadata": {},
   "source": [
    "## Atari Games\n",
    "\n",
    "**Atari 2600** is a video game console which provides several popular games such as pong, space invaders, pacman, break out, centipede and many more. Gymnasium includes [ALE-py](https://pypi.org/project/ale-py/), the **Arcade Learning Environment (ALE)** which is a simple framework that allows researchers to develop AI agents for Atari 2600 games. It is built on top of the **Stella emulator** and separates the details of emulation from agent design. The main Gymnasium page provides a list of all the [Atari environments](https://gymnasium.farama.org/environments/atari/). The objective of this notebook is to **train an agent to play a game of the Atari console** using the DQN algorithm **learning from raw pixel data**, like in the famous paper [V. Mnih, et al. **\"Playing Atari with Deep Reinforcement Learning\"**, NIPS 2013](./../papers/2013%20-%20Playing%20Atari%20with%20Deep%20Reinforcement%20Learning.pdf):\n",
    "\n",
    "![](./images/atari.png)\n",
    "\n",
    "In particular, we can consider **the classic [Pong](https://gymnasium.farama.org/environments/atari/pong/) game**. The game is played like tennis. Using a controller, each player hits the ball by moving vertically the paddles on the game field. A player scores one point when the opponent misses a hit. The first player who scores 21 points wins the game. The action space is discrete and deterministic with 6 actions (not all meaningful for Pong): 0 (noop), 1 (fire), 2 (right) and 3 (left), 4 (right fire), 5 (left fire) The observation space is the screen image (210x160x3). The state space is really high-dimensional and to use it you need to modify the neural network architecture adding some convolutional layer in order to extract features from the image."
   ]
  },
  {
   "cell_type": "markdown",
   "metadata": {},
   "source": [
    "1 - Define a variable with the name of the Atari game you want to solve (e.g. Pong) and create an instance of the environment."
   ]
  },
  {
   "cell_type": "code",
   "execution_count": 1,
   "metadata": {},
   "outputs": [
    {
     "name": "stderr",
     "output_type": "stream",
     "text": [
      "A.L.E: Arcade Learning Environment (version 0.10.1+6a7e0ae)\n",
      "[Powered by Stella]\n"
     ]
    }
   ],
   "source": [
    "# YOUR CODE HERE\n",
    "\n",
    "# Import Gymnasium and create an instance with \"render_mode\" set to \"rgb_array\". You \n",
    "# need to import also \"ale_py\" plugin and to register it with Gymnasium (gym.register_envs(ale_py)).\n",
    "# Set also the parameter \"frameskip\" to 1. Later, we will see that we want to control\n",
    "# the number of frames to skip as a parameter of our code.\n",
    "\n",
    "import gymnasium as gym\n",
    "import ale_py\n",
    "gym.register_envs(ale_py)\n",
    "\n",
    "pong = gym.make('ALE/Pong-v5', render_mode=\"rgb_array\", frameskip=1)"
   ]
  },
  {
   "cell_type": "markdown",
   "metadata": {},
   "source": [
    "2 - Create a function to show the game in action by rendering the environment and selecting actions at random or using a policy."
   ]
  },
  {
   "cell_type": "code",
   "execution_count": 2,
   "metadata": {},
   "outputs": [],
   "source": [
    "# YOUR CODE HERE\n",
    "\n",
    "# Define a function \"random_pi\" that takes as input a state and a Q-function and \n",
    "# returns a random action.\n",
    "\n",
    "import numpy as np\n",
    "\n",
    "def random_pi(state, q):\n",
    "    return np.random.randint(6);"
   ]
  },
  {
   "cell_type": "code",
   "execution_count": 3,
   "metadata": {},
   "outputs": [],
   "source": [
    "# YOUR CODE HERE\n",
    "\n",
    "# Define a function \"show_policy\" that takes as input an environment, \n",
    "# a policy and a Q-function and shows the policy in action for a number of episodes\n",
    "\n",
    "import matplotlib.pyplot as plt\n",
    "from IPython.display import clear_output\n",
    "\n",
    "def show_policy(env, pi, q, n_episodes=1, max_steps=500):\n",
    "    for _ in range(n_episodes):\n",
    "        state = env.reset()[0];\n",
    "        done = False;\n",
    "        step = 0;\n",
    "        while not done:\n",
    "            action = pi(state, q);\n",
    "            state, reward, terminated, truncated, info = env.step(action);\n",
    "            if(terminated or truncated): done = True;\n",
    "            plt.imshow(env.render());\n",
    "            plt.show();\n",
    "            clear_output(wait=True);\n",
    "            if step > max_steps: break;\n",
    "            step += 1; "
   ]
  },
  {
   "cell_type": "markdown",
   "metadata": {},
   "source": [
    "3 - Use the previous function in order to see one episode of the game with a random policy."
   ]
  },
  {
   "cell_type": "code",
   "execution_count": 4,
   "metadata": {},
   "outputs": [
    {
     "data": {
      "image/png": "[encoded data removed]",
      "text/plain": [
       "<Figure size 640x480 with 1 Axes>"
      ]
     },
     "metadata": {},
     "output_type": "display_data"
    }
   ],
   "source": [
    "# YOUR CODE HERE\n",
    "\n",
    "# Just call the \"show_policy\" function defined above passing the environment, None as agent and \n",
    "# the number of episodes you want to visualize\n",
    "\n",
    "show_policy(pong, random_pi, None, n_episodes=1, max_steps=500);"
   ]
  },
  {
   "cell_type": "markdown",
   "metadata": {},
   "source": [
    "4 - We would like to use as state the raw pixels data. However, **directly feeding the raw game screen image is not efficient**, since it will be **computationally expensive**. So we need to pre-process the environment output to reduce the dimensionality of the problem. Moreover the Atari environments have some game specific issues, which are not relevant for the learning process, that we need to manage. In order to do that, you can use the **wrapper function**, which is a convenient way to modify an existing environment without having to alter the underlying code directly. Using wrappers will allow you to avoid a lot of boilerplate code and make our environment more modular. Here a list of the useful modifications that we can apply to the Atari environment: \n",
    "\n",
    "1) The raw game screen size is 210x160 pixels with three color channels (RGB), however we don't need the color information and we can resize the image in order to reduce the dimensionality of the problem.\n",
    "\n",
    "![](./images/resize.png)\n",
    "\n",
    "2) Atari games typically run at 60 frames per second, however not every frame contains crucial information for decision-making. To reduce computation and memory requirements, and to speed up training, we can skip a certain number of frames. Moreover, some games have a flickering effect (when the game draws different portions of the screen on even and odd frames) due to the old Atari platform’s limitation. For the human eye, such quick changes are not visible, but they can confuse a neural network. So, we can take the maximum of every pixel in the last two frames and use it as observation.\n",
    "\n",
    "3) In order to inject variability into the initial state of each episode, promoting exploration and helping the agent discover a more robust policy across different starting conditions, we can introduce a certain number of \"no-operation\" actions at the beginning of each episode in order to add stochasticity to the initial conditions of the environment. \n",
    "\n",
    "Add a wrapper in order to apply all those modifications to the environment."
   ]
  },
  {
   "cell_type": "code",
   "execution_count": 5,
   "metadata": {},
   "outputs": [],
   "source": [
    "# YOUR CODE HERE\n",
    "\n",
    "# Gymnasium provides a wrapper to apply those pre-porcessing to the \n",
    "# observations for the Atari games, you can use the \"AtariPreprocessing\" wrapper \n",
    "# from \"gymnasium.wrappers\" module.\n",
    "\n",
    "pong = gym.wrappers.AtariPreprocessing(pong,\n",
    "                                       noop_max = 30,          # the max number no-ops actions are taken at reset\n",
    "                                       frame_skip = 4,         # the number of frames between new observation\n",
    "                                       screen_size = 84,       # resize the image frame\n",
    "                                       grayscale_obs = True,   # convert the image frame to grayscale\n",
    "                                       scale_obs = True)       # scale the image frame"
   ]
  },
  {
   "cell_type": "markdown",
   "metadata": {},
   "source": [
    "5 - A single raw screenshot of the game used as state is not enough to extract the information about the game state. How can the agent learn to play just seeing a single image at a time? It is **not possible to build an idea about how the game objects are moving**. In Pong, just looking at a single frame don't provide enough information to understand if the ball is moving left to right or right to left. For example, in the Cart-pole example, the state is composed by the position of the cart, the angle of the pole, but it includes also the velocity of both. To deal with this, we need to consider as state a series of frame and not just one. In this way, the agent can learn how the objects are moving. So, we need to apply a wrapper that will stack the last N (e.g. 4) frames together and use them as state.\n",
    "\n",
    "![](./images/stack.png)"
   ]
  },
  {
   "cell_type": "code",
   "execution_count": 6,
   "metadata": {},
   "outputs": [],
   "source": [
    "# YOUR CODE HERE\n",
    "\n",
    "# Gymnasium provides the \"FrameStackObservation\" wrapper to stack the last n frames of the game. Apply it to the\n",
    "# environment.\n",
    "\n",
    "pong = gym.wrappers.FrameStack(pong, 4);"
   ]
  },
  {
   "cell_type": "markdown",
   "metadata": {},
   "source": [
    "\n",
    "6 - Some games, as Pong, require a user to press the FIRE button to start the game, we need to take this action on reset. Add another wrapper to take this action on reset.\n"
   ]
  },
  {
   "cell_type": "code",
   "execution_count": 7,
   "metadata": {},
   "outputs": [],
   "source": [
    "# YOUR CODE HERE\n",
    "\n",
    "# This wrapper che be found in th stable_baselines3 library. It is called \"FireResetEnv\"\n",
    "# Import it and apply it to the environment.\n",
    "\n",
    "import stable_baselines3\n",
    "\n",
    "pong = stable_baselines3.common.atari_wrappers.FireResetEnv(pong);"
   ]
  },
  {
   "cell_type": "markdown",
   "metadata": {},
   "source": [
    "7 - Finally, we write a \"make_atari_env()\" function that takes as input the name of the environment and returns the wrapped environment\n",
    "\n",
    "![](./images/pre-processing.png)"
   ]
  },
  {
   "cell_type": "code",
   "execution_count": 8,
   "metadata": {},
   "outputs": [],
   "source": [
    "# YOUR CODE HERE\n",
    "\n",
    "# You create an environment and then apply in order all the wrappers needed\n",
    "\n",
    "def make_atari_env(env_name, mode=\"rgb_array\", seed=None):\n",
    "\n",
    "    # create the environment\n",
    "    env = gym.make(env_name, render_mode=mode, frameskip=1);\n",
    "\n",
    "    if seed is not None:\n",
    "        env.np_random = np.random.Generator(np.random.PCG64(seed));\n",
    "\n",
    "    # apply the fire reset wrapper\n",
    "    env = stable_baselines3.common.atari_wrappers.FireResetEnv(env);\n",
    "\n",
    "    # apply a wrapper to skip frames, scale the observation and convert it to grayscale\n",
    "    env = gym.wrappers.AtariPreprocessing(env, noop_max=30, frame_skip=4, screen_size=84, grayscale_obs=True, scale_obs=True); \n",
    "\n",
    "    # apply a wrapper to stack the frames\n",
    "    env = gym.wrappers.FrameStack(env, 4);\n",
    "\n",
    "    # return the environment\n",
    "    return env;\n",
    "\n",
    "# set the seed for reproducibility\n",
    "seed = 42;\n",
    "\n",
    "# set the name of the Atari environment\n",
    "env_name = 'ALE/Pong-v5';\n",
    "\n",
    "# create the environment\n",
    "pong = make_atari_env(env_name, seed=seed);"
   ]
  },
  {
   "cell_type": "markdown",
   "metadata": {},
   "source": [
    "8 - Since we are dealing with images, **instead of using a fully connected neural network, this time we need to use a convolutional neural network**. The convolutional layers extract the features from the image and output the feature maps, then the flattened feature map can be fed to the fully connected layer which returns the Q value. You can implement the following architecture:\n",
    "\n",
    "- Convolutional layer with 32 filters, kernel size 8, stride 4, padding 0, followed by a ReLU activation function\n",
    "- Convolutional layer with 64 filters, kernel size 4, stride 2, padding 0, followed by a ReLU activation function\n",
    "- Convolutional layer with 64 filters, kernel size 3, stride 1, padding 0, followed by a ReLU activation function\n",
    "- Flatten layer\n",
    "- Fully connected layer with 512 units, followed by a ReLU activation function\n",
    "- Fully connected layer with a number of units equal to the number of actions \n",
    "\n",
    "![](./images/network.png)"
   ]
  },
  {
   "cell_type": "code",
   "execution_count": 9,
   "metadata": {},
   "outputs": [
    {
     "name": "stdout",
     "output_type": "stream",
     "text": [
      "Using device: mps\n"
     ]
    }
   ],
   "source": [
    "# YOUR CODE HERE\n",
    "\n",
    "# Add the code for th neural network using the PyTorch library. And \n",
    "# create two networks, one for the online network and one for the target network.  \n",
    "\n",
    "import torch\n",
    "\n",
    "# set the seed for reproducibility \n",
    "torch.manual_seed(seed);\n",
    "\n",
    "# make device available\n",
    "device = None;\n",
    "\n",
    "# set the backend device to MPS, if available\n",
    "if torch.backends.mps.is_available():\n",
    "    device = torch.device(\"mps\");\n",
    "else:\n",
    "    device = torch.device(\"cpu\");\n",
    "\n",
    "# print the used device    \n",
    "print(f\"Using device: {device}\");\n",
    "\n",
    "def create_network(input_size, output_size):\n",
    "\n",
    "    dnn = torch.nn.Sequential(\n",
    "        #conlutional layers\n",
    "        torch.nn.Conv2d(input_size[0], 32, kernel_size=8, stride=4),\n",
    "        torch.nn.ReLU(),\n",
    "        torch.nn.Conv2d(32, 64, kernel_size=4, stride=2),\n",
    "        torch.nn.ReLU(),\n",
    "        torch.nn.Conv2d(64, 64, kernel_size=3, stride=1),\n",
    "        torch.nn.ReLU(),\n",
    "        \n",
    "        # flatten the output\n",
    "        torch.nn.Flatten(),\n",
    "\n",
    "        # fully connected layers\n",
    "        torch.nn.Linear(7 * 7 * 64, 512),\n",
    "        torch.nn.ReLU(),\n",
    "        torch.nn.Linear(512, output_size));\n",
    "    \n",
    "    return dnn.to(device);\n",
    "\n",
    "def set_optimizer(model, learning_rate):\n",
    "    optimizer = torch.optim.RMSprop(model.parameters(), \n",
    "                                    lr=learning_rate,   # Learning rate\n",
    "                                    momentum=0.95,      # Momentum\n",
    "                                    eps=0.01,           # Epsilon for numerical stability\n",
    "                                    alpha=0.99);        # Smoothing constant (default: 0.99))\n",
    "    return optimizer;\n",
    "\n",
    "\n",
    "def update_target(target_model, online_model):\n",
    "    for target, online in zip(target_model.parameters(), online_model.parameters()):\n",
    "        target.data.copy_(online.data);\n",
    "    \n",
    "def pi(state, online_q):\n",
    "    # convert the state into a tensor\n",
    "    state = np.array(state);\n",
    "    state = torch.from_numpy(state).unsqueeze(0).to(device);\n",
    "\n",
    "    # calculate q_values from the network\n",
    "    q_values = online_q(state).detach();\n",
    "\n",
    "    # act greedy\n",
    "    action = np.argmax(q_values.cpu()).data.numpy();\n",
    "    \n",
    "    return action;\n",
    "\n",
    "state_size = pong.observation_space.shape;\n",
    "action_size = pong.action_space.n;\n",
    "\n",
    "dnn_online = create_network(state_size, action_size);\n",
    "dnn_target = create_network(state_size, action_size);\n",
    "\n",
    "learning_rate = 0.00025;\n",
    "optimizer_online = torch.optim.RMSprop(dnn_online.parameters(), lr=learning_rate);"
   ]
  },
  {
   "cell_type": "markdown",
   "metadata": {},
   "source": [
    "9 - Add the Replay Memory to store the transitions (state, action, reward, next_state, done)."
   ]
  },
  {
   "cell_type": "code",
   "execution_count": 10,
   "metadata": {},
   "outputs": [],
   "source": [
    "# YOUR CODE HERE\n",
    "\n",
    "# Add the code for the replay buffer already used presented in the DQN implementation.\n",
    "#  We need a larger replay buffer because the problem is more complex. \n",
    "\n",
    "replay_memory_size = 100000;\n",
    "\n",
    "# define the experience type\n",
    "experience_type = np.dtype([\n",
    "    ('state', np.float32, (state_size)), \n",
    "    ('action', np.int32),                  \n",
    "    ('reward', np.float32),               \n",
    "    ('next_state', np.float32, (state_size)),  \n",
    "    ('failure', np.int8)                  \n",
    "])\n",
    "\n",
    "# create the replay memory\n",
    "replay_memory = {\n",
    "    'size': replay_memory_size,\n",
    "    'buffer': np.empty(shape=(replay_memory_size,), dtype=experience_type),\n",
    "    'index': 0,\n",
    "    'entries': 0\n",
    "}\n",
    "\n",
    "def store_experience(replay_memory, experience):\n",
    "    # store the experience in the buffer\n",
    "    replay_memory['buffer'][replay_memory['index']] = experience;\n",
    "    \n",
    "    # update the number of experiences in the buffer\n",
    "    replay_memory['entries'] = min(replay_memory['entries'] + 1, replay_memory['size']);\n",
    "\n",
    "    # update index, if the memory is full, start from the begging \n",
    "    replay_memory['index'] += 1;\n",
    "    replay_memory['index'] = replay_memory['index'] % replay_memory['size'];\n",
    "\n",
    "def sample_experiences(replay_memory, batch_size):\n",
    "\n",
    "    # select uniformly at random a batch of experiences from the memory\n",
    "    idxs = np.random.choice(range(replay_memory['entries']), batch_size, replace=False);  \n",
    "\n",
    "    # return the batch of experiences\n",
    "    experiences = replay_memory['buffer'][idxs];\n",
    "\n",
    "    return experiences;"
   ]
  },
  {
   "cell_type": "markdown",
   "metadata": {},
   "source": [
    "10 - Create a the code for exploration (decaying epsilon-greedy policy) and exploitation (greedy policy) and the code for doing the evaluation of the agent."
   ]
  },
  {
   "cell_type": "code",
   "execution_count": 11,
   "metadata": {},
   "outputs": [],
   "source": [
    "# YOUR CODE HERE\n",
    "\n",
    "# Add the code for decaying epsilon and the epsilon-greedy policy as already\n",
    "# done for the DQN implementation\n",
    "\n",
    "import random\n",
    "\n",
    "def decay_epsilon(max, min, decay_steps):\n",
    "    values = np.logspace(start=0, stop=-2, num=decay_steps, base=10);\n",
    "    values = (values - values.min()) / (values.max() - values.min());\n",
    "    values = (max - min) * values + min;\n",
    "    return values;\n",
    "\n",
    "def epsilon_greedy(dnn, state, action_size, epsilon):\n",
    "    if random.uniform(0,1) < epsilon:\n",
    "        return np.random.randint(action_size);\n",
    "    else:\n",
    "        # convert the state into a tensor\n",
    "        state = np.array(state);\n",
    "        state = torch.from_numpy(state).unsqueeze(0).to(device);\n",
    "        # calculate q_values from the network\n",
    "        q_values = dnn(state).detach();\n",
    "        # act greedy\n",
    "        action = np.argmax(q_values.cpu()).data.numpy();\n",
    "        # return the action\n",
    "        return action;\n"
   ]
  },
  {
   "cell_type": "code",
   "execution_count": 12,
   "metadata": {},
   "outputs": [],
   "source": [
    "# YOUR CODE HERE\n",
    "\n",
    "# Add the code for an evaluation or the agent as already\n",
    "# done for the DQN implementation.\n",
    "\n",
    "def evaluate(env, pi, q, episodes=1):\n",
    "    rewards = [];\n",
    "\n",
    "    for episode in range(episodes):\n",
    "        state, done = env.reset()[0], False;\n",
    "        rewards.append(0);\n",
    "        while not done:\n",
    "            action = pi(state, q);\n",
    "            state, reward, terminal, truncated, info = env.step(action)\n",
    "            rewards[-1] += reward;\n",
    "            done = terminal or truncated;\n",
    "\n",
    "    return np.mean(rewards);"
   ]
  },
  {
   "cell_type": "markdown",
   "metadata": {},
   "source": [
    "11 - Add the code for the optimization of the Q-function based on the experience sampled from the replay buffer. Remember to use the target network to compute the target Q-values."
   ]
  },
  {
   "cell_type": "code",
   "execution_count": 13,
   "metadata": {},
   "outputs": [],
   "source": [
    "# YOUR CODE HERE\n",
    "\n",
    "# Add the code of the optimization algorithm as already\n",
    "# done for the DQN implementation. This time you need to to pay attention\n",
    "# to states which are a stack of four images\n",
    "\n",
    "def optimize(replay_memory, batch_size, online_model, target_model, optimizer, gamma):\n",
    "\n",
    "    # sample a batch of experiences\n",
    "    batch = sample_experiences(replay_memory, batch_size);\n",
    "    \n",
    "    # prepare the experience as tensors\n",
    "    states = torch.from_numpy(batch['state'].copy()).float().to(device);\n",
    "    actions = torch.from_numpy(batch['action'].copy()).long().to(device);    \n",
    "    next_states = torch.from_numpy(batch['next_state'].copy()).float().to(device);\n",
    "    rewards = torch.from_numpy(batch['reward'].copy()).float().to(device);\n",
    "    failures = torch.from_numpy(batch['failure'].copy()).long().to(device);\n",
    "\n",
    "    # get the values of the Q-function at next state from the \"target\" network \n",
    "    # remember to detach, we need to treat these values as constants \n",
    "    q_target_next = target_model(next_states).detach();\n",
    "    \n",
    "    # get the max value \n",
    "    max_q_target_next = q_target_next.max(1)[0];\n",
    "\n",
    "    # one important step, often overlooked, is to ensure \n",
    "    # that failure states are grounded to zero\n",
    "    max_q_target_next *= (1 - failures.float())\n",
    "\n",
    "    # calculate the target \n",
    "    target = rewards + gamma * max_q_target_next;\n",
    "\n",
    "    # finally, we get the current estimate of Q(s,a)\n",
    "    # here we query the current \"online\" network\n",
    "    q_online_current = torch.gather(online_model(states), 1, actions.unsqueeze(1)).squeeze(1);\n",
    "\n",
    "    # create the errors\n",
    "    td_error = target - q_online_current;\n",
    "\n",
    "    # calculate the loss\n",
    "    loss = td_error.pow(2).mean();\n",
    "\n",
    "    # backward pass: compute the gradients\n",
    "    optimizer.zero_grad();\n",
    "    loss.backward();\n",
    "\n",
    "    # update model parameters\n",
    "    optimizer.step();\n",
    "\n",
    "    return loss.detach().cpu().numpy();"
   ]
  },
  {
   "cell_type": "markdown",
   "metadata": {},
   "source": [
    "12 - Write the code of the DQN algorithm (exploiting the new convolutional network architecture). You should modify the code in order to save the network weights after some episodes."
   ]
  },
  {
   "cell_type": "code",
   "execution_count": 14,
   "metadata": {},
   "outputs": [],
   "source": [
    "# YOUR CODE HERE\n",
    "\n",
    "# Add the code for the DQN algorithm, exploiting the convolutional neural architecture\n",
    "# already defined, the replay buffer as already implemented in DQN algorithm. \n",
    "# At the begging, if a model file is already present on the disk, you should load the weights and \n",
    "# sometimes, you should save the model on the disk.\n",
    "\n",
    "def dqn(env, online_model, target_model, optimizer,\n",
    "        replay_memory, batch_size, target_update_steps,\n",
    "        exploration_strategy, epsilon_max, epsilon_min, epsilon_decay_steps, \n",
    "        gamma, max_episodes):\n",
    "    \n",
    "    # create a score tracker for statistic purposes\n",
    "    scores = [];\n",
    "\n",
    "    # create a list of epsilon values\n",
    "    epsilons = decay_epsilon(epsilon_max, epsilon_min, epsilon_decay_steps);\n",
    "    \n",
    "    # counter for the number of steps \n",
    "    step = 0;\n",
    "\n",
    "    # save the best score and episode obtained so far\n",
    "    best_score = -1000;\n",
    "    best_episode = -1000;\n",
    "\n",
    "    # update the target model with the online one\n",
    "    update_target(target_model, online_model);\n",
    "                   \n",
    "    # train until for the maximum number of episodes\n",
    "    for episode in range(max_episodes):\n",
    "        \n",
    "        # reset the environment before starting the episode\n",
    "        state, done = env.reset()[0], False;\n",
    "\n",
    "        # interact with the environment until the episode is done\n",
    "        while not done:\n",
    "            \n",
    "            # calculate the epsilon value\n",
    "            epsilon = epsilons[step] if step < epsilon_decay_steps else epsilon_min;\n",
    "        \n",
    "            # select the action using the exploration policy\n",
    "            action = exploration_strategy(online_model, state, action_size, epsilon);\n",
    "            \n",
    "            # perform the selected action\n",
    "            next_state, reward, terminal, truncated, info = env.step(action);\n",
    "            done = terminal or truncated;\n",
    "            failure = terminal and not truncated;\n",
    "\n",
    "            # store the experience into the replay buffer\n",
    "            experience = (state, action, reward, next_state, failure);\n",
    "            store_experience(replay_memory, experience);\n",
    "    \n",
    "            # optimize the online model after the replay buffer is large enough\n",
    "            if replay_memory['entries'] > batch_size:\n",
    "\n",
    "                # optimize the online model    \n",
    "                optimize(replay_memory, batch_size,  online_model, target_model, optimizer, gamma);\n",
    "                 \n",
    "            # sometimes, synchronize the target model with the online model\n",
    "            if step % target_update_steps == 0:\n",
    "                update_target(target_model, online_model);\n",
    "\n",
    "            # update current state to next state\n",
    "            state = next_state;\n",
    "\n",
    "            # update the step counter\n",
    "            step += 1;\n",
    "\n",
    "        # After each episode, evaluate the policy\n",
    "        score = evaluate(env, pi, online_model, episodes=1);\n",
    "\n",
    "        # store the best score and episode\n",
    "        if(score > best_score):\n",
    "            best_score = score;\n",
    "            best_episode = episode;\n",
    "\n",
    "        # store the score in the tracker\n",
    "        scores.append(score);\n",
    "\n",
    "        # print some informative logging \n",
    "        message = 'Episode {:03}, steps {:04}, current score {:05.1f}, best score {:05.1f} at episode {:03}';\n",
    "        message = message.format(episode+1, step, score, best_score, best_episode);\n",
    "        print(message, end='\\r', flush=True);\n",
    "        \n",
    "    return scores;"
   ]
  },
  {
   "cell_type": "markdown",
   "metadata": {},
   "source": [
    "14 - Apply the algorithm to the ATARI environment. Pay attention, the following code takes a lot of time to run (days on a powerful machine)."
   ]
  },
  {
   "cell_type": "code",
   "execution_count": 15,
   "metadata": {},
   "outputs": [
    {
     "name": "stdout",
     "output_type": "stream",
     "text": [
      "Episode 500, steps 983859, current score 012.0, best score 018.0 at episode 488\r"
     ]
    }
   ],
   "source": [
    "# YOUR CODE HERE\n",
    "\n",
    "# Apply the previous written algorithm to the ATARI environment, please pay attention\n",
    "# to the parameters.\n",
    "\n",
    "max_episodes = 500; \n",
    "batch_size = 64; \n",
    "gamma = 0.99;\n",
    "target_update_steps = 10;\n",
    "epsilon_max = 1.0;\n",
    "epsilon_min = 0.01;\n",
    "epsilon_decay_steps = 500000;\n",
    "\n",
    "# run the algorithm\n",
    "scores = dqn(pong, dnn_online, dnn_target, optimizer_online,\n",
    "             replay_memory, batch_size, target_update_steps,\n",
    "             epsilon_greedy, epsilon_max, epsilon_min, epsilon_decay_steps, \n",
    "             gamma, max_episodes);"
   ]
  },
  {
   "cell_type": "markdown",
   "metadata": {},
   "source": [
    "15 - Smooth the result using a sliding window"
   ]
  },
  {
   "cell_type": "code",
   "execution_count": 16,
   "metadata": {},
   "outputs": [],
   "source": [
    "# YOUR CODE HERE\n",
    "\n",
    "# smooth the result using a sliding window\n",
    "sliding_windows = 20\n",
    "scores = np.convolve(scores, np.ones(sliding_windows)/sliding_windows, mode='valid');\n",
    "        "
   ]
  },
  {
   "cell_type": "markdown",
   "metadata": {},
   "source": [
    "16 - Show the score curve as a function of the number of episodes"
   ]
  },
  {
   "cell_type": "code",
   "execution_count": 17,
   "metadata": {},
   "outputs": [
    {
     "data": {
      "image/png": "[encoded data removed]",
      "text/plain": [
       "<Figure size 1200x600 with 1 Axes>"
      ]
     },
     "metadata": {},
     "output_type": "display_data"
    }
   ],
   "source": [
    "# YOUR CODE HERE\n",
    "\n",
    "# Show the moving average reward during the training process\n",
    "\n",
    "import matplotlib.pyplot as plt\n",
    "\n",
    "plt.figure(figsize=(12,6))\n",
    "\n",
    "plt.plot(scores, linewidth=1)\n",
    "plt.title('Moving Avg Score')\n",
    "plt.ylabel('Score')\n",
    "plt.xlabel('Episodes')\n",
    "\n",
    "plt.show()"
   ]
  },
  {
   "cell_type": "markdown",
   "metadata": {},
   "source": [
    "18 - Show the agent playing the game using the greedy policy   "
   ]
  },
  {
   "cell_type": "code",
   "execution_count": 23,
   "metadata": {},
   "outputs": [
    {
     "data": {
      "image/png": "[encoded data removed]",
      "text/plain": [
       "<Figure size 640x480 with 1 Axes>"
      ]
     },
     "metadata": {},
     "output_type": "display_data"
    }
   ],
   "source": [
    "# YOUR CODE HERE\n",
    "\n",
    "# You can show the policy learned by the agent using the \"show_policy\" function\n",
    "\n",
    "show_policy(pong, pi, dnn_online, n_episodes=1, max_steps=2000);"
   ]
  }
 ],
 "metadata": {
  "colab": {
   "collapsed_sections": [],
   "name": "math_differential_calculus",
   "provenance": [],
   "toc_visible": true
  },
  "kernelspec": {
   "display_name": "machine-learning",
   "language": "python",
   "name": "python3"
  },
  "language_info": {
   "codemirror_mode": {
    "name": "ipython",
    "version": 3
   },
   "file_extension": ".py",
   "mimetype": "text/x-python",
   "name": "python",
   "nbconvert_exporter": "python",
   "pygments_lexer": "ipython3",
   "version": "3.12.3"
  },
  "pycharm": {
   "stem_cell": {
    "cell_type": "raw",
    "metadata": {
     "collapsed": false
    },
    "source": []
   }
  }
 },
 "nbformat": 4,
 "nbformat_minor": 4
}
