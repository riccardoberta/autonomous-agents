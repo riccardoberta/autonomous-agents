{
 "cells": [
  {
   "cell_type": "markdown",
   "metadata": {},
   "source": [
    "# Comparison\n",
    "\n",
    "We can run simulations for all methods in order to compare their performances. A complication is that they all have a parameter. To get a meaningful comparison we have to consider their performance as a function of their parameter. We summarize a complete learning curve by its average value over the 1000 steps and shows this measure for the various bandit algorithms, each as a function of its own parameter shown on a single scale on the x-axis. This kind of graph is called a **parameter study**. "
   ]
  },
  {
   "cell_type": "code",
   "execution_count": 5,
   "metadata": {},
   "outputs": [],
   "source": [
    "import numpy as np\n",
    "\n",
    "class BanditEnv:\n",
    "    def __init__(self):\n",
    "        self.size = 10                                        # 10 arms\n",
    "        self.means = np.random.randn(self.size)\n",
    "        \n",
    "    def step(self, action):\n",
    "        return np.random.normal(loc=self.means[action])\n",
    "    \n",
    "env = BanditEnv()"
   ]
  },
  {
   "cell_type": "code",
   "execution_count": 6,
   "metadata": {},
   "outputs": [],
   "source": [
    "envs = []\n",
    "for i in range(2000):\n",
    "    envs.append(BanditEnv());"
   ]
  },
  {
   "cell_type": "code",
   "execution_count": 7,
   "metadata": {},
   "outputs": [],
   "source": [
    "def epsilon_greedy(env, epsilon=0.01, n_episodes=1000):\n",
    "    \n",
    "    # The baseline boilerplate is the same as before\n",
    "    Q = np.zeros((env.size), dtype=float)\n",
    "    N = np.zeros((env.size), dtype=int)\n",
    "\n",
    "    Qe = np.empty((n_episodes, env.size), dtype=float)\n",
    "    returns = np.empty(n_episodes, dtype=float)\n",
    "    actions = np.empty(n_episodes, dtype=int)\n",
    "    \n",
    "    for e in range(n_episodes):\n",
    "        \n",
    "        # draw a random number and compare to a hyperparameter epsilon\n",
    "        if np.random.uniform() > epsilon:\n",
    "            # if it is greater than epsilon, exploit:\n",
    "            action = np.argmax(Q)\n",
    "        else:\n",
    "            # otherwise, explore:\n",
    "            action = np.random.randint(len(Q))\n",
    "\n",
    "        reward = env.step(action)\n",
    "        \n",
    "        N[action] += 1\n",
    "        Q[action] = Q[action] + (reward - Q[action])/N[action]\n",
    "        \n",
    "        Qe[e] = Q\n",
    "        returns[e] = reward\n",
    "        actions[e] = action\n",
    "    return returns, Qe, actions"
   ]
  },
  {
   "cell_type": "code",
   "execution_count": 8,
   "metadata": {},
   "outputs": [],
   "source": [
    "def optimistic_initialization(env, optimistic_estimate=5.0,\n",
    "                              initial_count=10, n_episodes=1000):\n",
    "    \n",
    "    # start initializing the Q-values to an optimistic value\n",
    "    Q = np.full((env.size), optimistic_estimate, dtype=float)\n",
    "    \n",
    "    # initialize the counts that will serve as an uncertainty measure\n",
    "    # the higher the more certain.\n",
    "    N = np.full((env.size), initial_count, dtype=int)\n",
    "    \n",
    "    Qe = np.empty((n_episodes, env.size), dtype=float)\n",
    "    returns = np.empty(n_episodes, dtype=float)\n",
    "    actions = np.empty(n_episodes, dtype=int)\n",
    "\n",
    "    for e in range(n_episodes):\n",
    "        \n",
    "        action = np.argmax(Q)\n",
    "\n",
    "        reward = env.step(action)\n",
    "        \n",
    "        N[action] += 1\n",
    "        Q[action] = Q[action] + (reward - Q[action])/N[action]\n",
    "\n",
    "        Qe[e] = Q\n",
    "        returns[e] = reward\n",
    "        actions[e] = action\n",
    "        \n",
    "    return returns, Qe, actions"
   ]
  },
  {
   "cell_type": "code",
   "execution_count": 9,
   "metadata": {},
   "outputs": [],
   "source": [
    "def softmax(env, init_temp=1000, min_temp=0.1,\n",
    "            decay_ratio=0.04,n_episodes=1000):\n",
    "    \n",
    "    Q = np.zeros((env.size), dtype=float)\n",
    "    N = np.zeros((env.size), dtype=int)\n",
    "\n",
    "    Qe = np.empty((n_episodes, env.size), dtype=float)\n",
    "    returns = np.empty(n_episodes, dtype=float)\n",
    "    actions = np.empty(n_episodes, dtype=int)\n",
    "    \n",
    "    for e in range(n_episodes):\n",
    "        \n",
    "        # calculate the linearly decaying temperature \n",
    "        decay_episodes = n_episodes * decay_ratio\n",
    "        temp = 1 - e / decay_episodes\n",
    "        temp *= init_temp - min_temp\n",
    "        temp += min_temp\n",
    "        temp = np.clip(temp, min_temp, init_temp)\n",
    "\n",
    "        # calculate the probabilities by applying the softmax function \n",
    "        # to the estimates\n",
    "        scaled_Q = Q / temp\n",
    "        norm_Q = scaled_Q - np.max(scaled_Q)\n",
    "        exp_Q = np.exp(norm_Q)\n",
    "        probs = exp_Q / np.sum(exp_Q)\n",
    "    \n",
    "        # select the action based on probabilities\n",
    "        action = np.random.choice(np.arange(len(probs)), size=1, p=probs)[0]\n",
    "\n",
    "        reward = env.step(action)\n",
    "        \n",
    "        N[action] += 1\n",
    "        Q[action] = Q[action] + (reward - Q[action])/N[action]\n",
    "        \n",
    "        Qe[e] = Q\n",
    "        returns[e] = reward\n",
    "        actions[e] = action\n",
    "    \n",
    "    return returns, Qe, actions"
   ]
  },
  {
   "cell_type": "code",
   "execution_count": 10,
   "metadata": {},
   "outputs": [],
   "source": [
    "def upper_confidence_bound(env, c=2, n_episodes=1000):\n",
    "    \n",
    "    Q = np.zeros((env.size), dtype=float)\n",
    "    N = np.zeros((env.size), dtype=int)\n",
    "    \n",
    "    Qe = np.empty((n_episodes, env.size), dtype=float)\n",
    "    returns = np.empty(n_episodes, dtype=float)\n",
    "    actions = np.empty(n_episodes, dtype=int)\n",
    "\n",
    "    for e in range(n_episodes):\n",
    "        # first select all actions once to avoid division by zero\n",
    "        if e < len(Q):\n",
    "            action = e    \n",
    "        else: \n",
    "            # proceed to calculating the confidence bounds\n",
    "            U = np.sqrt(c * np.log(e)/N)\n",
    "            # pick the action with the highest value with an \n",
    "            # uncertainty bonus: the more uncertain the value of the action, \n",
    "            # the higher the bonus\n",
    "            action = np.argmax(Q + U)\n",
    "\n",
    "        reward = env.step(action)\n",
    "        \n",
    "        N[action] += 1\n",
    "        Q[action] = Q[action] + (reward - Q[action])/N[action]\n",
    "        \n",
    "        Qe[e] = Q\n",
    "        returns[e] = reward\n",
    "        actions[e] = action\n",
    "        \n",
    "    return returns, Qe, actions"
   ]
  },
  {
   "cell_type": "code",
   "execution_count": 13,
   "metadata": {},
   "outputs": [],
   "source": [
    "from tqdm import tqdm\n",
    "\n",
    "def run_experiment(envs, algorithm, param):    \n",
    "    returns = [];\n",
    "\n",
    "    desc = 'Running ' + algorithm + ' with parameter ' + str(param);\n",
    "\n",
    "    for i in tqdm(range(2000), desc=desc):\n",
    "\n",
    "        if algorithm == 'epsilon-greedy':\n",
    "            r, _, _ = epsilon_greedy(env, epsilon=param, n_episodes=1000);\n",
    "        elif algorithm == 'optimistic-initialization':\n",
    "            r,_ ,_ = optimistic_initialization(env, optimistic_estimate=param, initial_count=10, n_episodes=1000);\n",
    "        elif algorithm == 'softmax':\n",
    "            r,_ ,_ = softmax(env, init_temp=param, min_temp=0.1, decay_ratio=0.04,n_episodes=1000);\n",
    "        elif algorithm == 'ucb':\n",
    "            r,_ ,_ = upper_confidence_bound(env, c=param, n_episodes=1000);\n",
    "        else:\n",
    "            raise ValueError('Unknown algorithm:', algorithm)\n",
    "        \n",
    "        returns.append(r);\n",
    "    \n",
    "    returns = np.array(returns);\n",
    "    return returns.mean()"
   ]
  },
  {
   "cell_type": "code",
   "execution_count": 14,
   "metadata": {},
   "outputs": [
    {
     "name": "stderr",
     "output_type": "stream",
     "text": [
      "Running epsilon-greedy with parameter 0.0078125:   0%|          | 0/2000 [00:00<?, ?it/s]"
     ]
    },
    {
     "name": "stderr",
     "output_type": "stream",
     "text": [
      "Running epsilon-greedy with parameter 0.0078125: 100%|██████████| 2000/2000 [00:06<00:00, 287.71it/s]\n",
      "Running epsilon-greedy with parameter 0.015625: 100%|██████████| 2000/2000 [00:06<00:00, 291.94it/s]\n",
      "Running epsilon-greedy with parameter 0.03125: 100%|██████████| 2000/2000 [00:07<00:00, 279.59it/s]\n",
      "Running epsilon-greedy with parameter 0.0625: 100%|██████████| 2000/2000 [00:07<00:00, 278.01it/s]\n",
      "Running epsilon-greedy with parameter 0.125: 100%|██████████| 2000/2000 [00:07<00:00, 272.73it/s]\n",
      "Running epsilon-greedy with parameter 0.25: 100%|██████████| 2000/2000 [00:07<00:00, 268.33it/s]\n"
     ]
    }
   ],
   "source": [
    "egreedy_x, egreedy_y = [], []\n",
    "for param in [1/128, 1/64, 1/32, 1/16, 1/8, 1/4]:\n",
    "    result = run_experiment(envs=envs, algorithm='epsilon-greedy', param=param);\n",
    "    egreedy_x.append(param)\n",
    "    egreedy_y.append(result)"
   ]
  },
  {
   "cell_type": "code",
   "execution_count": 15,
   "metadata": {},
   "outputs": [
    {
     "name": "stderr",
     "output_type": "stream",
     "text": [
      "Running optimistic-initialization with parameter 0.25: 100%|██████████| 2000/2000 [00:04<00:00, 411.25it/s]\n",
      "Running optimistic-initialization with parameter 0.5: 100%|██████████| 2000/2000 [00:04<00:00, 414.58it/s]\n",
      "Running optimistic-initialization with parameter 1: 100%|██████████| 2000/2000 [00:04<00:00, 421.62it/s]\n",
      "Running optimistic-initialization with parameter 2: 100%|██████████| 2000/2000 [00:04<00:00, 430.23it/s]\n",
      "Running optimistic-initialization with parameter 4: 100%|██████████| 2000/2000 [00:04<00:00, 417.17it/s]\n",
      "Running optimistic-initialization with parameter 6: 100%|██████████| 2000/2000 [00:04<00:00, 429.09it/s]\n"
     ]
    }
   ],
   "source": [
    "opt_x, opt_y = [], []\n",
    "for param in [1/4, 1/2, 1, 2, 4, 6]:\n",
    "    result = run_experiment(envs=envs, algorithm='optimistic-initialization', param=param)\n",
    "    opt_x.append(param)\n",
    "    opt_y.append(result)"
   ]
  },
  {
   "cell_type": "code",
   "execution_count": 17,
   "metadata": {},
   "outputs": [
    {
     "name": "stderr",
     "output_type": "stream",
     "text": [
      "Running ucb with parameter 0.0625: 100%|██████████| 2000/2000 [00:08<00:00, 223.20it/s]\n",
      "Running ucb with parameter 0.125: 100%|██████████| 2000/2000 [00:08<00:00, 225.41it/s]\n",
      "Running ucb with parameter 0.25: 100%|██████████| 2000/2000 [00:09<00:00, 221.16it/s]\n",
      "Running ucb with parameter 0.5: 100%|██████████| 2000/2000 [00:09<00:00, 220.84it/s]\n",
      "Running ucb with parameter 1: 100%|██████████| 2000/2000 [00:09<00:00, 221.57it/s]\n",
      "Running ucb with parameter 2: 100%|██████████| 2000/2000 [00:09<00:00, 218.17it/s]\n",
      "Running ucb with parameter 4: 100%|██████████| 2000/2000 [00:09<00:00, 220.05it/s]\n"
     ]
    }
   ],
   "source": [
    "ucb_x, ucb_y = [], []\n",
    "for param in [1/16, 1/8, 1/4, 1/2, 1, 2, 4]:\n",
    "    result = run_experiment(envs=envs, algorithm='ucb', param=param)\n",
    "    ucb_x.append(param)\n",
    "    ucb_y.append(result)"
   ]
  },
  {
   "cell_type": "code",
   "execution_count": 21,
   "metadata": {},
   "outputs": [
    {
     "data": {
      "image/png": "[encoded data removed]",
      "text/plain": [
       "<Figure size 1000x600 with 1 Axes>"
      ]
     },
     "metadata": {},
     "output_type": "display_data"
    }
   ],
   "source": [
    "import matplotlib.pyplot as plt\n",
    "\n",
    "plt.figure(figsize=(10,6))\n",
    "\n",
    "plt.xticks(range(-7, 3), ('1/128', '1/64', '1/32', '1/16', '1/8', '1/4', '1/2', '1', '2', '4'))\n",
    "plt.plot(range(-7, -1), egreedy_y, linewidth=1, color='red', label='epsilon-greedy')\n",
    "plt.plot(range(-5, 1), opt_y, linewidth=1, color='green', label='optimistic-initialization')\n",
    "plt.plot(range(-4, 3), ucb_y, linewidth=1, color='blue', label='ucb')\n",
    "\n",
    "plt.xlabel('Parameter')\n",
    "plt.ylabel('Average reward')\n",
    "plt.legend()\n",
    "\n",
    "plt.show()"
   ]
  },
  {
   "cell_type": "markdown",
   "metadata": {},
   "source": [
    "Overall, on this problem, **UCB seems to perform best**. Notice the characteristic **inverted-U shapes** of each algorithm’s performance: all the algorithms perform best at an **intermediate value of their parameter**, neither too large nor too small. In assessing a method, we should attend not just to how well it does at its best parameter setting, but also to **how sensitive it is to its parameter value**. All of these algorithms are fairly insensitive, performing well over a range of parameter values varying by about an order of magnitude. "
   ]
  }
 ],
 "metadata": {
  "colab": {
   "collapsed_sections": [],
   "name": "math_differential_calculus",
   "provenance": [],
   "toc_visible": true
  },
  "interpreter": {
   "hash": "8aeb84091b1f1fb8d8b9efbf1e96a552fa0144c39bfbc7f744113ad2216f701d"
  },
  "kernelspec": {
   "display_name": "Python 3 (ipykernel)",
   "language": "python",
   "name": "python3"
  },
  "language_info": {
   "codemirror_mode": {
    "name": "ipython",
    "version": 3
   },
   "file_extension": ".py",
   "mimetype": "text/x-python",
   "name": "python",
   "nbconvert_exporter": "python",
   "pygments_lexer": "ipython3",
   "version": "3.11.4"
  },
  "pycharm": {
   "stem_cell": {
    "cell_type": "raw",
    "metadata": {
     "collapsed": false
    },
    "source": []
   }
  }
 },
 "nbformat": 4,
 "nbformat_minor": 4
}
