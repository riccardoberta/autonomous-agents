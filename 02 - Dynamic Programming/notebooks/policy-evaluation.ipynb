{
 "cells": [
  {
   "cell_type": "markdown",
   "metadata": {},
   "source": [
    "# Policy Evaluation\n",
    "\n",
    "This is a full implementation of the policy-evaluation algorithm. All we need is: the policy we’re trying to evaluate, the MDP, the discount factor, gamma, defaults to 1, and theta (a small number that we use to check for converge)"
   ]
  },
  {
   "cell_type": "code",
   "execution_count": 6,
   "metadata": {},
   "outputs": [],
   "source": [
    "import numpy as np\n",
    "\n",
    "def policy_evaluation(pi, P, gamma=1.0, theta=1e-10):\n",
    "    \n",
    "    # initialize the first-iteration estimates to zero.\n",
    "    prev_V = np.zeros(len(P))\n",
    "    \n",
    "    # looping forever...\n",
    "    while True:\n",
    "        # initialize the current-iteration estimates to zero as well.\n",
    "        V = np.zeros(len(P))\n",
    "        \n",
    "        # loop through all states to estimate the state-value function\n",
    "        for s in range(len(P)):\n",
    "            \n",
    "            # we use the policy pi to get the possible transitions,\n",
    "            # each transition tuple has a probability, next state, \n",
    "            # reward, and a done flag indicating whether the next_state \n",
    "            # is terminal or not\n",
    "            for prob, next_state, reward, done in P[s][pi(s)]:\n",
    "                \n",
    "                # calculate the value of that state by summing up the \n",
    "                # weighted value of that transition\n",
    "                V[s] += prob * (reward + gamma * prev_V[next_state])\n",
    "        \n",
    "        # at the end of each iteration (a state sweep), we make sure \n",
    "        # that the state-value functions are changing;\n",
    "        # otherwise, we call it converged\n",
    "        if np.max(np.abs(prev_V - V)) < theta:\n",
    "            break\n",
    "        \n",
    "        # finally, copy to get ready for the next iteration or \n",
    "        prev_V = V.copy()\n",
    "        \n",
    "    # return the latest state-value function    \n",
    "    return V"
   ]
  },
  {
   "cell_type": "markdown",
   "metadata": {},
   "source": [
    "We can write also a simple function to print the value function in a readable way: "
   ]
  },
  {
   "cell_type": "code",
   "execution_count": 9,
   "metadata": {},
   "outputs": [],
   "source": [
    "def print_state_value_function(V, P, n_cols=4, prec=3, title='State-value function:'):\n",
    "    print(title)\n",
    "    for s in range(len(P)):\n",
    "        v = V[s]\n",
    "        print(\"| \", end=\"\")\n",
    "        if np.all([done for action in P[s].values() for _, _, _, done in action]):\n",
    "            print(\"\".rjust(9), end=\" \")\n",
    "        else:\n",
    "            print(str(s).zfill(2), '{}'.format(np.round(v, prec)).rjust(6), end=\" \")\n",
    "        if (s + 1) % n_cols == 0: print(\"|\")"
   ]
  },
  {
   "cell_type": "markdown",
   "metadata": {},
   "source": [
    "Let’s now run policy evaluation for the two policies \"Go-get-it\" and \"Careful\" for the FL environment."
   ]
  },
  {
   "cell_type": "code",
   "execution_count": 2,
   "metadata": {},
   "outputs": [],
   "source": [
    "import gymnasium as gym\n",
    "\n",
    "frozen_lake = gym.make('FrozenLake-v1')\n",
    "P = frozen_lake.env.unwrapped.P\n",
    "goal_state = 15\n",
    "\n",
    "LEFT, DOWN, RIGHT, UP = range(4)"
   ]
  },
  {
   "cell_type": "code",
   "execution_count": 3,
   "metadata": {},
   "outputs": [],
   "source": [
    "go_get_pi = lambda s: {\n",
    "    0:RIGHT, 1:RIGHT, 2:DOWN, 3:LEFT,\n",
    "    4:DOWN, 5:LEFT, 6:DOWN, 7:LEFT,\n",
    "    8:RIGHT, 9:RIGHT, 10:DOWN, 11:LEFT,\n",
    "    12:LEFT, 13:RIGHT, 14:RIGHT, 15:LEFT\n",
    "}[s]"
   ]
  },
  {
   "cell_type": "code",
   "execution_count": 4,
   "metadata": {},
   "outputs": [],
   "source": [
    "careful_pi = lambda s: {\n",
    "    0:LEFT, 1:UP, 2:UP, 3:UP,\n",
    "    4:LEFT, 5:LEFT, 6:UP, 7:LEFT,\n",
    "    8:UP, 9:DOWN, 10:LEFT, 11:LEFT,\n",
    "    12:LEFT, 13:RIGHT, 14:RIGHT, 15:LEFT\n",
    "}[s]"
   ]
  },
  {
   "cell_type": "code",
   "execution_count": 10,
   "metadata": {},
   "outputs": [
    {
     "name": "stdout",
     "output_type": "stream",
     "text": [
      "State-value function:\n",
      "| 00 0.0342 | 01 0.0231 | 02 0.0468 | 03 0.0231 |\n",
      "| 04 0.0463 |           | 06 0.0957 |           |\n",
      "| 08  0.094 | 09 0.2386 | 10 0.2901 |           |\n",
      "|           | 13 0.4329 | 14 0.6404 |           |\n"
     ]
    }
   ],
   "source": [
    "V = policy_evaluation(go_get_pi, P, gamma=0.99)\n",
    "print_state_value_function(V, P, prec=4)"
   ]
  },
  {
   "cell_type": "code",
   "execution_count": 11,
   "metadata": {},
   "outputs": [
    {
     "name": "stdout",
     "output_type": "stream",
     "text": [
      "State-value function:\n",
      "| 00 0.4079 | 01 0.3754 | 02 0.3543 | 03 0.3438 |\n",
      "| 04 0.4203 |           | 06 0.1169 |           |\n",
      "| 08 0.4454 | 09  0.484 | 10 0.4328 |           |\n",
      "|           | 13 0.5884 | 14 0.7107 |           |\n"
     ]
    }
   ],
   "source": [
    "V = policy_evaluation(careful_pi, P, gamma=0.99)\n",
    "print_state_value_function(V, P, prec=4)"
   ]
  },
  {
   "cell_type": "markdown",
   "metadata": {},
   "source": [
    "The Go-get-it policy doesn’t pay well in the FL environment! Whereas the Careful policy is much better."
   ]
  }
 ],
 "metadata": {
  "colab": {
   "collapsed_sections": [],
   "name": "math_differential_calculus",
   "provenance": [],
   "toc_visible": true
  },
  "interpreter": {
   "hash": "8aeb84091b1f1fb8d8b9efbf1e96a552fa0144c39bfbc7f744113ad2216f701d"
  },
  "kernelspec": {
   "display_name": "Python 3 (ipykernel)",
   "language": "python",
   "name": "python3"
  },
  "language_info": {
   "codemirror_mode": {
    "name": "ipython",
    "version": 3
   },
   "file_extension": ".py",
   "mimetype": "text/x-python",
   "name": "python",
   "nbconvert_exporter": "python",
   "pygments_lexer": "ipython3",
   "version": "3.11.4"
  },
  "pycharm": {
   "stem_cell": {
    "cell_type": "raw",
    "metadata": {
     "collapsed": false
    },
    "source": []
   }
  }
 },
 "nbformat": 4,
 "nbformat_minor": 4
}
