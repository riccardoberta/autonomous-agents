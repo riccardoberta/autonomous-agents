{
 "cells": [
  {
   "cell_type": "markdown",
   "metadata": {},
   "source": [
    "# Brute-force Evaluation\n",
    "\n",
    "We can simulate the environment for a long time and then average the returns and evaluate the success probability:"
   ]
  },
  {
   "cell_type": "code",
   "execution_count": 1,
   "metadata": {},
   "outputs": [],
   "source": [
    "import numpy as np\n",
    "\n",
    "def evaluate(env, pi, goal_state, n_episodes=100, max_steps=200):\n",
    "    success = 0;\n",
    "    results = []\n",
    "    for _ in range(n_episodes):\n",
    "        done = False;\n",
    "        steps = 0;\n",
    "        state, _ = env.reset();\n",
    "        results.append(0.0)\n",
    "        while not done and steps < max_steps:\n",
    "            state, reward, done, _, _ = env.step(pi(state))\n",
    "            results[-1] += reward;\n",
    "            steps += 1\n",
    "        if(state == goal_state):\n",
    "            success += 1;\n",
    "    return (success/n_episodes)*100, np.mean(results);"
   ]
  },
  {
   "cell_type": "markdown",
   "metadata": {},
   "source": [
    " We ca use Gymnasium to run the algorithm on the Go-get-it and Careful policies for the FrozenLake environment. Notice that  it generally wrap the environment usign a single class, called Env. This class exposes the common most essential methods of any environment (like step and reset). Having this interface class is great, because it allows our code to be environment agnostic. However, if we want to access the behind the scenes dynamics of a specific environment, then we cane use the \"unwrapped\" property."
   ]
  },
  {
   "cell_type": "code",
   "execution_count": 2,
   "metadata": {},
   "outputs": [],
   "source": [
    "import gymnasium as gym\n",
    "\n",
    "frozen_lake = gym.make('FrozenLake-v1')\n",
    "P = frozen_lake.env.unwrapped.P\n",
    "goal_state = 15\n",
    "\n",
    "LEFT, DOWN, RIGHT, UP = range(4)"
   ]
  },
  {
   "cell_type": "code",
   "execution_count": 3,
   "metadata": {},
   "outputs": [],
   "source": [
    "go_get_pi = lambda s: {\n",
    "    0:RIGHT, 1:RIGHT, 2:DOWN, 3:LEFT,\n",
    "    4:DOWN, 5:LEFT, 6:DOWN, 7:LEFT,\n",
    "    8:RIGHT, 9:RIGHT, 10:DOWN, 11:LEFT,\n",
    "    12:LEFT, 13:RIGHT, 14:RIGHT, 15:LEFT\n",
    "}[s]"
   ]
  },
  {
   "cell_type": "code",
   "execution_count": 32,
   "metadata": {},
   "outputs": [
    {
     "name": "stdout",
     "output_type": "stream",
     "text": [
      "Reaches goal  2.0 %\n",
      "Obtains an average undiscounted return of  0.02\n"
     ]
    }
   ],
   "source": [
    "probability_success, mean_return = evaluate(frozen_lake, go_get_pi, goal_state=goal_state);\n",
    "\n",
    "print(\"Reaches goal \", probability_success, \"%\");\n",
    "print(\"Obtains an average undiscounted return of \", mean_return);"
   ]
  },
  {
   "cell_type": "markdown",
   "metadata": {},
   "source": [
    "It seems being a go-get-it policy doesn’t pay well in the FL environment! Let’s try the same thing for the Careful policy: "
   ]
  },
  {
   "cell_type": "code",
   "execution_count": 33,
   "metadata": {},
   "outputs": [],
   "source": [
    "careful_pi = lambda s: {\n",
    "    0:LEFT, 1:UP, 2:UP, 3:UP,\n",
    "    4:LEFT, 5:LEFT, 6:UP, 7:LEFT,\n",
    "    8:UP, 9:DOWN, 10:LEFT, 11:LEFT,\n",
    "    12:LEFT, 13:RIGHT, 14:RIGHT, 15:LEFT\n",
    "}[s]"
   ]
  },
  {
   "cell_type": "code",
   "execution_count": 39,
   "metadata": {},
   "outputs": [
    {
     "name": "stdout",
     "output_type": "stream",
     "text": [
      "Reaches goal  52.0 %\n",
      "Obtains an average undiscounted return of  0.52\n"
     ]
    }
   ],
   "source": [
    "probability_success, mean_return = evaluate(frozen_lake, careful_pi, goal_state=goal_state);\n",
    "\n",
    "print(\"Reaches goal \", probability_success, \"%\");\n",
    "print(\"Obtains an average undiscounted return of \", mean_return);"
   ]
  },
  {
   "cell_type": "markdown",
   "metadata": {},
   "source": [
    "The Careful policy seems to be doing much better than the Go-get-it policy."
   ]
  }
 ],
 "metadata": {
  "colab": {
   "collapsed_sections": [],
   "name": "math_differential_calculus",
   "provenance": [],
   "toc_visible": true
  },
  "interpreter": {
   "hash": "8aeb84091b1f1fb8d8b9efbf1e96a552fa0144c39bfbc7f744113ad2216f701d"
  },
  "kernelspec": {
   "display_name": "Python 3 (ipykernel)",
   "language": "python",
   "name": "python3"
  },
  "language_info": {
   "codemirror_mode": {
    "name": "ipython",
    "version": 3
   },
   "file_extension": ".py",
   "mimetype": "text/x-python",
   "name": "python",
   "nbconvert_exporter": "python",
   "pygments_lexer": "ipython3",
   "version": "3.11.4"
  },
  "pycharm": {
   "stem_cell": {
    "cell_type": "raw",
    "metadata": {
     "collapsed": false
    },
    "source": []
   }
  }
 },
 "nbformat": 4,
 "nbformat_minor": 4
}
