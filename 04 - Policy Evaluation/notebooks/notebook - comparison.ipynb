{
 "cells": [
  {
   "cell_type": "markdown",
   "metadata": {},
   "source": [
    "# Comparison\n",
    "\n",
    "We run an experiment to calculate the learning curves for the methods and measure the performance using the root mean-squared (RMS) error between the value function learned and the true value function, averaged over the five states, then averaged over 100 runs."
   ]
  },
  {
   "cell_type": "markdown",
   "metadata": {},
   "source": [
    "The hyperparameter alpha."
   ]
  },
  {
   "cell_type": "code",
   "execution_count": 34,
   "metadata": {},
   "outputs": [],
   "source": [
    "import numpy as np\n",
    "\n",
    "def decay_schedule(init_value, min_value, decay_ratio, max_steps, log_start=-2, log_base=10):\n",
    "    decay_steps = int(max_steps * decay_ratio)\n",
    "    rem_steps = max_steps - decay_steps\n",
    "    values = np.logspace(log_start, 0, decay_steps, base=log_base, endpoint=True)[::-1]\n",
    "    values = (values - values.min()) / (values.max() - values.min())\n",
    "    values = (init_value - min_value) * values + min_value\n",
    "    values = np.pad(values, (0, rem_steps), 'edge')\n",
    "    return values"
   ]
  },
  {
   "cell_type": "markdown",
   "metadata": {},
   "source": [
    "We ran the experiment on the Random Walk (RW) environment using the \"all-left\" policy"
   ]
  },
  {
   "cell_type": "code",
   "execution_count": 35,
   "metadata": {},
   "outputs": [],
   "source": [
    "class Space:\n",
    "    def __init__(self, value):\n",
    "        self.n = value \n",
    "    \n",
    "class RandomWalk:\n",
    "    \"\"\"\n",
    "    State Index:   [ 0    1    2    3    4    5    6 ]\n",
    "    State Label:   [ .    A    B    C    D    E    . ]\n",
    "    Type:          [ T    .    .    S    .    .    T ]    \n",
    "    \"\"\"\n",
    "    V_true =       [0.0, 1/6, 2/6, 3/6, 4/6, 5/6, 0.0]\n",
    "    \n",
    "    def __init__(self):\n",
    "        self.reset()\n",
    "\n",
    "    def reset(self):\n",
    "        self.observation_space = Space(7)\n",
    "        self._state = np.random.choice([1,2,3,4,5])\n",
    "        self._done = False\n",
    "        return self._state\n",
    "\n",
    "    def step(self, action):\n",
    "        if self._done: raise ValueError('Episode has terminated')\n",
    "        if action not in [0, 1]: raise ValueError('Invalid action')\n",
    "        self._state += np.random.choice([-1, 1])\n",
    "        reward = 0\n",
    "        if self._state < 1: self._done = True\n",
    "        if self._state > 5: self._done = True; reward = 1\n",
    "        return self._state, reward, self._done, 0  # obs, rew, done"
   ]
  },
  {
   "cell_type": "code",
   "execution_count": 36,
   "metadata": {},
   "outputs": [],
   "source": [
    "env = RandomWalk()"
   ]
  },
  {
   "cell_type": "code",
   "execution_count": 37,
   "metadata": {},
   "outputs": [],
   "source": [
    "def pi(state):\n",
    "    return 1"
   ]
  },
  {
   "cell_type": "markdown",
   "metadata": {},
   "source": [
    "MC:"
   ]
  },
  {
   "cell_type": "code",
   "execution_count": 38,
   "metadata": {},
   "outputs": [],
   "source": [
    "from itertools import count\n",
    "\n",
    "def generate_trajectory(pi, env, max_steps=200):\n",
    "    done, trajectory = False, []\n",
    "    while not done:\n",
    "        state = env.reset()\n",
    "        for t in count():\n",
    "            action = pi(state) \n",
    "            next_state, reward, done, _ = env.step(action)\n",
    "            experience = (state, action, reward, next_state, done)\n",
    "            trajectory.append(experience)\n",
    "            if done:\n",
    "                break\n",
    "            if t >= max_steps - 1:\n",
    "                trajectory = []\n",
    "                break\n",
    "            state = next_state\n",
    "    return np.array(trajectory, object)"
   ]
  },
  {
   "cell_type": "code",
   "execution_count": 39,
   "metadata": {},
   "outputs": [],
   "source": [
    "def mc(pi, env, gamma=1.0,\n",
    "       init_alpha=0.5, min_alpha=0.01, alpha_decay_ratio=0.5,\n",
    "       n_episodes=500, max_steps=200):\n",
    "    nS = env.observation_space.n\n",
    "    discounts = np.logspace(0, max_steps, num=max_steps, base=gamma, endpoint=False)\n",
    "    alphas = decay_schedule(init_alpha, min_alpha, alpha_decay_ratio, n_episodes)\n",
    "    V = np.zeros(nS, dtype=np.float64)\n",
    "    V_track = np.zeros((n_episodes, nS), dtype=np.float64)\n",
    "    for e in range(n_episodes):\n",
    "        trajectory = generate_trajectory(pi, env, max_steps)\n",
    "        visited = np.zeros(nS, dtype=bool)\n",
    "        for t, (state, _, reward, _, _) in enumerate(trajectory):\n",
    "            if visited[state]: continue\n",
    "            visited[state] = True\n",
    "            n_steps = len(trajectory[t:])\n",
    "            G = np.sum(discounts[:n_steps] * trajectory[t:, 2])\n",
    "            V[state] = V[state] + alphas[e] * (G - V[state])\n",
    "            V_track[e] = V\n",
    "    return V.copy(), V_track"
   ]
  },
  {
   "cell_type": "markdown",
   "metadata": {},
   "source": [
    "TD:"
   ]
  },
  {
   "cell_type": "code",
   "execution_count": 40,
   "metadata": {},
   "outputs": [],
   "source": [
    "def td(pi, env, gamma=1.0, \n",
    "       init_alpha=0.5, min_alpha=0.01, alpha_decay_ratio=0.5,\n",
    "       n_episodes=500):\n",
    "    nS = env.observation_space.n\n",
    "    V = np.zeros(nS, dtype=np.float64)\n",
    "    V_track = np.zeros((n_episodes, nS), dtype=np.float64)\n",
    "    alphas = decay_schedule(init_alpha, min_alpha, alpha_decay_ratio, n_episodes)\n",
    "    for e in range(n_episodes):\n",
    "        state, done = env.reset(), False\n",
    "        while not done:\n",
    "            action = pi(state)\n",
    "            next_state, reward, done, _ = env.step(action)\n",
    "            td_target = reward + gamma * V[next_state] * (not done)\n",
    "            td_error = td_target - V[state]\n",
    "            V[state] = V[state] + alphas[e] * td_error\n",
    "            state = next_state\n",
    "        V_track[e] = V\n",
    "    return V, V_track"
   ]
  },
  {
   "cell_type": "markdown",
   "metadata": {},
   "source": [
    "n-step TD:"
   ]
  },
  {
   "cell_type": "code",
   "execution_count": 41,
   "metadata": {},
   "outputs": [],
   "source": [
    "def generate_path(pi, env, state, n_steps):\n",
    "    path = []\n",
    "    done = False\n",
    "    while len(path) < n_steps:\n",
    "        action = pi(state) \n",
    "        next_state, reward, done, _ = env.step(action)\n",
    "        experience = (state, action, reward, next_state, done)\n",
    "        path.append(experience)\n",
    "        if done: \n",
    "            break\n",
    "        state = next_state\n",
    "    return np.array(path, object)"
   ]
  },
  {
   "cell_type": "code",
   "execution_count": 46,
   "metadata": {},
   "outputs": [],
   "source": [
    "def ntd(pi, env, gamma=1.0,\n",
    "        init_alpha=0.5, min_alpha=0.01, alpha_decay_ratio=0.5,\n",
    "        n_steps=3, n_episodes=500):\n",
    "    nS = env.observation_space.n\n",
    "    discounts = np.logspace(0, n_steps+1, num=n_steps+1, base=gamma, endpoint=False)\n",
    "    alphas = decay_schedule(init_alpha, min_alpha, alpha_decay_ratio, n_episodes)\n",
    "    V = np.zeros(nS, dtype=np.float64)\n",
    "    V_track = np.zeros((n_episodes, nS), dtype=np.float64) \n",
    "    for e in range(n_episodes):\n",
    "        state, done = env.reset(), False\n",
    "        while not done:\n",
    "            path = generate_path(pi, env, state, n_steps) \n",
    "            n = len(path)\n",
    "            visited = np.zeros(nS, dtype=bool)\n",
    "            for t, (path_state, _, reward, path_next_state, path_done) in enumerate(path):                \n",
    "                partial_return = np.sum(discounts[:n-t] * path[t:, 2])\n",
    "                ntd_target = partial_return + discounts[n] * V[path[n-1, 3]]  * (not path_done)\n",
    "                ntd_error = ntd_target - V[path_state]\n",
    "                V[path_state] = V[path_state] + alphas[e] * ntd_error                   \n",
    "                state = path_next_state\n",
    "                done = path_done\n",
    "        V_track[e] = V\n",
    "    return V.copy(), V_track"
   ]
  },
  {
   "cell_type": "markdown",
   "metadata": {},
   "source": [
    "TD-lambda:"
   ]
  },
  {
   "cell_type": "code",
   "execution_count": 47,
   "metadata": {},
   "outputs": [],
   "source": [
    "def td_lambda(pi, env, gamma=1.0,\n",
    "              init_alpha=0.5, min_alpha=0.01, alpha_decay_ratio=0.5,\n",
    "              lambda_=0.2, n_episodes=500):\n",
    "    nS = env.observation_space.n\n",
    "    V = np.zeros(nS, dtype=np.float64)\n",
    "    V_track = np.zeros((n_episodes, nS), dtype=np.float64)\n",
    "    E = np.zeros(nS, dtype=np.float64)\n",
    "    alphas = decay_schedule(init_alpha, min_alpha, alpha_decay_ratio, n_episodes)\n",
    "    for e in range(n_episodes):\n",
    "        E.fill(0)\n",
    "        state, done = env.reset(), False\n",
    "        while not done:\n",
    "            action = pi(state)\n",
    "            next_state, reward, done, _ = env.step(action)\n",
    "            td_target = reward + gamma * V[next_state] * (not done)\n",
    "            td_error = td_target - V[state]\n",
    "            E[state] = E[state] + 1\n",
    "            V = V + alphas[e] * td_error * E\n",
    "            E = gamma * lambda_ * E\n",
    "            state = next_state\n",
    "        V_track[e] = V\n",
    "    return V, V_track"
   ]
  },
  {
   "cell_type": "markdown",
   "metadata": {},
   "source": [
    "Experiment:"
   ]
  },
  {
   "cell_type": "code",
   "execution_count": 48,
   "metadata": {},
   "outputs": [],
   "source": [
    "from collections import defaultdict\n",
    "\n",
    "def run_experiment(algorithm, nb_runs, env, pi,):\n",
    "    V_init = defaultdict(lambda: 0.5)   # init V to 0.5\n",
    "    V_init[0] = V_init[6] = 0.0         # but terminal states to zero !!\n",
    "\n",
    "    V_runs = []\n",
    "    for i in range(nb_runs):\n",
    "        _, V_td_track = algorithm(pi,env)\n",
    "        V_runs.append(V_td_track)\n",
    "    V_runs = np.array(V_runs) \n",
    "    \n",
    "    V_runs = V_runs[:,:,1:-1]  # remove data about terminal states (which is always zero anyway)\n",
    "    error_to_true = V_runs - env.V_true[1:-1]\n",
    "    squared_error = np.power(error_to_true, 2)\n",
    "    mean_squared_error = np.average(squared_error, axis=-1)  # avg over states\n",
    "    root_mean_squared_error = np.sqrt(mean_squared_error)\n",
    "    rmse_avg_over_runs = np.average(root_mean_squared_error, axis=0)\n",
    "    \n",
    "    return rmse_avg_over_runs  # this is data that goes directly on the plot"
   ]
  },
  {
   "cell_type": "code",
   "execution_count": 49,
   "metadata": {},
   "outputs": [],
   "source": [
    "rmse_mc = run_experiment(mc, 100, env, pi)\n",
    "rmse_td = run_experiment(td, 100, env, pi)\n",
    "rmse_ntd = run_experiment(ntd, 100, env, pi)\n",
    "rmse_td_lamda = run_experiment(td_lambda, 100, env, pi)"
   ]
  },
  {
   "cell_type": "code",
   "execution_count": 52,
   "metadata": {},
   "outputs": [
    {
     "data": {
      "image/png": "[encoded data removed]",
      "text/plain": [
       "<Figure size 720x360 with 1 Axes>"
      ]
     },
     "metadata": {
      "needs_background": "light"
     },
     "output_type": "display_data"
    }
   ],
   "source": [
    "import matplotlib.pyplot as plt\n",
    "\n",
    "plt.figure(figsize=(10,5))\n",
    "plt.plot(rmse_mc, color='blue', linestyle='--', label='MC')\n",
    "plt.plot(rmse_td, color='red', linestyle='-', label='TD')\n",
    "plt.plot(rmse_ntd, color='green', linestyle='-', label='n-steps TD')\n",
    "plt.plot(rmse_td_lamda, color='yellow', linestyle='-', label='TD($\\lambda$)')\n",
    "plt.title('RMS error, averaged over tests')\n",
    "plt.xlabel('Episodes')\n",
    "plt.legend()\n",
    "plt.tight_layout()\n",
    "plt.show()"
   ]
  }
 ],
 "metadata": {
  "colab": {
   "collapsed_sections": [],
   "name": "math_differential_calculus",
   "provenance": [],
   "toc_visible": true
  },
  "interpreter": {
   "hash": "8aeb84091b1f1fb8d8b9efbf1e96a552fa0144c39bfbc7f744113ad2216f701d"
  },
  "kernelspec": {
   "display_name": "Python 3 (ipykernel)",
   "language": "python",
   "name": "python3"
  },
  "language_info": {
   "codemirror_mode": {
    "name": "ipython",
    "version": 3
   },
   "file_extension": ".py",
   "mimetype": "text/x-python",
   "name": "python",
   "nbconvert_exporter": "python",
   "pygments_lexer": "ipython3",
   "version": "3.9.7"
  },
  "pycharm": {
   "stem_cell": {
    "cell_type": "raw",
    "metadata": {
     "collapsed": false
    },
    "source": []
   }
  }
 },
 "nbformat": 4,
 "nbformat_minor": 4
}
