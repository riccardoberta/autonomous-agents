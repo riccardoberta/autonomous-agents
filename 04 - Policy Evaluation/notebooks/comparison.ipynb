{
 "cells": [
  {
   "cell_type": "markdown",
   "metadata": {},
   "source": [
    "# Comparison\n",
    "\n",
    "We run an experiment to calculate the learning curves for the methods and measure the performance using the root mean-squared (RMS) error between the value function learned and the true value function, averaged over the five states, then averaged over 100 runs."
   ]
  },
  {
   "cell_type": "code",
   "execution_count": 6,
   "metadata": {},
   "outputs": [],
   "source": [
    "import numpy as np\n",
    "\n",
    "def decay_alpha(init_value, min_value, decay_steps, max_steps):\n",
    "    rem_steps = max_steps - decay_steps\n",
    "    values = np.logspace(start=0, stop=-2, num=decay_steps, base=10)\n",
    "    values = (values - values.min()) / (values.max() - values.min())\n",
    "    values = (init_value - min_value) * values + min_value\n",
    "    values = np.pad(values, (0, rem_steps), 'edge')\n",
    "    return values"
   ]
  },
  {
   "cell_type": "code",
   "execution_count": 7,
   "metadata": {},
   "outputs": [],
   "source": [
    "def decay_discounts(gamma, max_steps):\n",
    "    discounts = np.logspace(start=0, stop=max_steps, num=max_steps, base=gamma, endpoint=False);\n",
    "    return discounts"
   ]
  },
  {
   "cell_type": "markdown",
   "metadata": {},
   "source": [
    "We ran the experiment on the Random Walk (RW) environment using the \"all-left\" policy"
   ]
  },
  {
   "cell_type": "code",
   "execution_count": 8,
   "metadata": {},
   "outputs": [],
   "source": [
    "import numpy as np\n",
    "    \n",
    "class RandomWalk:\n",
    "    \"\"\"\n",
    "    State Index:   [ 0    1    2    3    4    5    6 ]\n",
    "    State Label:   [ .    A    B    C    D    E    . ]\n",
    "    Type:          [ T    .    .    S    .    .    T ]    \n",
    "    \"\"\"\n",
    "    V_true =       [0.0, 1/6, 2/6, 3/6, 4/6, 5/6, 0.0]\n",
    "    \n",
    "    def __init__(self):\n",
    "        self.reset()\n",
    "\n",
    "    def reset(self):\n",
    "        self.observation_space = 7\n",
    "        self._state = np.random.choice([1,2,3,4,5])\n",
    "        self._done = False\n",
    "        return self._state\n",
    "\n",
    "    def step(self, action):\n",
    "        if self._done: \n",
    "            raise ValueError('Episode has terminated');\n",
    "        \n",
    "        if action not in [0, 1]: \n",
    "            raise ValueError('Invalid action');\n",
    "        \n",
    "        self._state += np.random.choice([-1, 1])\n",
    "        \n",
    "        reward = 0\n",
    "        \n",
    "        if self._state < 1: \n",
    "            self._done = True\n",
    "        \n",
    "        if self._state > 5: \n",
    "            self._done = True; \n",
    "            reward = 1\n",
    "        \n",
    "        return self._state, reward, self._done, 0  # obs, rew, done"
   ]
  },
  {
   "cell_type": "code",
   "execution_count": 9,
   "metadata": {},
   "outputs": [],
   "source": [
    "random_walk = RandomWalk()"
   ]
  },
  {
   "cell_type": "code",
   "execution_count": 10,
   "metadata": {},
   "outputs": [],
   "source": [
    "def pi(state):\n",
    "    return 1"
   ]
  },
  {
   "cell_type": "markdown",
   "metadata": {},
   "source": [
    "MC:"
   ]
  },
  {
   "cell_type": "code",
   "execution_count": 11,
   "metadata": {},
   "outputs": [],
   "source": [
    "def generate_trajectory(pi, env, max_steps=200):\n",
    "    \n",
    "    # list of experiences (trajectory)\n",
    "    trajectory = []\n",
    "    \n",
    "    done = False\n",
    "    steps = 0\n",
    "    \n",
    "    # reset the environment to interact in a new episode\n",
    "    state = env.reset()\n",
    "\n",
    "    # looping through until the done flag is set to true\n",
    "    while not done:     \n",
    "        steps += 1;   \n",
    "\n",
    "        # use the policy function to pick an action\n",
    "        action = pi(state) \n",
    "            \n",
    "        # step the environment using that action \n",
    "        next_state, reward, done, _ = env.step(action)\n",
    "        \n",
    "        # append the experience to the trajectory\n",
    "        experience = (state, action, reward, next_state, done)\n",
    "        trajectory.append(experience)\n",
    "            \n",
    "        # if we hit a terminal state break and return\n",
    "        if done:\n",
    "            break;\n",
    "                \n",
    "        # truncate long trajectories\n",
    "        if steps > max_steps:\n",
    "            break;\n",
    "            \n",
    "        # update the state\n",
    "        state = next_state\n",
    "            \n",
    "    # return the trajectory\n",
    "    return np.array(trajectory, object)"
   ]
  },
  {
   "cell_type": "code",
   "execution_count": 12,
   "metadata": {},
   "outputs": [],
   "source": [
    "def mc(pi, env, gamma=1.0, init_alpha=0.5, min_alpha=0.01, decay_episodes=350, n_episodes=500, max_steps=200):\n",
    "    \n",
    "    nS = env.observation_space\n",
    "    \n",
    "    # calculate all discounts at once. \n",
    "    discounts = decay_discounts(gamma, max_steps);\n",
    "    \n",
    "    # calculate all alphas at once\n",
    "    alphas = decay_alpha(init_alpha, min_alpha, decay_episodes, n_episodes);\n",
    "    \n",
    "    # initialize the current estimate of the state-value function\n",
    "    V = np.zeros(nS, dtype=float)\n",
    "    \n",
    "    # create a list to save copies of V for offline analysis\n",
    "    V_track = np.zeros((n_episodes, nS), dtype=float)\n",
    "    \n",
    "    # loop for every episode \n",
    "    for e in range(n_episodes):\n",
    "        \n",
    "        # generate a trajectory\n",
    "        trajectory = generate_trajectory(pi, env, max_steps)\n",
    "        \n",
    "        # initialize a visits check vector\n",
    "        visited = np.zeros(nS, dtype=bool)\n",
    "        \n",
    "        # loop through all experiences in the trajectory\n",
    "        for t, (state, _, reward, _, _) in enumerate(trajectory):\n",
    "            \n",
    "            # check if the state has already been visited\n",
    "            if visited[state]: \n",
    "                continue\n",
    "            visited[state] = True\n",
    "            \n",
    "            # calculate the number of steps from t to T\n",
    "            n_steps = len(trajectory[t:])\n",
    "            \n",
    "            # calculate the return\n",
    "            G = np.sum(discounts[:n_steps] * trajectory[t:, 2])\n",
    "            \n",
    "            # estimate the value function\n",
    "            V[state] = V[state] + alphas[e] * (G - V[state])\n",
    "        \n",
    "            # keep track of the episode V\n",
    "            V_track[e] = V\n",
    "            \n",
    "    return V.copy(), V_track"
   ]
  },
  {
   "cell_type": "markdown",
   "metadata": {},
   "source": [
    "TD:"
   ]
  },
  {
   "cell_type": "code",
   "execution_count": 13,
   "metadata": {},
   "outputs": [],
   "source": [
    "def td(pi, env, gamma=1.0, init_alpha=0.5, min_alpha=0.01, decay_episodes=350, n_episodes=500):\n",
    "\n",
    "    nS = env.observation_space\n",
    "        \n",
    "    # initialize the variables needed\n",
    "    V = np.zeros(nS, dtype=float)\n",
    "    V_track = np.zeros((n_episodes, nS), dtype=float)\n",
    "    \n",
    "    # calculate the learning rate schedule for all episodes\n",
    "    alphas = decay_alpha(init_alpha, min_alpha, decay_episodes, n_episodes);\n",
    "    \n",
    "    # loop for n_episodes\n",
    "    for e in range(n_episodes):\n",
    "        \n",
    "        # get the initial state and then enter the interaction loop\n",
    "        state, done = env.reset(), False\n",
    "        \n",
    "        while not done:\n",
    "            \n",
    "            # sample the policy pi for the action to take in state\n",
    "            action = pi(state)\n",
    "            \n",
    "            # use the action to interact with the environment... \n",
    "            # roll out the policy one step\n",
    "            next_state, reward, done, _ = env.step(action)\n",
    "            \n",
    "            # update V(s)\n",
    "            td_target = reward + gamma * V[next_state] * (not done)\n",
    "            td_error = td_target - V[state]\n",
    "            V[state] = V[state] + alphas[e] * td_error\n",
    "            \n",
    "            # update the state variable for the next iteration\n",
    "            state = next_state\n",
    "            \n",
    "        V_track[e] = V\n",
    "        \n",
    "    return V, V_track"
   ]
  },
  {
   "cell_type": "markdown",
   "metadata": {},
   "source": [
    "n-step TD:"
   ]
  },
  {
   "cell_type": "code",
   "execution_count": 14,
   "metadata": {},
   "outputs": [],
   "source": [
    "def generate_path(pi, env, state, n_steps):\n",
    "    path = []\n",
    "    done = False\n",
    "    while len(path) < n_steps:\n",
    "        action = pi(state) \n",
    "        next_state, reward, done, _ = env.step(action)\n",
    "        experience = (state, action, reward, next_state, done)\n",
    "        path.append(experience)\n",
    "        if done: \n",
    "            break\n",
    "        state = next_state\n",
    "    return np.array(path, object)"
   ]
  },
  {
   "cell_type": "code",
   "execution_count": 15,
   "metadata": {},
   "outputs": [],
   "source": [
    "def ntd(pi, env, gamma=1.0, n_steps=3, init_alpha=0.5, min_alpha=0.01, decay_episodes=350, n_episodes=500):\n",
    "\n",
    "    nS = env.observation_space\n",
    "    \n",
    "    # calculate n_step discounts at once \n",
    "    discounts = decay_discounts(gamma, n_steps+1);\n",
    "    \n",
    "    # calculate all alphas at once\n",
    "    alphas = decay_alpha(init_alpha, min_alpha, decay_episodes, n_episodes);\n",
    "      \n",
    "    # initialize the current estimate of the state-value function\n",
    "    # and a per-episode copy of V for offline analysis\n",
    "    V = np.zeros(nS, dtype=float)\n",
    "    V_track = np.zeros((n_episodes, nS), dtype=float)\n",
    "    \n",
    "    # loop for every episode \n",
    "    for e in range(n_episodes):\n",
    "\n",
    "        # get the initial state\n",
    "        state, done = env.reset(), False\n",
    "\n",
    "        # go collecting a series of n-state paths until we hit done\n",
    "        while not done:\n",
    "            # generate a path of n-steps (maximum, or less if we hit done)\n",
    "            path = generate_path(pi, env, state, n_steps)\n",
    "            \n",
    "            # calculate the number of steps, could be ‘n_step’ but it could \n",
    "            # also be smaller if a terminal state is in the path    \n",
    "            n = len(path)\n",
    "        \n",
    "            # initialize a visits check vector\n",
    "            visited = np.zeros(nS, dtype=bool)\n",
    "        \n",
    "            # now loop through all experiences in the path\n",
    "            for t, (path_state, _, reward, path_next_state, path_done) in enumerate(path):                \n",
    "                \n",
    "                # calculate the partial return\n",
    "                partial_return = np.sum(discounts[:n-t] * path[t:, 2])\n",
    "            \n",
    "                # update the value function\n",
    "                ntd_target = partial_return + discounts[n] * V[path[n-1, 3]]\n",
    "                ntd_error = ntd_target - V[path_state]\n",
    "                V[path_state] = V[path_state] + alphas[e] * ntd_error\n",
    "                                           \n",
    "                state = path_next_state\n",
    "                done = path_done\n",
    "                \n",
    "        # keep track of the episode’s V\n",
    "        V_track[e] = V\n",
    "                      \n",
    "    return V.copy(), V_track"
   ]
  },
  {
   "cell_type": "markdown",
   "metadata": {},
   "source": [
    "TD-lambda:"
   ]
  },
  {
   "cell_type": "code",
   "execution_count": 16,
   "metadata": {},
   "outputs": [],
   "source": [
    "def td_lambda(pi, env, gamma=1.0, lambda_=0.2, init_alpha=0.5, min_alpha=0.01, decay_episodes=350, n_episodes=500):\n",
    "    nS = env.observation_space\n",
    "    \n",
    "    # initialize the current estimate of the state-value function V\n",
    "    # and a per-episode copy of V for offline analysis\n",
    "    V = np.zeros(nS, dtype=float)\n",
    "    V_track = np.zeros((n_episodes, nS), dtype=float)\n",
    "    \n",
    "    # initialize the eligibility trace vector\n",
    "    E = np.zeros(nS, dtype=float)\n",
    "    \n",
    "    # calculate all alphas at once\n",
    "    alphas = decay_alpha(init_alpha, min_alpha, decay_episodes, n_episodes);\n",
    "\n",
    "    # loop for every episode\n",
    "    for e in range(n_episodes):\n",
    "        \n",
    "        # set E to zero every new episode\n",
    "        E.fill(0)\n",
    "        \n",
    "        # get the initial state\n",
    "        state, done = env.reset(), False\n",
    "        \n",
    "        # get into the time step loop\n",
    "        while not done:\n",
    "            \n",
    "            # sample the policy pi for the action to take in state\n",
    "            action = pi(state)\n",
    "            \n",
    "            # interact with the environment for one step and get the experience tuple\n",
    "            next_state, reward, done, _ = env.step(action)\n",
    "            \n",
    "            # use that experience to calculate the TD error as usual\n",
    "            td_target = reward + gamma * V[next_state] * (not done)\n",
    "            td_error = td_target - V[state]\n",
    "            \n",
    "            # increment the eligibility of state by 1\n",
    "            E[state] = E[state] + 1\n",
    "            \n",
    "            # apply the error update to all eligible states as indicated by E\n",
    "            V = V + alphas[e] * td_error * E\n",
    "            \n",
    "            # decay E\n",
    "            E = gamma * lambda_ * E\n",
    "            \n",
    "            state = next_state\n",
    "            \n",
    "        V_track[e] = V\n",
    "    return V, V_track"
   ]
  },
  {
   "cell_type": "markdown",
   "metadata": {},
   "source": [
    "Experiment:"
   ]
  },
  {
   "cell_type": "code",
   "execution_count": 17,
   "metadata": {},
   "outputs": [],
   "source": [
    "from collections import defaultdict\n",
    "\n",
    "def run_experiment(algorithm, nb_runs, env, pi,):\n",
    "    V_init = defaultdict(lambda: 0.5)   # init V to 0.5\n",
    "    V_init[0] = V_init[6] = 0.0         # but terminal states to zero !!\n",
    "\n",
    "    V_runs = []\n",
    "    for i in range(nb_runs):\n",
    "        _, V_td_track = algorithm(pi,env)\n",
    "        V_runs.append(V_td_track)\n",
    "    V_runs = np.array(V_runs) \n",
    "    \n",
    "    V_runs = V_runs[:,:,1:-1]  # remove data about terminal states (which is always zero anyway)\n",
    "    error_to_true = V_runs - env.V_true[1:-1]\n",
    "    squared_error = np.power(error_to_true, 2)\n",
    "    mean_squared_error = np.average(squared_error, axis=-1)  # avg over states\n",
    "    root_mean_squared_error = np.sqrt(mean_squared_error)\n",
    "    rmse_avg_over_runs = np.average(root_mean_squared_error, axis=0)\n",
    "    \n",
    "    return rmse_avg_over_runs  # this is data that goes directly on the plot"
   ]
  },
  {
   "cell_type": "code",
   "execution_count": 18,
   "metadata": {},
   "outputs": [],
   "source": [
    "rmse_mc = run_experiment(mc, 100, random_walk, pi)\n",
    "rmse_td = run_experiment(td, 100, random_walk, pi)\n",
    "rmse_ntd = run_experiment(ntd, 100, random_walk, pi)\n",
    "rmse_td_lamda = run_experiment(td_lambda, 100, random_walk, pi)"
   ]
  },
  {
   "cell_type": "code",
   "execution_count": 19,
   "metadata": {},
   "outputs": [
    {
     "data": {
      "image/png": "[encoded data removed]",
      "text/plain": [
       "<Figure size 1000x600 with 1 Axes>"
      ]
     },
     "metadata": {},
     "output_type": "display_data"
    }
   ],
   "source": [
    "import matplotlib.pyplot as plt\n",
    "\n",
    "plt.figure(figsize=(10,6))\n",
    "plt.plot(rmse_mc, color='blue', linestyle='--', label='MC')\n",
    "plt.plot(rmse_td, color='red', linestyle='-', label='TD')\n",
    "plt.plot(rmse_ntd, color='green', linestyle='-', label='n-steps TD')\n",
    "plt.plot(rmse_td_lamda, color='yellow', linestyle='-', label='TD($\\lambda$)')\n",
    "plt.title('RMS error, averaged over tests')\n",
    "plt.xlabel('Episodes')\n",
    "plt.legend()\n",
    "\n",
    "plt.show()"
   ]
  }
 ],
 "metadata": {
  "colab": {
   "collapsed_sections": [],
   "name": "math_differential_calculus",
   "provenance": [],
   "toc_visible": true
  },
  "interpreter": {
   "hash": "8aeb84091b1f1fb8d8b9efbf1e96a552fa0144c39bfbc7f744113ad2216f701d"
  },
  "kernelspec": {
   "display_name": "Python 3 (ipykernel)",
   "language": "python",
   "name": "python3"
  },
  "language_info": {
   "codemirror_mode": {
    "name": "ipython",
    "version": 3
   },
   "file_extension": ".py",
   "mimetype": "text/x-python",
   "name": "python",
   "nbconvert_exporter": "python",
   "pygments_lexer": "ipython3",
   "version": "3.11.4"
  },
  "pycharm": {
   "stem_cell": {
    "cell_type": "raw",
    "metadata": {
     "collapsed": false
    },
    "source": []
   }
  }
 },
 "nbformat": 4,
 "nbformat_minor": 4
}
