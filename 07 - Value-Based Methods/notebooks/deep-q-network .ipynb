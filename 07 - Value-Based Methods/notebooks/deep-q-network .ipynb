{
 "cells": [
  {
   "cell_type": "markdown",
   "metadata": {},
   "source": [
    "# Deep Q-Network (DQN)\n",
    "\n",
    "The main difference with NFQ are the use of an exponentially decaying epsilon-greedy strategy, the use of a replay buffer and the use of a target network ib order to simulate a IID problem and a more stable target."
   ]
  },
  {
   "cell_type": "code",
   "execution_count": 22,
   "metadata": {},
   "outputs": [],
   "source": [
    "import gym\n",
    "env = gym.make('CartPole-v1')"
   ]
  },
  {
   "cell_type": "code",
   "execution_count": 23,
   "metadata": {},
   "outputs": [],
   "source": [
    "import torch.nn as nn\n",
    "import torch.nn.functional as F\n",
    "import numpy as np\n",
    "\n",
    "class FCQ(nn.Module):\n",
    "    def __init__(self, input_dim, output_dim, hidden_dims=(32,32), activation_fc=F.relu):\n",
    "        super(FCQ, self).__init__()\n",
    "        self.activation_fc = activation_fc\n",
    "        \n",
    "        # defining the input layer\n",
    "        self.input_layer = nn.Linear(input_dim, hidden_dims[0])\n",
    "        \n",
    "        # creating the hidden layers\n",
    "        # notice how flexiblibility: it allows to change the number of layers \n",
    "        # and units per layer. \n",
    "        self.hidden_layers = nn.ModuleList()\n",
    "        for i in range(len(hidden_dims)-1):\n",
    "            hidden_layer = nn.Linear(hidden_dims[i], hidden_dims[i+1])\n",
    "            self.hidden_layers.append(hidden_layer)\n",
    "            \n",
    "        # connecting the last hidden layer    \n",
    "        self.output_layer = nn.Linear(hidden_dims[-1], output_dim)\n",
    "\n",
    "    \n",
    "    def forward(self, state):\n",
    "        # take in the raw state and convert it into a tensor\n",
    "        x = state\n",
    "        if not isinstance(x, torch.Tensor):\n",
    "            x = torch.tensor(x, device='cpu', dtype=torch.float32)\n",
    "            x = x.unsqueeze(0)\n",
    "            \n",
    "        # pass it through the input layer and then through the activation function\n",
    "        x = self.activation_fc(self.input_layer(x))\n",
    "        \n",
    "        # then pass for all hidden layers\n",
    "        for hidden_layer in self.hidden_layers:\n",
    "            x = self.activation_fc(hidden_layer(x))\n",
    "        # finally, for the output layer\n",
    "        x = self.output_layer(x)\n",
    "        return x\n",
    "    \n",
    "    def load(self, experiences):\n",
    "        states, actions, new_states, rewards, is_terminals = experiences\n",
    "        states = torch.from_numpy(states).float().to('cpu')\n",
    "        actions = torch.from_numpy(actions).long().to('cpu')\n",
    "        new_states = torch.from_numpy(new_states).float().to('cpu')\n",
    "        rewards = torch.from_numpy(rewards).float().to('cpu')\n",
    "        is_terminals = torch.from_numpy(is_terminals).float().to('cpu')\n",
    "        return states, actions, new_states, rewards, is_terminals"
   ]
  },
  {
   "cell_type": "markdown",
   "metadata": {},
   "source": [
    "To balance the exploration-exploitation trade-off we use a exponentially decaying epsilon-greedy exploration strategy."
   ]
  },
  {
   "cell_type": "code",
   "execution_count": 24,
   "metadata": {},
   "outputs": [],
   "source": [
    "class EGreedyExpStrategy():\n",
    "    \n",
    "    def __init__(self, init_epsilon=1.0, min_epsilon=0.1, decay_steps=20000):\n",
    "        \n",
    "        self.epsilon = init_epsilon\n",
    "        self.init_epsilon = init_epsilon\n",
    "        self.decay_steps = decay_steps\n",
    "        self.min_epsilon = min_epsilon\n",
    "        self.epsilons = 0.01 / np.logspace(-2, 0, decay_steps, endpoint=False) - 0.01\n",
    "        self.epsilons = self.epsilons * (init_epsilon - min_epsilon) + min_epsilon\n",
    "        self.t = 0\n",
    "        self.exploratory_action_taken = None\n",
    "\n",
    "    def _epsilon_update(self):\n",
    "        \n",
    "        # epsilon is decaying in an exponential curve\n",
    "        self.epsilon = self.min_epsilon if self.t >= self.decay_steps else self.epsilons[self.t]\n",
    "        self.t += 1\n",
    "        return self.epsilon\n",
    "\n",
    "    def select_action(self, model, state):\n",
    "        \n",
    "        self.exploratory_action_taken = False\n",
    "        \n",
    "        with torch.no_grad():\n",
    "            q_values = model(state).detach().cpu().data.numpy().squeeze()\n",
    "\n",
    "        if np.random.rand() > self.epsilon:\n",
    "            action = np.argmax(q_values)\n",
    "        else:\n",
    "            action = np.random.randint(len(q_values))\n",
    "\n",
    "        self._epsilon_update()\n",
    "        self.exploratory_action_taken = action != np.argmax(q_values)\n",
    "        return action"
   ]
  },
  {
   "cell_type": "code",
   "execution_count": 25,
   "metadata": {},
   "outputs": [
    {
     "data": {
      "image/png": "[encoded data removed]",
      "text/plain": [
       "<Figure size 864x360 with 1 Axes>"
      ]
     },
     "metadata": {
      "needs_background": "light"
     },
     "output_type": "display_data"
    }
   ],
   "source": [
    "import matplotlib.pyplot as plt\n",
    "\n",
    "s = EGreedyExpStrategy()\n",
    "\n",
    "plt.figure(figsize=(12,5))\n",
    "plt.plot([s._epsilon_update() for _ in range(50000)])\n",
    "plt.title('Epsilon-Greedy exponentially decaying epsilon value')\n",
    "plt.xticks(rotation=45)\n",
    "plt.show()"
   ]
  },
  {
   "cell_type": "markdown",
   "metadata": {},
   "source": [
    "However, when evaluating the agent, we will use the action greedy with respect to the learned action-value function."
   ]
  },
  {
   "cell_type": "code",
   "execution_count": 26,
   "metadata": {},
   "outputs": [],
   "source": [
    "class GreedyStrategy():\n",
    "    \n",
    "    def select_action(self, model, state):\n",
    "        with torch.no_grad():\n",
    "            q_values = model(state).cpu().detach()\n",
    "            q_values = q_values.data.numpy().squeeze()\n",
    "            return np.argmax(q_values)"
   ]
  },
  {
   "cell_type": "markdown",
   "metadata": {},
   "source": [
    "We create the Replay Memory, a data structure D to hold experience samples for several steps:"
   ]
  },
  {
   "cell_type": "code",
   "execution_count": 27,
   "metadata": {},
   "outputs": [],
   "source": [
    "class ReplayMemory():\n",
    "    def __init__(self, max_size=10000, batch_size=64):\n",
    "        \n",
    "        # initialize five arrays to hold states, actions, reward, next states, \n",
    "        # and done flags\n",
    "        self.states      = np.empty(shape=(max_size), dtype=np.ndarray)\n",
    "        self.actions     = np.empty(shape=(max_size), dtype=np.ndarray)\n",
    "        self.rewards     = np.empty(shape=(max_size), dtype=np.ndarray)\n",
    "        self.next_states = np.empty(shape=(max_size), dtype=np.ndarray)\n",
    "        self.dones       = np.empty(shape=(max_size), dtype=np.ndarray)\n",
    "\n",
    "        # variables to do storage and sampling\n",
    "        self.max_size = max_size\n",
    "        self.batch_size = batch_size\n",
    "        self.idx = 0\n",
    "        self.size = 0\n",
    "    \n",
    "    def store(self, sample):\n",
    "        \n",
    "        # store a new sample \n",
    "        state, action, reward, next_state, done = sample\n",
    "        self.states[self.idx] = state\n",
    "        self.actions[self.idx] = action\n",
    "        self.rewards[self.idx] = reward\n",
    "        self.next_states[self.idx] = next_state\n",
    "        self.dones[self.idx] = done\n",
    "\n",
    "        # idx points to the next index to modify, so we increase it, \n",
    "        # also make sure it loops back after reaching the maximum size \n",
    "        # (the end of the buffer)\n",
    "        self.idx += 1\n",
    "        self.idx = self.idx % self.max_size\n",
    "\n",
    "        # size also increases with every new sample stored, \n",
    "        # but it doesn’t loop back to 0; it stops growing instead\n",
    "        self.size += 1\n",
    "        self.size = min(self.size, self.max_size)\n",
    "\n",
    "    def sample(self, batch_size=None):\n",
    "        \n",
    "        # determining the batch size\n",
    "        if batch_size == None:\n",
    "            batch_size = self.batch_size\n",
    "\n",
    "        # sample batch_size ids from 0 to size.    \n",
    "        idxs = np.random.choice(self.size, batch_size, replace=False)\n",
    "        \n",
    "        # extract the experiences from the buffer using the sampled ids\n",
    "        experiences = np.vstack(self.states[idxs]), \\\n",
    "                      np.vstack(self.actions[idxs]), \\\n",
    "                      np.vstack(self.rewards[idxs]), \\\n",
    "                      np.vstack(self.next_states[idxs]), \\\n",
    "                      np.vstack(self.dones[idxs])\n",
    "        return experiences\n",
    "\n",
    "    # handy function to return the correct size of the memory\n",
    "    def __len__(self):\n",
    "        return self.size"
   ]
  },
  {
   "cell_type": "markdown",
   "metadata": {},
   "source": [
    "The algorithm has three main steps:\n",
    "1. collect experience and insert it into the replay memory\n",
    "2. randomly sample a mini-batch from the replay memory, and calculate the off-policy TD targets for the whole batch\n",
    "3. fit the action-value function Q(s,a; θ) using MSE and RMSprop"
   ]
  },
  {
   "cell_type": "code",
   "execution_count": 28,
   "metadata": {},
   "outputs": [],
   "source": [
    "import numpy as np\n",
    "import random \n",
    "import time\n",
    "from itertools import count\n",
    "import torch\n",
    "import torch.optim as optim\n",
    "\n",
    "class DQN():\n",
    "    \n",
    "    def __init__(self, env, online_model, target_model, optimizer, \n",
    "                 train_strategy, eval_strategy, replay_memory,\n",
    "                 seed, n_warmup_batches, target_update_steps):\n",
    "        \n",
    "        torch.manual_seed(seed)\n",
    "        np.random.seed(seed)\n",
    "        random.seed(seed)\n",
    "        self.env = env\n",
    "        self.replay_memory = replay_memory\n",
    "        self.online_model = online_model\n",
    "        self.target_model = target_model\n",
    "        self.optimizer = optimizer\n",
    "        self.train_strategy = train_strategy\n",
    "        self.eval_strategy = eval_strategy\n",
    "        self.n_warmup_batches = n_warmup_batches\n",
    "        self.target_update_steps = target_update_steps\n",
    "\n",
    "    def optimize_model(self, experiences):\n",
    "        \n",
    "        states, actions, rewards, next_states, is_terminals = experiences\n",
    "        batch_size = len(is_terminals)\n",
    "        \n",
    "        max_a_q_sp = self.target_model(next_states).detach().max(1)[0].unsqueeze(1)\n",
    "        target_q_sa = rewards + (self.gamma * max_a_q_sp * (1 - is_terminals))\n",
    "        q_sa = self.online_model(states).gather(1, actions)\n",
    "\n",
    "        td_error = q_sa - target_q_sa\n",
    "        value_loss = td_error.pow(2).mul(0.5).mean()\n",
    "        self.optimizer.zero_grad()\n",
    "        value_loss.backward()\n",
    "        self.optimizer.step()\n",
    "\n",
    "    def interaction_step(self, state):\n",
    "        \n",
    "        action = self.train_strategy.select_action(self.online_model, state)\n",
    "        new_state, reward, is_terminal, info = self.env.step(action)\n",
    "        is_truncated = 'TimeLimit.truncated' in info and info['TimeLimit.truncated']\n",
    "        is_failure = is_terminal and not is_truncated\n",
    "        experience = (state, action, reward, new_state, float(is_failure))\n",
    "\n",
    "        self.replay_memory.store(experience)\n",
    "        self.episode_reward[-1] += reward\n",
    "        self.episode_timestep[-1] += 1\n",
    "        self.episode_exploration[-1] += int(self.train_strategy.exploratory_action_taken)\n",
    "        return new_state, is_terminal\n",
    "    \n",
    "    def update_network(self):\n",
    "        \n",
    "        for target, online in zip(self.target_model.parameters(), self.online_model.parameters()):\n",
    "            target.data.copy_(online.data)\n",
    "\n",
    "    def train(self, gamma, max_minutes, max_episodes, goal_mean_100_reward):\n",
    "        \n",
    "        training_start = time.time()\n",
    "        last_debug_time = float('-inf')\n",
    "\n",
    "        self.gamma = gamma\n",
    "        \n",
    "        self.episode_timestep = []\n",
    "        self.episode_reward = []\n",
    "        self.episode_seconds = []\n",
    "        self.evaluation_scores = []        \n",
    "        self.episode_exploration = []\n",
    "        \n",
    "        self.update_network()\n",
    "                    \n",
    "        result = np.empty((max_episodes, 4))\n",
    "        result[:] = np.nan\n",
    "        training_time = 0\n",
    "        \n",
    "        for episode in range(1, max_episodes + 1):\n",
    "            episode_start = time.time()\n",
    "            \n",
    "            state, is_terminal = self.env.reset(), False\n",
    "            self.episode_reward.append(0.0)\n",
    "            self.episode_timestep.append(0.0)\n",
    "            self.episode_exploration.append(0.0)\n",
    "\n",
    "            for step in count():\n",
    "                state, is_terminal = self.interaction_step(state)\n",
    "                \n",
    "                min_samples = self.replay_memory.batch_size * self.n_warmup_batches\n",
    "                if len(self.replay_memory) > min_samples:\n",
    "                    experiences = self.replay_memory.sample()\n",
    "                    experiences = self.online_model.load(experiences)\n",
    "                    self.optimize_model(experiences)\n",
    "                \n",
    "                if np.sum(self.episode_timestep) % self.target_update_steps == 0:\n",
    "                    self.update_network()\n",
    "                \n",
    "                if is_terminal:\n",
    "                    break\n",
    "            \n",
    "            # stats\n",
    "            episode_elapsed = time.time() - episode_start\n",
    "            self.episode_seconds.append(episode_elapsed)\n",
    "            training_time += episode_elapsed\n",
    "            total_step = int(np.sum(self.episode_timestep))\n",
    "            evaluation_score, _ = self.evaluate()\n",
    "            self.evaluation_scores.append(evaluation_score)\n",
    "            \n",
    "            mean_100_train_reward = np.mean(self.episode_reward[-100:])\n",
    "            std_100_train_reward = np.std(self.episode_reward[-100:])\n",
    "            mean_100_eval_score = np.mean(self.evaluation_scores[-100:])\n",
    "            std_100_eval_score = np.std(self.evaluation_scores[-100:])\n",
    "\n",
    "            result[episode-1] = total_step, mean_100_train_reward, mean_100_eval_score, training_time\n",
    "            \n",
    "            total_elapsed = time.time() - training_start\n",
    "            reached_debug_time = time.time() - last_debug_time >= 60\n",
    "            reached_max_minutes = total_elapsed >= max_minutes * 60\n",
    "            reached_max_episodes = episode >= max_episodes\n",
    "            reached_goal_mean_reward = mean_100_eval_score >= goal_mean_100_reward\n",
    "            training_is_over = reached_max_minutes or reached_max_episodes or reached_goal_mean_reward\n",
    "            \n",
    "            debug_message = 'episode {:04}, steps {:06}, '\n",
    "            debug_message += 'avg score {:05.1f}\\u00B1{:05.1f}, '\n",
    "            debug_message = debug_message.format(episode-1, total_step, mean_100_train_reward, std_100_train_reward)\n",
    "            print(debug_message, end='\\r', flush=True)\n",
    "                   \n",
    "            if reached_debug_time or training_is_over:\n",
    "                print(debug_message, flush=True)\n",
    "                last_debug_time = time.time()\n",
    "            \n",
    "            if training_is_over:\n",
    "                if reached_max_minutes: print(u'--> reached_max_minutes')\n",
    "                if reached_max_episodes: print(u'--> reached_max_episodes')\n",
    "                if reached_goal_mean_reward: print(u'--> reached_goal_mean_reward')\n",
    "                break\n",
    "                \n",
    "        final_eval_score, final_eval_std = self.evaluate(n_episodes=100)\n",
    "        \n",
    "        return result, final_eval_score, final_eval_std, training_time\n",
    "    \n",
    "    def evaluate(self, n_episodes=1):\n",
    "        \n",
    "        rs = []\n",
    "        for _ in range(n_episodes):\n",
    "            s, d = self.env.reset(), False\n",
    "            rs.append(0)\n",
    "            for _ in count():\n",
    "                a = self.eval_strategy.select_action(online_model, s)\n",
    "                s, r, d, _ = self.env.step(a)\n",
    "                rs[-1] += r\n",
    "                if d: break\n",
    "                \n",
    "        return np.mean(rs), np.std(rs)\n"
   ]
  },
  {
   "cell_type": "markdown",
   "metadata": {},
   "source": [
    "We can apply the DQN algorithm to the Cart-pole environment:"
   ]
  },
  {
   "cell_type": "code",
   "execution_count": 29,
   "metadata": {},
   "outputs": [
    {
     "name": "stdout",
     "output_type": "stream",
     "text": [
      "Training started...\n",
      "episode 0000, steps 000018, avg score 018.0±000.0, \n",
      "episode 0184, steps 022504, avg score 201.1±131.7, \n",
      "episode 0235, steps 043329, avg score 346.4±156.9, \n",
      "episode 0257, steps 053451, avg score 403.0±145.1, \n",
      "--> reached_goal_mean_reward\n",
      "...training complete.\n",
      "Final evaluation score 479.13±57.27 in 147.52s training time\n",
      "\n",
      "Training started...\n",
      "episode 0000, steps 000024, avg score 024.0±000.0, \n",
      "episode 0181, steps 022752, avg score 198.4±115.1, \n",
      "episode 0232, steps 042755, avg score 328.5±134.7, \n",
      "episode 0275, steps 061704, avg score 405.5±138.6, \n",
      "episode 0281, steps 063963, avg score 412.1±138.8, \n",
      "--> reached_goal_mean_reward\n",
      "...training complete.\n",
      "Final evaluation score 500.00±0.00 in 180.39s training time\n",
      "\n",
      "Training started...\n",
      "episode 0000, steps 000017, avg score 017.0±000.0, \n",
      "episode 0200, steps 023570, avg score 195.8±120.7, \n",
      "episode 0243, steps 043474, avg score 335.3±161.1, \n",
      "episode 0274, steps 056737, avg score 410.4±136.6, \n",
      "--> reached_goal_mean_reward\n",
      "...training complete.\n",
      "Final evaluation score 500.00±0.00 in 156.83s training time\n",
      "\n",
      "Training started...\n",
      "episode 0000, steps 000013, avg score 013.0±000.0, \n",
      "episode 0169, steps 021910, avg score 199.3±135.4, \n",
      "episode 0209, steps 039522, avg score 338.9±140.9, \n",
      "episode 0238, steps 053295, avg score 411.6±120.7, \n",
      "episode 0248, steps 058030, avg score 429.5±113.2, \n",
      "--> reached_goal_mean_reward\n",
      "...training complete.\n",
      "Final evaluation score 500.00±0.00 in 195.87s training time\n",
      "\n",
      "Training started...\n",
      "episode 0000, steps 000022, avg score 022.0±000.0, \n",
      "episode 0156, steps 017679, avg score 159.9±112.8, \n",
      "episode 0191, steps 031625, avg score 278.9±145.0, \n",
      "episode 0218, steps 044672, avg score 366.9±145.0, \n",
      "episode 0242, steps 055410, avg score 414.1±136.6, \n",
      "--> reached_goal_mean_reward\n",
      "...training complete.\n",
      "Final evaluation score 500.00±0.00 in 225.32s training time\n",
      "\n"
     ]
    }
   ],
   "source": [
    "dqn_results = []\n",
    "best_dqn_agent, best_dqn_eval_score = None, float('-inf')\n",
    "\n",
    "gamma = 1.00\n",
    "max_minutes = 20\n",
    "max_episodes = 10000\n",
    "goal_mean_100_reward = 475\n",
    "\n",
    "target_update_steps = 10\n",
    "n_warmup_batches = 5\n",
    "\n",
    "nS, nA = env.observation_space.shape[0], env.action_space.n\n",
    "\n",
    "for seed in (12, 34, 56, 78, 90):\n",
    "    \n",
    "    print('Training started...')\n",
    "    \n",
    "    online_model = FCQ(nS, nA, hidden_dims=(512,128))\n",
    "    target_model = FCQ(nS, nA, hidden_dims=(512,128))\n",
    "    optimizer = optim.RMSprop(online_model.parameters(), lr=0.0005)\n",
    "    replay_memory = ReplayMemory(max_size=50000, batch_size=64)\n",
    "    \n",
    "    train_strategy = EGreedyExpStrategy(init_epsilon=1.0, min_epsilon=0.3, decay_steps=20000)\n",
    "    eval_strategy = GreedyStrategy()\n",
    "    \n",
    "    \n",
    "    agent = DQN(env, online_model, target_model, optimizer, \n",
    "                train_strategy, eval_strategy, replay_memory, seed, \n",
    "                n_warmup_batches, target_update_steps)\n",
    "    result, score, score_std, training_time = agent.train(gamma, max_minutes, max_episodes, goal_mean_100_reward)\n",
    "\n",
    "    print('...training complete.')\n",
    "    print('Final evaluation score {:.2f}\\u00B1{:.2f} in {:.2f}s training time\\n'\n",
    "          .format(score, score_std, training_time))\n",
    "    \n",
    "    dqn_results.append(result)\n",
    "    if score > best_dqn_eval_score:\n",
    "        best_dqn_eval_score = score\n",
    "        best_dqn_agent = agent\n",
    "        \n",
    "dqn_results = np.array(dqn_results)"
   ]
  },
  {
   "cell_type": "markdown",
   "metadata": {},
   "source": [
    "We can shows performance:"
   ]
  },
  {
   "cell_type": "code",
   "execution_count": 30,
   "metadata": {},
   "outputs": [],
   "source": [
    "dqn_max_steps, dqn_max_train_reward, dqn_max_eval_score, dqn_max_time = np.max(dqn_results, axis=0).T\n",
    "dqn_min_steps, dqn_min_train_reward, dqn_min_eval_score, dqn_min_time = np.min(dqn_results, axis=0).T\n",
    "dqn_mean_steps, dqn_mean_train_reward, dqn_mean_eval_score, dqn_mean_time = np.mean(dqn_results, axis=0).T\n",
    "dqn_episodes = np.arange(len(dqn_mean_steps))"
   ]
  },
  {
   "cell_type": "markdown",
   "metadata": {},
   "source": [
    "We can plot the training reward:"
   ]
  },
  {
   "cell_type": "code",
   "execution_count": 31,
   "metadata": {},
   "outputs": [
    {
     "data": {
      "image/png": "[encoded data removed]",
      "text/plain": [
       "<Figure size 864x360 with 1 Axes>"
      ]
     },
     "metadata": {
      "needs_background": "light"
     },
     "output_type": "display_data"
    }
   ],
   "source": [
    "import matplotlib.pyplot as plt\n",
    "\n",
    "plt.figure(figsize=(12,5))\n",
    "plt.plot(dqn_max_train_reward, 'b', linewidth=1)\n",
    "plt.plot(dqn_min_train_reward, 'b', linewidth=1)\n",
    "plt.plot(dqn_mean_train_reward, 'b', linewidth=2)\n",
    "plt.fill_between(dqn_episodes, dqn_min_train_reward, dqn_max_train_reward, facecolor='b', alpha=0.3)\n",
    "plt.title('Moving Avg Reward (Training)')\n",
    "plt.ylabel('Reward')\n",
    "plt.xlabel('Episodes')\n",
    "plt.show()"
   ]
  },
  {
   "cell_type": "markdown",
   "metadata": {},
   "source": [
    "Plotting the reward during evaluation steps shows the best performance we can obtain from the agent:"
   ]
  },
  {
   "cell_type": "code",
   "execution_count": 35,
   "metadata": {},
   "outputs": [
    {
     "data": {
      "image/png": "[encoded data removed]",
      "text/plain": [
       "<Figure size 864x360 with 1 Axes>"
      ]
     },
     "metadata": {
      "needs_background": "light"
     },
     "output_type": "display_data"
    }
   ],
   "source": [
    "plt.figure(figsize=(12,5))\n",
    "plt.plot(dqn_max_eval_score, 'b', linewidth=1)\n",
    "plt.plot(dqn_min_eval_score, 'b', linewidth=1)\n",
    "plt.plot(dqn_mean_eval_score, 'b', linewidth=2)\n",
    "plt.fill_between(dqn_episodes, dqn_min_eval_score, dqn_max_eval_score, facecolor='b', alpha=0.3)\n",
    "plt.title('Moving Avg Reward (Evaluation)')\n",
    "plt.ylabel('Reward')\n",
    "plt.xlabel('Episodes')\n",
    "plt.show()"
   ]
  },
  {
   "cell_type": "code",
   "execution_count": 36,
   "metadata": {},
   "outputs": [
    {
     "data": {
      "image/png": "[encoded data removed]",
      "text/plain": [
       "<Figure size 864x360 with 1 Axes>"
      ]
     },
     "metadata": {
      "needs_background": "light"
     },
     "output_type": "display_data"
    }
   ],
   "source": [
    "plt.figure(figsize=(12,5))\n",
    "plt.plot(dqn_max_steps, 'b', linewidth=1)\n",
    "plt.plot(dqn_min_steps, 'b', linewidth=1)\n",
    "plt.plot(dqn_mean_steps, 'b', linewidth=2)\n",
    "plt.fill_between(dqn_episodes, dqn_min_steps, dqn_max_steps, facecolor='b', alpha=0.3)\n",
    "plt.title('Total Steps')\n",
    "plt.ylabel('Steps')\n",
    "plt.xlabel('Episodes')\n",
    "plt.show()"
   ]
  }
 ],
 "metadata": {
  "colab": {
   "collapsed_sections": [],
   "name": "math_differential_calculus",
   "provenance": [],
   "toc_visible": true
  },
  "interpreter": {
   "hash": "8aeb84091b1f1fb8d8b9efbf1e96a552fa0144c39bfbc7f744113ad2216f701d"
  },
  "kernelspec": {
   "display_name": "Python 3 (ipykernel)",
   "language": "python",
   "name": "python3"
  },
  "language_info": {
   "codemirror_mode": {
    "name": "ipython",
    "version": 3
   },
   "file_extension": ".py",
   "mimetype": "text/x-python",
   "name": "python",
   "nbconvert_exporter": "python",
   "pygments_lexer": "ipython3",
   "version": "3.9.7"
  },
  "pycharm": {
   "stem_cell": {
    "cell_type": "raw",
    "metadata": {
     "collapsed": false
    },
    "source": []
   }
  }
 },
 "nbformat": 4,
 "nbformat_minor": 4
}
