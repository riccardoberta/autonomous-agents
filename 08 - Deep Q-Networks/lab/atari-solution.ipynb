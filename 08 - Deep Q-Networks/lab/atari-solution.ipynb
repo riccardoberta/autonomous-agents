{
 "cells": [
  {
   "cell_type": "markdown",
   "metadata": {},
   "source": [
    "## Atari Games\n",
    "\n",
    "**Atari 2600** is a video game console which provides several popular games such as pong, space invaders, pacman, break out, centipede and many more. Gymnasium includes [ALE-py](https://pypi.org/project/ale-py/), the **Arcade Learning Environment (ALE)** which is a simple framework that allows researchers to develop AI agents for Atari 2600 games. It is built on top of the **Stella emulator** and separates the details of emulation from agent design. The main Gymnasium page provides a list of all the [Atari environments](https://gymnasium.farama.org/environments/atari/).\n",
    "\n",
    "The objective of this notebook is to **train an agent to play a game of the Atari console** using the DQN algorithm **learning from raw pixel data**, like in the famous paper [V. Mnih, et al. **\"Playing Atari with Deep Reinforcement Learning\"**, NIPS 2013](https://arxiv.org/abs/1312.5602):\n",
    "\n",
    "<img src=\"./atari.png\" width=\"600\">\n",
    "\n",
    "In particular, we can consider **the classic [Pong](https://gymnasium.farama.org/environments/atari/pong/) game**. The game is played like tennis. Using a controller, each player hits the ball by moving vertically the paddles on the game field. A player scores one point when the opponent misses a hit. The first player who scores 21 points wins the game.\n",
    "\n",
    "- The action space is discrete and deterministic with 6 actions (not all meaningful for Pong): 0 (noop), 1 (fire), 2 (right) and 3 (left), 4 (right fire), 5 (left fire)\n",
    "\n",
    "- The observation space is the screen image (210x160x3).  \n",
    "\n",
    "The state space is really high-dimensional and to use it you need to modify the neural network architecture adding some convolutional layer in order to extract features from the image."
   ]
  },
  {
   "cell_type": "markdown",
   "metadata": {},
   "source": [
    "1 - Define a variable with the name of the Atari game you want to solve (e.g. Pong) and create an instance of the environment."
   ]
  },
  {
   "cell_type": "code",
   "execution_count": 1,
   "metadata": {},
   "outputs": [
    {
     "name": "stderr",
     "output_type": "stream",
     "text": [
      "A.L.E: Arcade Learning Environment (version 0.8.1+53f58b7)\n",
      "[Powered by Stella]\n"
     ]
    }
   ],
   "source": [
    "# YOUR CODE HERE\n",
    "\n",
    "# Import Gymnasium and define a variable env_name with the name of the environment to be used \n",
    "# ('ALE/Pong-v5') in the rest of the notebook, and create an instance with \"render_mode\" set to \n",
    "# \"rgb_array\". Set also the parameter \"frameskip\" to 1. Later, we will see that we want to control\n",
    "# the number of frames to skip ad a parameter of our code.\n",
    "\n",
    "\n",
    "import gymnasium as gym\n",
    "\n",
    "env_name = 'ALE/Pong-v5'\n",
    "\n",
    "env = gym.make(env_name, render_mode=\"rgb_array\", frameskip=1)"
   ]
  },
  {
   "cell_type": "markdown",
   "metadata": {},
   "source": [
    "2 - Create a function to show the game in action by rendering the environment and selecting actions at random or using a policy."
   ]
  },
  {
   "cell_type": "code",
   "execution_count": 2,
   "metadata": {},
   "outputs": [],
   "source": [
    "# YOUR CODE HERE\n",
    "\n",
    "# Use a function already created for other environments.\n",
    "\n",
    "import time\n",
    "import matplotlib.pyplot as plt\n",
    "import numpy as np\n",
    "from IPython.display import clear_output\n",
    "from itertools import count\n",
    "\n",
    "def show_policy(env, agent, n_episodes=1, max_steps=500):\n",
    "    for episode in count():\n",
    "        \n",
    "        action_size = env.action_space.n\n",
    "\n",
    "        state = env.reset()[0]\n",
    "\n",
    "        for step in count():\n",
    "\n",
    "            if(agent is None):\n",
    "                action = np.random.randint(action_size)\n",
    "            else:\n",
    "                action = greedy(agent, state)\n",
    "\n",
    "            state, reward, is_terminal, is_truncated, info = env.step(action)\n",
    "            done = is_terminal or is_truncated\n",
    "            \n",
    "            clear_output(wait=True)\n",
    "            plt.imshow(env.render())\n",
    "            plt.show()\n",
    "            \n",
    "            if done or step > max_steps:\n",
    "                break\n",
    "\n",
    "        if episode >= n_episodes-1:\n",
    "                break"
   ]
  },
  {
   "cell_type": "markdown",
   "metadata": {},
   "source": [
    "3 - Use the previous function in order to see one episode of the game with a random policy."
   ]
  },
  {
   "cell_type": "code",
   "execution_count": 29,
   "metadata": {},
   "outputs": [
    {
     "data": {
      "image/png": "[encoded data removed]",
      "text/plain": [
       "<Figure size 640x480 with 1 Axes>"
      ]
     },
     "metadata": {},
     "output_type": "display_data"
    }
   ],
   "source": [
    "# YOUR CODE HERE\n",
    "\n",
    "# Just call the \"show_policy\" function defined above passing the environment, None as agent and \n",
    "# the number of episodes you want to visualize\n",
    "\n",
    "show_policy(env, None, n_episodes=1, max_steps=500)"
   ]
  },
  {
   "cell_type": "markdown",
   "metadata": {},
   "source": [
    "4 - We would like to use as state the raw pixels data. However, **directly feeding the raw game screen image is not efficient**, since it will be **computationally expensive**. So we need to pre-process the state and the environment output to reduce the dimensionality of the problem. Moreover the Atari environments have some game specific issues, which are not relevant for the learning process, that we need to manage. In order to do that, you can use the **wrapper function**, which is a convenient way to modify an existing environment without having to alter the underlying code directly. Using wrappers will allow you to avoid a lot of boilerplate code and make your environment more modular.  Here a list of the useful modifications that we can apply to the Atari environment: \n",
    "\n",
    "1) The raw game screen size is 210x160 pixels with three color channels (RGB), however you don't need the color information and you can resize the image in order to reduce the dimensionality of the problem.\n",
    "\n",
    "2) Atari games typically run at 60 frames per second, however not every frame contains crucial information for decision-making. To reduce computation and memory requirements, and to speed up training, you can skip a certain number of frames. Moreover, some games have a flickering effect (when the game draws different portions of the screen on even and odd frames) due to the old Atari platform’s limitation. For the human eye, such quick changes are not visible, but they can confuse a neural network. So, you can take the maximum of every pixel in the last two frames and use it as observation.\n",
    "\n",
    "3) In order to inject variability into the initial state of each episode, promoting exploration and helping the agent discover a more robust policy across different starting conditions you can introduce a certain number of \"no-operation\" actions at the beginning of each episode in order to add stochasticity to the initial conditions of the environment. \n",
    "\n",
    "Add a wrapper in order to apply all those modifications to the environment."
   ]
  },
  {
   "cell_type": "code",
   "execution_count": 30,
   "metadata": {},
   "outputs": [],
   "source": [
    "# YOUR CODE HERE\n",
    "\n",
    "# Gymnasium provides a wrapper to apply those pre-porcessing to the \n",
    "# observations for the Atari games, you can use the \"AtariPreprocessing\" wrapper \n",
    "# from \"gymnasium.wrappers\" module.\n",
    "\n",
    "env = gym.wrappers.AtariPreprocessing(env,\n",
    "                         noop_max = 30,          # the max number no-ops actions are taken at reset\n",
    "                         frame_skip = 4,         # the number of frames between new observation\n",
    "                         screen_size = 84,       # resize the image frame\n",
    "                         grayscale_obs = True,   # convert the image frame to grayscale\n",
    "                         scale_obs = True)       # scale the image frame"
   ]
  },
  {
   "cell_type": "markdown",
   "metadata": {},
   "source": [
    "5 - A single raw screenshot of the game used as state is not enough to extract the information about the game state. How can the agent learn to play just seeing a single image at a time? It is **not possible to build an idea about how the game objects are moving**. In Pong, just looking at a single frame don't provide enough information to understand if the ball is moving left to right or right to left. For example, in the Cart-pole example, the state is composed by the position of the cart, the angle of the pole, but it includes also the velocity of both. To deal with this, you need to consider as state a series of frame and not just one. In this way, the agent can learn how the objects are moving. So, you need to apply a wrapper that will stack the last N (4) frames together and use them as state.\n",
    "\n",
    "<img src=\"./state.png\" width=\"600\">\n"
   ]
  },
  {
   "cell_type": "code",
   "execution_count": 3,
   "metadata": {},
   "outputs": [],
   "source": [
    "# YOUR CODE HERE\n",
    "\n",
    "# Gymnasium provides the \"FrameStack\" wrapper to stack the last n frames of the game. Apply it to the\n",
    "# environment.\n",
    "\n",
    "env = gym.wrappers.FrameStack(env,4)"
   ]
  },
  {
   "cell_type": "markdown",
   "metadata": {},
   "source": [
    "\n",
    "6 - Some games, as Pong, require a user to press the FIRE button to start the game, we need to take this action on reset. Add another wrapper to take this action on reset.\n"
   ]
  },
  {
   "cell_type": "code",
   "execution_count": 4,
   "metadata": {},
   "outputs": [],
   "source": [
    "# YOUR CODE HERE\n",
    "\n",
    "# This wrapper che be found in th stable_baselines3 library. It is called \"FireResetEnv\"\n",
    "# Import it and apply it to the environment.\n",
    "\n",
    "import stable_baselines3\n",
    "\n",
    "env = stable_baselines3.common.atari_wrappers.FireResetEnv(env)"
   ]
  },
  {
   "cell_type": "markdown",
   "metadata": {},
   "source": [
    "7 - Finally, write a \"make_atari_env\" reassumed function that takes as input the name of the game and returns the wrapped environment\n",
    "\n",
    "<img src=\"./wrappers.png\" width=\"600\">"
   ]
  },
  {
   "cell_type": "code",
   "execution_count": 5,
   "metadata": {},
   "outputs": [],
   "source": [
    "# YOUR CODE HERE\n",
    "\n",
    "# You create an environment and then apply in order all the wrappers needed\n",
    "\n",
    "def make_atari_env(env_name):\n",
    "\n",
    "    env = gym.make(env_name, render_mode=\"rgb_array\", frameskip=1)\n",
    "    env = stable_baselines3.common.atari_wrappers.FireResetEnv(env)\n",
    "    env = gym.wrappers.AtariPreprocessing(env, noop_max=30, frame_skip=4, screen_size=84, grayscale_obs=True, scale_obs=True)    \n",
    "    env = gym.wrappers.FrameStack(env,4)\n",
    "\n",
    "    return env"
   ]
  },
  {
   "cell_type": "markdown",
   "metadata": {},
   "source": [
    "8 - Since we are dealing with images, **instead of using a fully connected neural network, this time you need to use a convolutional neural network**. The convolutional layers extract the features from the image and output the feature maps, then the flattened feature map can be fed to the fully connected layer which returns the Q value. You can implement the following architecture:\n",
    "\n",
    "- Convolutional layer with 32 filters, kernel size 8, stride 4, padding 0, followed by a ReLU activation function\n",
    "- Convolutional layer with 64 filters, kernel size 4, stride 2, padding 0, followed by a ReLU activation function\n",
    "- Convolutional layer with 64 filters, kernel size 3, stride 1, padding 0, followed by a ReLU activation function\n",
    "- Flatten layer\n",
    "- Fully connected layer with 512 units, followed by a ReLU activation function\n",
    "- Fully connected layer with a number of units equal to the number of actions \n",
    "\n",
    "<img src=\"./network.png\" width=\"800\">"
   ]
  },
  {
   "cell_type": "code",
   "execution_count": 6,
   "metadata": {},
   "outputs": [],
   "source": [
    "# YOUR CODE HERE\n",
    "\n",
    "# Add the code for a neural network using the PyTorch library. \n",
    "\n",
    "import torch\n",
    "\n",
    "device = torch.device(\"cuda\" if torch.cuda.is_available() else \"cpu\")\n",
    "\n",
    "class Approximator(torch.nn.Module):\n",
    "    def __init__(self, state_shape, action_size):\n",
    "        super(Approximator, self).__init__()\n",
    "\n",
    "        self.conv = torch.nn.Sequential(\n",
    "                    torch.nn.Conv2d(state_shape[0], 32, kernel_size=8, stride=4),\n",
    "                    torch.nn.ReLU(),\n",
    "                    torch.nn.Conv2d(32, 64, kernel_size=4, stride=2),\n",
    "                    torch.nn.ReLU(),\n",
    "                    torch.nn.Conv2d(64, 64, kernel_size=3, stride=1),\n",
    "                    torch.nn.ReLU()\n",
    "        )\n",
    "\n",
    "        self.fc = torch.nn.Sequential(\n",
    "                  torch.nn.Linear(7 * 7 * 64, 512),\n",
    "                  torch.nn.ReLU(),\n",
    "                  torch.nn.Linear(512, action_size)\n",
    "        )\n",
    "                              \n",
    "    def forward(self, state):\n",
    "        x = self.conv(state)\n",
    "        x = x.view(x.size(0), -1)\n",
    "        q_values = self.fc(x)\n",
    "        return q_values\n",
    "\n",
    "    def select_action(self, state):\n",
    "        state = torch.FloatTensor(np.float32(state)).unsqueeze(0).to(device)\n",
    "        q_values = self(state)\n",
    "        action = q_values.max(1)[1].data[0]\n",
    "        return action"
   ]
  },
  {
   "cell_type": "markdown",
   "metadata": {},
   "source": [
    "9 - Add the Replay Memory to store the transitions (state, action, reward, next_state, done)."
   ]
  },
  {
   "cell_type": "code",
   "execution_count": 24,
   "metadata": {},
   "outputs": [],
   "source": [
    "# YOUR CODE HERE\n",
    "\n",
    "# Add the code for the replay buffer already used presented in the DQN implementation. You need to \n",
    "# modify it in order to store state as a stack of four frames instead of a vector of values\n",
    "\n",
    "class ReplayMemory():\n",
    "    def __init__(self, state_shape, memory_size, batch_size):\n",
    "        self.memory_size = memory_size\n",
    "        self.batch_size = batch_size\n",
    "                \n",
    "        self.states = np.empty(shape=(memory_size, state_shape[0], state_shape[1], state_shape[2]), dtype=np.float32)\n",
    "        self.actions = np.empty(shape=(memory_size), dtype=np.int8)\n",
    "        self.rewards = np.empty(shape=(memory_size), dtype=np.float32)\n",
    "        self.next_states = np.empty(shape=(memory_size, state_shape[0], state_shape[1], state_shape[2]), dtype=np.float32)\n",
    "        self.is_failures = np.empty(shape=(memory_size), dtype=np.int8)\n",
    "\n",
    "        self.n_entries = 0\n",
    "        self.next_index = 0\n",
    "\n",
    "    def store(self, state, action, reward, next_state, is_failure):\n",
    "        self.states[self.next_index] = state\n",
    "        self.actions[self.next_index] = action\n",
    "        self.rewards[self.next_index] = reward\n",
    "        self.next_states[self.next_index] = next_state\n",
    "        self.is_failures[self.next_index] = is_failure\n",
    "\n",
    "        self.n_entries = min(self.n_entries + 1, self.memory_size)\n",
    "        self.next_index += 1\n",
    "        self.next_index = self.next_index % self.memory_size\n",
    "\n",
    "    def sample(self, batch_size=None):\n",
    "        batch_size = self.batch_size if batch_size == None else batch_size\n",
    "        if(batch_size > self.len()): raise Exception(\"Batch size is greater than the memory size\")\n",
    "       \n",
    "        idxs = np.random.choice(range(self.len()), batch_size, replace=False)        \n",
    "\n",
    "        states = self.states[idxs]\n",
    "        actions = self.actions[idxs]\n",
    "        rewards = self.rewards[idxs]\n",
    "        next_states = self.next_states[idxs]\n",
    "        is_failures = self.is_failures[idxs]\n",
    "\n",
    "        return states, actions, rewards, next_states, is_failures\n",
    "\n",
    "    def len(self):\n",
    "        return self.n_entries"
   ]
  },
  {
   "cell_type": "markdown",
   "metadata": {},
   "source": [
    "10 - Create a the code for exploration (decaying epsilon-greedy policy) and exploitation (greedy policy) and the code for doing the evaluation of the agent."
   ]
  },
  {
   "cell_type": "code",
   "execution_count": 8,
   "metadata": {},
   "outputs": [],
   "source": [
    "# YOUR CODE HERE\n",
    "\n",
    "# Add the code for decaying epsilon and the epsilon-greedy policy as already\n",
    "# done for the DQN implementation\n",
    "\n",
    "def decay_epsilon(max, min, decay_episodes, max_episodes):\n",
    "    rem_episodes = max_episodes - decay_episodes\n",
    "    values = np.logspace(start=0, stop=-2, num=decay_episodes, base=10)\n",
    "    values = (values - values.min()) / (values.max() - values.min())\n",
    "    values = (max - min) * values + min\n",
    "    values = np.pad(values, (0, rem_episodes), 'edge')\n",
    "    return values\n",
    "\n",
    "def epsilon_greedy(approximator, state, action_size, epsilon):\n",
    "    if random.uniform(0,1) < epsilon:\n",
    "        return np.random.randint(action_size)\n",
    "    return approximator.select_action(state)"
   ]
  },
  {
   "cell_type": "code",
   "execution_count": 9,
   "metadata": {},
   "outputs": [],
   "source": [
    "# YOUR CODE HERE\n",
    "\n",
    "# Add the code for greedy policy as already\n",
    "# done for the DQN implementation\n",
    "\n",
    "def greedy(approximator, state):\n",
    "    return approximator.select_action(state)"
   ]
  },
  {
   "cell_type": "code",
   "execution_count": 10,
   "metadata": {},
   "outputs": [],
   "source": [
    "# YOUR CODE HERE\n",
    "\n",
    "# Add the code for an evaluation or the agent as already\n",
    "# done for the DQN implementation.\n",
    "\n",
    "def evaluate(approximator, env, episodes=1):\n",
    "    rewards = []\n",
    "    for _ in range(episodes):\n",
    "        state = env.reset()[0]\n",
    "        rewards.append(0)\n",
    "        while(True):\n",
    "            action = greedy(approximator, state)\n",
    "            state, reward, is_terminal, is_truncated, info = env.step(action)\n",
    "            rewards[-1] += reward\n",
    "            is_done = is_terminal or is_truncated\n",
    "            if is_done: \n",
    "                break\n",
    "    return np.mean(rewards)"
   ]
  },
  {
   "cell_type": "markdown",
   "metadata": {},
   "source": [
    "11 - Add the code for the optimization of the Q-function based on the experience sampled from the replay buffer. Remember to use the target network to compute the target Q-values.\n",
    "\n",
    "<img src=\"./optimize.png\" width=\"800\">"
   ]
  },
  {
   "cell_type": "code",
   "execution_count": 11,
   "metadata": {},
   "outputs": [],
   "source": [
    "# YOUR CODE HERE\n",
    "\n",
    "# Add the code of the optimization algorithm as already\n",
    "# done for the DQN implementation. This time you need to to pay attention\n",
    "# to states which are a stack of four images\n",
    "\n",
    "def optimize(memory, online_model, target_model, optimizer, gamma):\n",
    "\n",
    "    # sample a mini batch of transition from the replay buffer\n",
    "    states, actions, rewards, next_states, is_failures = memory.sample()\n",
    "\n",
    "    states = torch.from_numpy(states).float().to(device)\n",
    "    actions = torch.from_numpy(np.vstack(actions)).long().to(device)\n",
    "    next_states = torch.from_numpy(next_states).float().to(device)\n",
    "    rewards = torch.from_numpy(np.vstack(rewards)).float().float().to(device)\n",
    "    is_failures = torch.from_numpy(np.vstack(is_failures)).long().to(device)\n",
    "        \n",
    "    # get the values of the Q-function at next state from the \"target\" network \n",
    "    q_target_next = target_model(next_states).detach()\n",
    "        \n",
    "    # get the max value \n",
    "    max_q_target_next = q_target_next.max(1)[0].unsqueeze(1)\n",
    "\n",
    "    # one important step, often overlooked, is to ensure \n",
    "    # terminal states are grounded to zero\n",
    "    max_q_target_next *= (1 - is_failures)\n",
    "\n",
    "    # calculate the target \n",
    "    target = rewards + gamma * max_q_target_next\n",
    "\n",
    "    # finally, we get the current estimate of Q(s,a), here we query the current \"online\" network\n",
    "    q_online_current = online_model(states).gather(1, actions) \n",
    "    \n",
    "    # create the errors\n",
    "    td_errors = target - q_online_current\n",
    "    \n",
    "    # calculate the loss, and optimize the online network\n",
    "    value_loss = td_errors.pow(2).mean()\n",
    "\n",
    "    optimizer.zero_grad()\n",
    "    value_loss.backward()\n",
    "    optimizer.step()\n"
   ]
  },
  {
   "cell_type": "markdown",
   "metadata": {},
   "source": [
    "12 - Write the code to synchronize the target network with the online network."
   ]
  },
  {
   "cell_type": "code",
   "execution_count": 12,
   "metadata": {},
   "outputs": [],
   "source": [
    "# YOUR CODE HERE\n",
    "\n",
    "# You can use the same function update used in the DQN implementation\n",
    "\n",
    "def update(target_model, online_model):\n",
    "    for target, online in zip(target_model.parameters(), online_model.parameters()):\n",
    "        target.data.copy_(online.data)"
   ]
  },
  {
   "cell_type": "markdown",
   "metadata": {},
   "source": [
    "13 - Write the code of the DDQN algorithm (exploiting the new convolutional network architecture). You should modify the code in order to save the network weights after some episodes."
   ]
  },
  {
   "cell_type": "code",
   "execution_count": 13,
   "metadata": {},
   "outputs": [],
   "source": [
    "# YOUR CODE HERE\n",
    "\n",
    "# Add the code for the DQN algorithm, exploiting the convolutional neural architecture\n",
    "# already defined, the replay buffer as already implemented in DQN algorithm. \n",
    "# At the begging, if a model file is already present on the disk, you should load the weights and \n",
    "# sometimes, you should save the model on the disk.\n",
    "\n",
    "import time\n",
    "import numpy as np\n",
    "import random\n",
    "from itertools import count\n",
    "import os\n",
    "\n",
    "import gymnasium\n",
    "\n",
    "def dqn(env_name, seed, filename,\n",
    "        replay_memory_size, starting_memory_size, batch_size, \n",
    "        online_optimize_steps, target_update_steps,\n",
    "        epsilon_max, epsilon_min, decay_episodes,\n",
    "        learning_rate, gamma, \n",
    "        max_episodes, max_time, max_score, episodes_window):\n",
    "\n",
    "    # model path\n",
    "    path = os.path.join(\"./\", filename)\n",
    "\n",
    "    # best score\n",
    "    best_score = float('-inf')\n",
    "    \n",
    "    # create the environment\n",
    "    env = make_atari_env(env_name)\n",
    "\n",
    "    # access the state and action sizes of the environment \n",
    "    state_shape = env.observation_space.shape\n",
    "    action_size = env.action_space.n\n",
    "    \n",
    "    # create the experience replay\n",
    "    replay_buffer = ReplayMemory(state_shape, replay_memory_size, batch_size)\n",
    "\n",
    "    # set the seeds for reproducibility of results\n",
    "    torch.manual_seed(seed)\n",
    "    np.random.seed(seed)\n",
    "    random.seed(seed)\n",
    "    env.np_random = np.random.Generator(np.random.PCG64(seed))\n",
    "\n",
    "    # create the online and target models\n",
    "    online_model = Approximator(state_shape, action_size)\n",
    "    target_model = Approximator(state_shape, action_size)\n",
    "    update(target_model, online_model)\n",
    "\n",
    "    # if a model is available, load it\n",
    "    if os.path.isfile(path): \n",
    "        online_model.load_state_dict(torch.load(path))\n",
    "    \n",
    "    # create the optimizer\n",
    "    optimizer = torch.optim.Adam(online_model.parameters(), lr=learning_rate)\n",
    "\n",
    "    # calculate the decay epsilon\n",
    "    epsilons = decay_epsilon(epsilon_max, epsilon_min, decay_episodes, max_episodes+1)\n",
    "\n",
    "    # episode stats trackers \n",
    "    episode_steps = []\n",
    "    episode_return = []\n",
    "    episode_seconds = []\n",
    "    episode_scores = [] \n",
    "\n",
    "    # total stats trackers\n",
    "    total_step = 0\n",
    "    training_time = 0\n",
    "    results = np.empty((max_episodes+1, 4))\n",
    "    results[:] = np.nan\n",
    "                    \n",
    "    # train until we reach the terminal condition (max episodes)\n",
    "    for episode in count():\n",
    "\n",
    "        # get the start time of the episode\n",
    "        episode_start = time.time()\n",
    "        \n",
    "        # set return to 0\n",
    "        discounted_return = 0\n",
    "\n",
    "        # reset the environment before starting the episode\n",
    "        state = env.reset()[0]\n",
    "\n",
    "        # interact with the environment until the episode is done\n",
    "        for step in count():\n",
    "\n",
    "            # select the action using the exploration policy\n",
    "            action = epsilon_greedy(online_model, state, action_size, epsilons[episode])\n",
    "\n",
    "            # perform the selected action\n",
    "            next_state, reward, is_terminal, is_truncated, info = env.step(action)\n",
    "            is_done = is_terminal or is_truncated\n",
    "            is_failure = is_terminal and not is_truncated\n",
    "\n",
    "            # store the experience into the replay buffer\n",
    "            replay_buffer.store(state, action, reward, next_state, is_failure)\n",
    "            \n",
    "            # sometimes, optimize the online model using the replay buffer\n",
    "            if step % online_optimize_steps == 0 and replay_buffer.len() > starting_memory_size:\n",
    "                optimize(replay_buffer, online_model, target_model, optimizer, gamma)\n",
    "                 \n",
    "            # sometimes, synchronize the target model with the online model\n",
    "            if step % target_update_steps == 0:\n",
    "                update(target_model, online_model)\n",
    "                \n",
    "            # update current state to next state\n",
    "            state = next_state\n",
    "        \n",
    "            # update the return\n",
    "            discounted_return += reward\n",
    "            \n",
    "            if is_done:\n",
    "                break\n",
    "\n",
    "        # evaluate the learned policy after the episode\n",
    "        update(target_model, online_model)\n",
    "        score = evaluate(online_model, env)\n",
    "\n",
    "        # timing stuff\n",
    "        episode_elapsed = time.time() - episode_start\n",
    "\n",
    "        # update episode stats\n",
    "        episode_steps.append(step)\n",
    "        episode_return.append(discounted_return)\n",
    "        episode_seconds.append(episode_elapsed)\n",
    "        episode_scores.append(score)\n",
    "\n",
    "        # sometimes, save the model\n",
    "        if episode % 5 == 0:          \n",
    "            torch.save(online_model.state_dict(), path)\n",
    "\n",
    "        # update total stats\n",
    "        total_step += step\n",
    "        training_time += episode_elapsed  \n",
    "            \n",
    "        # average stats over some recent episodes\n",
    "        mean_return = np.mean(episode_return[-episodes_window:])\n",
    "        mean_score = np.mean(episode_scores[-episodes_window:])\n",
    "\n",
    "        # report results\n",
    "        results[episode] = total_step, mean_return, mean_score, training_time\n",
    "            \n",
    "        # informative print logging  \n",
    "        message = 'episode {:04}, steps {:06}, average score {:05.1f}, average return {:05.1f}'\n",
    "        message = message.format(episode, total_step, mean_score, mean_return)\n",
    "        print(message, end='\\r', flush=True)\n",
    "            \n",
    "        # check max episodes achievement criteria\n",
    "        if (episode >= max_episodes):\n",
    "            print(message, ' --> reached_max_episodes ')\n",
    "            break\n",
    "            \n",
    "        # check max time achievement criteria\n",
    "        if (training_time >= max_time):\n",
    "            print(message, ' --> reached_max_time ')\n",
    "            break\n",
    "\n",
    "        # check max score achievement criteria\n",
    "        if (mean_score >= max_score):\n",
    "            print(message, ' --> reached_max_score ')\n",
    "            break\n",
    "        \n",
    "    return online_model, score, results"
   ]
  },
  {
   "cell_type": "markdown",
   "metadata": {},
   "source": [
    "14 - Apply the algorithm to the ATARI environment. Pay attention, the following code takes a lot of time to run (days on a powerful machine)."
   ]
  },
  {
   "cell_type": "code",
   "execution_count": 42,
   "metadata": {},
   "outputs": [
    {
     "name": "stdout",
     "output_type": "stream",
     "text": [
      "episode 0398, steps 652090, average score -12.0, average return -16.6  --> reached_max_time \n"
     ]
    }
   ],
   "source": [
    "# YOUR CODE HERE\n",
    "\n",
    "# Apply the previous written algorithm to the ATARI environment, please pay attention\n",
    "# to the parameters. We need a larger replay buffer because the problem is more complex.\n",
    "\n",
    "max_episodes = 600\n",
    "max_time = 60*60*25\n",
    "max_score = 20\n",
    "\n",
    "episodes_window = 5\n",
    "\n",
    "gamma = 0.99\n",
    "learning_rate = 0.0001\n",
    "\n",
    "epsilon_max = 1\n",
    "epsilon_min = 0.3\n",
    "decay_episodes = int(0.5 * max_episodes)\n",
    "\n",
    "replay_memory_size = 100000\n",
    "starting_memory_size = 10000\n",
    "batch_size = 64 \n",
    "\n",
    "online_optimize_steps = 1\n",
    "target_update_steps = 10\n",
    "\n",
    "seed = 42\n",
    "\n",
    "filename = 'model_dqn.pth'\n",
    "agent, score, result = dqn(env_name, seed, filename,\n",
    "                           replay_memory_size, starting_memory_size, batch_size,\n",
    "                           online_optimize_steps, target_update_steps,\n",
    "                           epsilon_max, epsilon_min, decay_episodes,\n",
    "                           learning_rate, gamma, \n",
    "                           max_episodes, max_time, max_score, episodes_window)"
   ]
  },
  {
   "cell_type": "markdown",
   "metadata": {},
   "source": [
    "15 - Extract values from the results"
   ]
  },
  {
   "cell_type": "code",
   "execution_count": 47,
   "metadata": {},
   "outputs": [],
   "source": [
    "# YOUR CODE HERE\n",
    "\n",
    "# Simply extract steps, train_reward, eval_score and training_time from the \n",
    "# results produced by the algorithm\n",
    "\n",
    "steps, train_reward, eval_score, training_time  = result.T"
   ]
  },
  {
   "cell_type": "markdown",
   "metadata": {},
   "source": [
    "16 - Show the average reward curve as a function of the number of episodes"
   ]
  },
  {
   "cell_type": "code",
   "execution_count": 48,
   "metadata": {},
   "outputs": [
    {
     "data": {
      "image/png": "[encoded data removed]",
      "text/plain": [
       "<Figure size 1200x600 with 1 Axes>"
      ]
     },
     "metadata": {},
     "output_type": "display_data"
    }
   ],
   "source": [
    "# YOUR CODE HERE\n",
    "\n",
    "# Show the moving average reward during the training process\n",
    "\n",
    "import matplotlib.pyplot as plt\n",
    "\n",
    "plt.figure(figsize=(12,6))\n",
    "\n",
    "plt.plot(train_reward, linewidth=1)\n",
    "plt.title('Moving Avg Reward (Training)')\n",
    "plt.ylabel('Reward')\n",
    "plt.xlabel('Episodes')\n",
    "\n",
    "plt.show()"
   ]
  },
  {
   "cell_type": "markdown",
   "metadata": {},
   "source": [
    "17 - Show the average evaluation score curve as a function of the number of episodes"
   ]
  },
  {
   "cell_type": "code",
   "execution_count": 45,
   "metadata": {},
   "outputs": [
    {
     "data": {
      "image/png": "[encoded data removed]",
      "text/plain": [
       "<Figure size 1200x600 with 1 Axes>"
      ]
     },
     "metadata": {},
     "output_type": "display_data"
    }
   ],
   "source": [
    "# YOUR CODE HERE\n",
    "\n",
    "# Show the moving average reward of the evaluation process\n",
    "\n",
    "plt.figure(figsize=(12,6))\n",
    "\n",
    "plt.plot(eval_score, linewidth=1)\n",
    "plt.title('Moving Avg Reward (Evaluation)')\n",
    "plt.ylabel('Reward')\n",
    "plt.xlabel('Episodes')\n",
    "\n",
    "plt.show()"
   ]
  },
  {
   "cell_type": "markdown",
   "metadata": {},
   "source": [
    "18 - Show the best agent playing the game using the greedy policy   "
   ]
  },
  {
   "cell_type": "code",
   "execution_count": 51,
   "metadata": {},
   "outputs": [
    {
     "data": {
      "image/png": "[encoded data removed]",
      "text/plain": [
       "<Figure size 640x480 with 1 Axes>"
      ]
     },
     "metadata": {},
     "output_type": "display_data"
    }
   ],
   "source": [
    "# YOUR CODE HERE\n",
    "\n",
    "# You can show the policy learned by the agent using the \"show_policy\" function, as best policy\n",
    "# you have to load the weights saved on disk.\n",
    "\n",
    "# create the environment\n",
    "env = make_atari_env(env_name)\n",
    "\n",
    "state_shape = env.observation_space.shape\n",
    "action_size = env.action_space.n\n",
    "\n",
    "# create the agent from the saved model\n",
    "path = os.path.join(\"./\", \"model_dqn.pth\")\n",
    "agent = Approximator(state_shape, action_size)\n",
    "agent.load_state_dict(torch.load(path))\n",
    "\n",
    "show_policy(env, agent, n_episodes=1, max_steps=2000)"
   ]
  },
  {
   "cell_type": "markdown",
   "metadata": {},
   "source": [
    "19 - Add the Prioritized Experience Replay to the algorithm"
   ]
  },
  {
   "cell_type": "code",
   "execution_count": 30,
   "metadata": {},
   "outputs": [],
   "source": [
    "# YOUR CODE HERE\n",
    "\n",
    "# XXX\n",
    "\n",
    "class ReplayMemory():\n",
    "    def __init__(self, state_shape, memory_size, batch_size):\n",
    "        self.memory_size = memory_size\n",
    "        self.batch_size = batch_size\n",
    "\n",
    "        self.states = np.empty(shape=(memory_size, state_shape[0], state_shape[1], state_shape[2]), dtype=np.float32)\n",
    "        self.actions = np.empty(shape=(memory_size), dtype=np.int8)\n",
    "        self.rewards = np.empty(shape=(memory_size), dtype=np.float32)\n",
    "        self.next_states = np.empty(shape=(memory_size, state_shape[0], state_shape[1], state_shape[2]), dtype=np.float32)\n",
    "        self.is_failures = np.empty(shape=(memory_size), dtype=np.int8)\n",
    "        self.priorities = np.empty(shape=(memory_size), dtype=np.float32)\n",
    "        \n",
    "        self.n_entries = 0\n",
    "        self.next_index = 0\n",
    "\n",
    "        self.alpha = 0.4\n",
    "        self.beta = 0.4\n",
    "\n",
    "    def store(self, state, action, reward, next_state, is_failure):\n",
    "        \n",
    "        # calculate the priority for the sample using\n",
    "        # the highest magnitude TD error in the memory\n",
    "        priority = 1.0\n",
    "        if self.len() > 0:\n",
    "            priority = self.priorities[:self.len()].max()\n",
    "\n",
    "        # insert the sample and its priority into the memory\n",
    "        self.states[self.next_index] = state\n",
    "        self.actions[self.next_index] = action\n",
    "        self.rewards[self.next_index] = reward\n",
    "        self.next_states[self.next_index] = next_state\n",
    "        self.is_failures[self.next_index] = is_failure\n",
    "        self.priorities[self.next_index] = priority\n",
    "        \n",
    "        self.n_entries = min(self.n_entries + 1, self.memory_size)\n",
    "        self.next_index += 1\n",
    "        self.next_index = self.next_index % self.memory_size\n",
    "\n",
    "    \n",
    "    def update(self, idxs, td_errors):\n",
    "        # takes the array of experiences ids, and new TD error values\n",
    "        # insert the absolute TD errors into the right place.\n",
    "        self.priorities[idxs] = np.abs(td_errors)\n",
    "\n",
    "    def sample(self, batch_size=None):\n",
    "        batch_size = self.batch_size if batch_size == None else batch_size\n",
    "        if(batch_size > self.len()): raise Exception(\"Batch size is greater than the memory size\")\n",
    "      \n",
    "        # go from priorities to probabilities\n",
    "        priorities = self.priorities[:self.len()] + 1e-6\n",
    "        scaled_priorities = priorities ** self.alpha               \n",
    "\n",
    "        probs = scaled_priorities / np.sum(scaled_priorities)\n",
    "        \n",
    "        # calculate the importance-sampling weights using the probabilities\n",
    "        weights = (self.len() * probs) ** -self.beta\n",
    "        weights = weights/weights.max()\n",
    "\n",
    "        # sample experiences in the memory using the probabilities\n",
    "        idxs = np.random.choice(self.len(), batch_size, replace=False, p=probs)\n",
    "\n",
    "        weights = weights[idxs]\n",
    "        states = self.states[idxs]\n",
    "        actions = self.actions[idxs]\n",
    "        rewards = self.rewards[idxs]\n",
    "        next_states = self.next_states[idxs]\n",
    "        is_failures = self.is_failures[idxs]\n",
    "\n",
    "        return idxs, weights, states, actions, rewards, next_states, is_failures\n",
    "\n",
    "    def len(self):\n",
    "        return self.n_entries"
   ]
  },
  {
   "cell_type": "markdown",
   "metadata": {},
   "source": [
    "20 - Add the Double DQN to the algorithm."
   ]
  },
  {
   "cell_type": "code",
   "execution_count": 32,
   "metadata": {},
   "outputs": [],
   "source": [
    "# YOUR CODE HERE\n",
    "\n",
    "# XXX\n",
    "\n",
    "def optimize(memory, online_model, target_model, optimizer, gamma):\n",
    "\n",
    "    # sample a mini batch of transition from the replay buffer\n",
    "    idxs, weights, states, actions, rewards, next_states, is_failures = memory.sample()\n",
    "\n",
    "    weights = torch.from_numpy(np.vstack(weights)).float()\n",
    "    states = torch.from_numpy(states).float()\n",
    "    actions = torch.from_numpy(np.vstack(actions)).long()\n",
    "    next_states = torch.from_numpy(next_states).float()\n",
    "    rewards = torch.from_numpy(np.vstack(rewards)).float().float()\n",
    "    is_failures = torch.from_numpy(np.vstack(is_failures)).long()\n",
    "        \n",
    "    # get the best action for the next state from the online model \n",
    "    q_online_next = online_model(next_states).detach()\n",
    "    argmax_q_online_next = q_online_next.max(1)[1].unsqueeze(1)\n",
    "\n",
    "    # get the values of that action from the target model\n",
    "    q_target_next = target_model(next_states).detach()\n",
    "    max_q_target_next = q_target_next.gather(1, argmax_q_online_next)\n",
    "    max_q_target_next *= (1 - is_failures)\n",
    "\n",
    "    # calculate the target \n",
    "    target = rewards + gamma * max_q_target_next\n",
    "\n",
    "    # finally, we get the current estimate of Q(s,a), here we query the current \"online\" network\n",
    "    q_online_current = online_model(states).gather(1, actions)\n",
    "    \n",
    "    # create the errors\n",
    "    td_errors = target - q_online_current\n",
    "\n",
    "    # calculate the loss, and optimize the online network\n",
    "    # now the loss function has TD errors downscaled by the weights\n",
    "    value_loss = (weights * td_errors).pow(2).mul(0.5).mean()\n",
    "\n",
    "    optimizer.zero_grad()\n",
    "    value_loss.backward()\n",
    "    optimizer.step()\n",
    "\n",
    "    # update the priorities of the replayed batch using the absolute TD errors\n",
    "    priorities = np.abs(td_errors.detach().numpy())\n",
    "    memory.update(idxs, priorities.squeeze())"
   ]
  },
  {
   "cell_type": "markdown",
   "metadata": {},
   "source": [
    "21 - Add the Dueling DQN to the algorithm and see if you can improve the performance of the agent."
   ]
  },
  {
   "cell_type": "code",
   "execution_count": 27,
   "metadata": {},
   "outputs": [],
   "source": [
    "# YOUR CODE HERE\n",
    "\n",
    "# XXX\n",
    "\n",
    "import torch\n",
    "\n",
    "class Approximator(torch.nn.Module):\n",
    "    def __init__(self, state_shape, action_size):\n",
    "        super(Approximator, self).__init__()\n",
    "\n",
    "        self.conv = torch.nn.Sequential(\n",
    "                    torch.nn.Conv2d(state_shape[0], 32, kernel_size=8, stride=4),\n",
    "                    torch.nn.ReLU(),\n",
    "                    torch.nn.Conv2d(32, 64, kernel_size=4, stride=2),\n",
    "                    torch.nn.ReLU(),\n",
    "                    torch.nn.Conv2d(64, 64, kernel_size=3, stride=1),\n",
    "                    torch.nn.ReLU()\n",
    "        )\n",
    "\n",
    "        self.fc = torch.nn.Sequential(\n",
    "                  torch.nn.Linear(7 * 7 * 64, 512),\n",
    "                  torch.nn.ReLU(),\n",
    "        )\n",
    " \n",
    "        self.value_output = torch.nn.Linear(512, 1)\n",
    "        self.advantage_output = torch.nn.Linear(512, action_size)\n",
    "        \n",
    "    def forward(self, state):\n",
    "        x = self.conv(state)\n",
    "        x = x.view(x.size(0), -1)\n",
    "        x = self.fc(x)\n",
    "        a_values = self.advantage_output(x)\n",
    "        v_values = self.value_output(x)\n",
    "        q_values = v_values + (a_values - a_values.mean())\n",
    "        return q_values\n",
    "\n",
    "    def select_action(self, state):\n",
    "        state = torch.FloatTensor(np.float32(state)).unsqueeze(0).to(device)\n",
    "        q_values = self(state)\n",
    "        action = q_values.max(1)[1].data[0]\n",
    "        return action"
   ]
  },
  {
   "cell_type": "markdown",
   "metadata": {},
   "source": [
    "22 - Re-run the algorithm with alle the modifications and compare the results."
   ]
  },
  {
   "cell_type": "code",
   "execution_count": 33,
   "metadata": {},
   "outputs": [
    {
     "name": "stdout",
     "output_type": "stream",
     "text": [
      "episode 0066, steps 063817, average score -18.0, average return -19.2\r"
     ]
    }
   ],
   "source": [
    "# YOUR CODE HERE\n",
    "\n",
    "# XXX\n",
    "\n",
    "max_episodes = 300\n",
    "max_time = 60*60*7\n",
    "max_score = 20\n",
    "\n",
    "episodes_window = 5\n",
    "\n",
    "gamma = 0.99\n",
    "learning_rate = 0.0001\n",
    "\n",
    "epsilon_max = 1\n",
    "epsilon_min = 0.3\n",
    "decay_episodes = int(0.5 * max_episodes)\n",
    "\n",
    "replay_memory_size = 100000\n",
    "starting_memory_size = 10000\n",
    "batch_size = 64 \n",
    "\n",
    "online_optimize_steps = 1\n",
    "target_update_steps = 1\n",
    "\n",
    "seed = 42\n",
    "\n",
    "filename = 'model_vpg.pth'\n",
    "agent, score, result = dqn(env_name, seed, filename,\n",
    "                           replay_memory_size, starting_memory_size, batch_size,\n",
    "                           online_optimize_steps, target_update_steps,\n",
    "                           epsilon_max, epsilon_min, decay_episodes,\n",
    "                           learning_rate, gamma, \n",
    "                           max_episodes, max_time, max_score, episodes_window)"
   ]
  },
  {
   "cell_type": "markdown",
   "metadata": {},
   "source": [
    "27 - Extract values from the results and compare them with the previous ones."
   ]
  },
  {
   "cell_type": "code",
   "execution_count": null,
   "metadata": {},
   "outputs": [],
   "source": [
    "# YOUR CODE HERE\n",
    "\n",
    "XXX"
   ]
  }
 ],
 "metadata": {
  "colab": {
   "collapsed_sections": [],
   "name": "math_differential_calculus",
   "provenance": [],
   "toc_visible": true
  },
  "interpreter": {
   "hash": "8aeb84091b1f1fb8d8b9efbf1e96a552fa0144c39bfbc7f744113ad2216f701d"
  },
  "kernelspec": {
   "display_name": "Python 3 (ipykernel)",
   "language": "python",
   "name": "python3"
  },
  "language_info": {
   "codemirror_mode": {
    "name": "ipython",
    "version": 3
   },
   "file_extension": ".py",
   "mimetype": "text/x-python",
   "name": "python",
   "nbconvert_exporter": "python",
   "pygments_lexer": "ipython3",
   "version": "3.11.4"
  },
  "pycharm": {
   "stem_cell": {
    "cell_type": "raw",
    "metadata": {
     "collapsed": false
    },
    "source": []
   }
  }
 },
 "nbformat": 4,
 "nbformat_minor": 4
}
