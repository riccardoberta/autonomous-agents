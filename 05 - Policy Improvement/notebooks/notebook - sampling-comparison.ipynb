{
 "cells": [
  {
   "cell_type": "markdown",
   "metadata": {},
   "source": [
    "# Sampling Comparison\n",
    "\n",
    "We can compare the differences in sampling the model of DynaQ and Trajectory sampling."
   ]
  },
  {
   "cell_type": "markdown",
   "metadata": {},
   "source": [
    "Consider the Slippery Walk Seven (SWS) environment"
   ]
  },
  {
   "cell_type": "code",
   "execution_count": 1,
   "metadata": {},
   "outputs": [],
   "source": [
    "import numpy as np\n",
    "import random\n",
    "\n",
    "class Space:\n",
    "    def __init__(self, value):\n",
    "        self.n = value\n",
    "    \n",
    "class SlipperyWalk:\n",
    "    def __init__(self):\n",
    "        self.reset()\n",
    "\n",
    "    def reset(self):\n",
    "        self.observation_space = Space(9)\n",
    "        self.action_space = Space(2)\n",
    "        self._state = np.random.choice([1,2,3,4,5,6,7])\n",
    "        self._done = False\n",
    "        return self._state\n",
    "\n",
    "    def step(self, action):\n",
    "        if self._done: raise ValueError('Episode has terminated')\n",
    "        if action not in [0, 1]: raise ValueError('Invalid action')\n",
    "        \n",
    "        if(action==0): direction = -1\n",
    "        if(action==1): direction = 1\n",
    "        \n",
    "        direction_list = [direction, -direction, 0]\n",
    "        true_direction = random.choices(direction_list, weights=(50, 17, 33), k=1)\n",
    "        self._state += true_direction[0]\n",
    "        \n",
    "        reward = 0\n",
    "        if self._state < 1: self._done = True\n",
    "        if self._state > 7: self._done = True; reward = 1\n",
    "        return self._state, reward, self._done, 0  # obs, rew, done"
   ]
  },
  {
   "cell_type": "code",
   "execution_count": 2,
   "metadata": {},
   "outputs": [],
   "source": [
    "env = SlipperyWalk()"
   ]
  },
  {
   "cell_type": "code",
   "execution_count": 3,
   "metadata": {},
   "outputs": [],
   "source": [
    "def decay_schedule(init_value, min_value, decay_ratio, max_steps, log_start=-2, log_base=10):\n",
    "    decay_steps = int(max_steps * decay_ratio)\n",
    "    rem_steps = max_steps - decay_steps\n",
    "    values = np.logspace(log_start, 0, decay_steps, base=log_base, endpoint=True)[::-1]\n",
    "    values = (values - values.min()) / (values.max() - values.min())\n",
    "    values = (init_value - min_value) * values + min_value\n",
    "    values = np.pad(values, (0, rem_steps), 'edge')\n",
    "    return values"
   ]
  },
  {
   "cell_type": "code",
   "execution_count": 4,
   "metadata": {},
   "outputs": [],
   "source": [
    "def dyna_q(env, gamma=1.0,\n",
    "           init_alpha=0.5, min_alpha=0.01, alpha_decay_ratio=0.5,\n",
    "           init_epsilon=1.0, min_epsilon=0.1, epsilon_decay_ratio=0.9,\n",
    "           n_planning=3, n_episodes=3000):\n",
    "    \n",
    "    nS, nA = env.observation_space.n, env.action_space.n\n",
    "    pi_track =[]\n",
    "   \n",
    "    Q = np.zeros((nS, nA), dtype=np.float64)\n",
    "    Q_track = np.zeros((n_episodes, nS, nA), dtype=np.float64)\n",
    "    V_track = np.zeros((n_episodes, nS), dtype=np.float64)\n",
    "    \n",
    "    # create a function to keep track of the transition function\n",
    "    # and another one to keep track of the reward signal.\n",
    "    T_count = np.zeros((nS, nA, nS), dtype=int)\n",
    "    R_model = np.zeros((nS, nA, nS), dtype=np.float64)\n",
    "    T_track, R_track, planning_track = [], [], []\n",
    "    \n",
    "    select_action = lambda state, Q, epsilon: \\\n",
    "        np.argmax(Q[state]) \\\n",
    "        if np.random.random() > epsilon \\\n",
    "        else np.random.randint(len(Q[state]))\n",
    "    \n",
    "    alphas = decay_schedule(init_alpha, min_alpha, alpha_decay_ratio, n_episodes)\n",
    "    epsilons = decay_schedule(init_epsilon, min_epsilon, epsilon_decay_ratio, n_episodes)\n",
    "    \n",
    "    # the episode loop\n",
    "    for e in range(n_episodes):\n",
    "                   \n",
    "        state, done = env.reset(), False\n",
    "        \n",
    "        while not done:\n",
    "                   \n",
    "            # select the action, as in original Q-learning       \n",
    "            action = select_action(state, Q, epsilons[e])\n",
    "                   \n",
    "            # step the environment and get the experience tuple\n",
    "            next_state, reward, done, _ = env.step(action)\n",
    "\n",
    "            # start learning the model! \n",
    "            # increment the transition count for the state-action-next_state triplet \n",
    "            T_count[state][action][next_state] += 1\n",
    "            \n",
    "            # calculate an incremental mean of the reward signal\n",
    "            # and use it to learn the reward signal\n",
    "            r_diff = reward - R_model[state][action][next_state]\n",
    "            R_model[state][action][next_state] += (r_diff / T_count[state][action][next_state])\n",
    "\n",
    "            # calculate the TD target as usual, Q-learning style \n",
    "            # (off-policy, using the max)\n",
    "            td_target = reward + gamma * Q[next_state].max() * (not done)\n",
    "            \n",
    "            # and the TD error\n",
    "            td_error = td_target - Q[state][action]\n",
    "            \n",
    "            # finally, update the Q-function\n",
    "            Q[state][action] = Q[state][action] + alphas[e] * td_error\n",
    "\n",
    "            # get into the planning steps, first back up the next state variable.       \n",
    "            backup_next_state = next_state\n",
    "            \n",
    "            # planning loop\n",
    "            for _ in range(n_planning):\n",
    "                   \n",
    "                # make sure there have been updates to the Q-function before, \n",
    "                # otherwise, there’s not much to plan\n",
    "                if Q.sum() == 0: break\n",
    "\n",
    "                # select a state from a list of states already visited by \n",
    "                # the agent in experience   \n",
    "                visited_states = np.where(np.sum(T_count, axis=(1, 2)) > 0)[0]\n",
    "                state = np.random.choice(visited_states)\n",
    "\n",
    "                # then select an action that has been taken on that state.   \n",
    "                actions_taken = np.where(np.sum(T_count[state], axis=1) > 0)[0]\n",
    "                action = np.random.choice(actions_taken)\n",
    "\n",
    "                # use the count matrix to calculate probabilities of a next state \n",
    "                # and then a next state   \n",
    "                probs = T_count[state][action]/T_count[state][action].sum()\n",
    "                next_state = np.random.choice(np.arange(nS), size=1, p=probs)[0]\n",
    "                \n",
    "                # use the reward model as the reward\n",
    "                reward = R_model[state][action][next_state]\n",
    "                planning_track.append((state, action, reward, next_state))\n",
    "\n",
    "                # update the Q-function using that simulated experience!    \n",
    "                td_target = reward + gamma * Q[next_state].max()\n",
    "                td_error = td_target - Q[state][action]\n",
    "                Q[state][action] = Q[state][action] + alphas[e] * td_error\n",
    "            \n",
    "            V = np.max(Q, axis=1)\n",
    "            \n",
    "            # at the end of the planning steps, set the state as the next state\n",
    "            state = backup_next_state\n",
    "\n",
    "        T_track.append(T_count.copy())\n",
    "        R_track.append(R_model.copy())\n",
    "        Q_track[e] = Q\n",
    "        V_track[e] = V\n",
    "        pi_track.append(np.argmax(Q, axis=1))\n",
    "\n",
    "    V = np.max(Q, axis=1)\n",
    "    pi = lambda s: {s:a for s, a in enumerate(np.argmax(Q, axis=1))}[s]\n",
    "    return Q, V, pi, Q_track, V_track, pi_track, T_track, R_track, np.array(planning_track)"
   ]
  },
  {
   "cell_type": "code",
   "execution_count": 5,
   "metadata": {},
   "outputs": [],
   "source": [
    "_, _, _, _, _, _, _, _, planning_dq = dyna_q(env)"
   ]
  },
  {
   "cell_type": "code",
   "execution_count": 6,
   "metadata": {},
   "outputs": [],
   "source": [
    "def trajectory_sampling(env, gamma=1.0,\n",
    "                        init_alpha=0.5, min_alpha=0.01, alpha_decay_ratio=0.5,\n",
    "                        init_epsilon=1.0, min_epsilon=0.1, epsilon_decay_ratio=0.9,\n",
    "                        max_trajectory_depth=100, planning_freq=5,\n",
    "                        greedy_planning=True, n_episodes=2000):\n",
    "            \n",
    "    nS, nA = env.observation_space.n, env.action_space.n\n",
    "    pi_track =[]\n",
    "   \n",
    "    Q = np.zeros((nS, nA), dtype=np.float64)\n",
    "    Q_track = np.zeros((n_episodes, nS, nA), dtype=np.float64)\n",
    "    V_track = np.zeros((n_episodes, nS), dtype=np.float64)\n",
    "    \n",
    "    T_count = np.zeros((nS, nA, nS), dtype=int)\n",
    "    R_model = np.zeros((nS, nA, nS), dtype=np.float64)\n",
    "    T_track, R_track, planning_track = [], [], []\n",
    "    \n",
    "    select_action = lambda state, Q, epsilon: \\\n",
    "        np.argmax(Q[state]) \\\n",
    "        if np.random.random() > epsilon \\\n",
    "        else np.random.randint(len(Q[state]))\n",
    "    \n",
    "    alphas = decay_schedule(init_alpha, min_alpha, alpha_decay_ratio, n_episodes)\n",
    "    epsilons = decay_schedule(init_epsilon, min_epsilon, epsilon_decay_ratio, n_episodes)\n",
    "\n",
    "    for e in range(n_episodes):\n",
    "                   \n",
    "        state, done = env.reset(), False\n",
    "\n",
    "        while not done:\n",
    "            action = select_action(state, Q, epsilons[e])\n",
    "            next_state, reward, done, _ = env.step(action)\n",
    "            \n",
    "            T_count[state][action][next_state] += 1\n",
    "            r_diff = reward - R_model[state][action][next_state]\n",
    "            R_model[state][action][next_state] += (r_diff / T_count[state][action][next_state])\n",
    "\n",
    "            td_target = reward + gamma * Q[next_state].max() * (not done)\n",
    "            td_error = td_target - Q[state][action]\n",
    "            Q[state][action] = Q[state][action] + alphas[e] * td_error\n",
    "            \n",
    "            backup_next_state = next_state\n",
    "\n",
    "            if e % planning_freq == 0:\n",
    "                \n",
    "                # notice: start planning using max_trajectory_depth variable\n",
    "                # insted of n_planning\n",
    "                for _ in range(max_trajectory_depth):\n",
    "                    if Q.sum() == 0: break\n",
    "\n",
    "                    # select the action either on-policy or off-policy \n",
    "                    action = Q[state].argmax() if greedy_planning else \\\n",
    "                        select_action(state, Q, epsilons[e])\n",
    "                    \n",
    "                    # if we haven’t experienced the transition, \n",
    "                    # planning would be a mess, so break out\n",
    "                    if not T_count[state][action].sum(): break\n",
    "\n",
    "                    # otherwise, get the probabilities of next_state and sample \n",
    "                    # the model accordingly, as in DynaQ\n",
    "                    probs = T_count[state][action]/T_count[state][action].sum()\n",
    "                    next_state = np.random.choice(np.arange(nS), size=1, p=probs)[0]\n",
    "                    \n",
    "                    # get the reward as prescribed by the reward-signal model, as in DynaQ\n",
    "                    reward = R_model[state][action][next_state]\n",
    "                    planning_track.append((state, action, reward, next_state))\n",
    "\n",
    "                    \n",
    "                    # continue updating the Q-function as if with real experience, as in DynaQ\n",
    "                    td_target = reward + gamma * Q[next_state].max()\n",
    "                    td_error = td_target - Q[state][action]\n",
    "                    Q[state][action] = Q[state][action] + alphas[e] * td_error\n",
    "\n",
    "                    # notice: we update the state variable before we loop and \n",
    "                    # continue the on-policy planning steps\n",
    "                    state = next_state\n",
    "\n",
    "            V = np.max(Q, axis=1)\n",
    "            \n",
    "            # outside the planning loop, we restore the state, \n",
    "            # and continue real interaction steps\n",
    "            state = backup_next_state\n",
    "\n",
    "        T_track.append(T_count.copy())\n",
    "        R_track.append(R_model.copy())\n",
    "        Q_track[e] = Q\n",
    "        V_track[e] = V\n",
    "        pi_track.append(np.argmax(Q, axis=1))\n",
    "\n",
    "    V = np.max(Q, axis=1)\n",
    "    pi = lambda s: {s:a for s, a in enumerate(np.argmax(Q, axis=1))}[s]\n",
    "    return Q, V, pi, Q_track, V_track, pi_track, T_track, R_track, np.array(planning_track)"
   ]
  },
  {
   "cell_type": "code",
   "execution_count": 7,
   "metadata": {},
   "outputs": [],
   "source": [
    "_, _, _, _, _, _, _, _, planning_ts = trajectory_sampling(env)"
   ]
  },
  {
   "cell_type": "markdown",
   "metadata": {},
   "source": [
    "We can plot the states that were sampled by the planning phase of the two algorithms and the actions selected in those states. "
   ]
  },
  {
   "cell_type": "code",
   "execution_count": 8,
   "metadata": {},
   "outputs": [],
   "source": [
    "import matplotlib.pyplot as plt\n",
    "\n",
    "def plot_model_state_sampling(planning, algo):\n",
    "    plt.figure(figsize=(10,5))\n",
    "    color_left, color_right = '#008fd5', '#fc4f30'\n",
    "    \n",
    "    for s in np.arange(9):\n",
    "        actions = planning[np.where(planning[:,0]==s)[0], 1]\n",
    "        left = len(actions[actions == 0])\n",
    "        right = len(actions[actions == 1])\n",
    "        plt.bar(s, right, 0.2, color=color_right)\n",
    "        plt.bar(s, left, 0.2, color=color_left, bottom=right)\n",
    "    \n",
    "    plt.title('States samples from {}\\nlearned model of SWS environment'.format(algo))\n",
    "    plt.xlabel('Initial states sampled',)\n",
    "    plt.ylabel('Count')\n",
    "    plt.legend(['Right', 'Left'])\n",
    "    plt.show()"
   ]
  },
  {
   "cell_type": "code",
   "execution_count": 9,
   "metadata": {},
   "outputs": [
    {
     "data": {
      "image/png": "[encoded data removed]",
      "text/plain": [
       "<Figure size 720x360 with 1 Axes>"
      ]
     },
     "metadata": {
      "needs_background": "light"
     },
     "output_type": "display_data"
    }
   ],
   "source": [
    "plot_model_state_sampling(planning_dq, algo='Dyna-Q')"
   ]
  },
  {
   "cell_type": "code",
   "execution_count": 10,
   "metadata": {},
   "outputs": [
    {
     "data": {
      "image/png": "[encoded data removed]",
      "text/plain": [
       "<Figure size 720x360 with 1 Axes>"
      ]
     },
     "metadata": {
      "needs_background": "light"
     },
     "output_type": "display_data"
    }
   ],
   "source": [
    "plot_model_state_sampling(planning_ts, algo='Trajectory Sampling')"
   ]
  },
  {
   "cell_type": "code",
   "execution_count": null,
   "metadata": {},
   "outputs": [],
   "source": []
  }
 ],
 "metadata": {
  "colab": {
   "collapsed_sections": [],
   "name": "math_differential_calculus",
   "provenance": [],
   "toc_visible": true
  },
  "interpreter": {
   "hash": "8aeb84091b1f1fb8d8b9efbf1e96a552fa0144c39bfbc7f744113ad2216f701d"
  },
  "kernelspec": {
   "display_name": "Python 3 (ipykernel)",
   "language": "python",
   "name": "python3"
  },
  "language_info": {
   "codemirror_mode": {
    "name": "ipython",
    "version": 3
   },
   "file_extension": ".py",
   "mimetype": "text/x-python",
   "name": "python",
   "nbconvert_exporter": "python",
   "pygments_lexer": "ipython3",
   "version": "3.9.7"
  },
  "pycharm": {
   "stem_cell": {
    "cell_type": "raw",
    "metadata": {
     "collapsed": false
    },
    "source": []
   }
  }
 },
 "nbformat": 4,
 "nbformat_minor": 4
}
