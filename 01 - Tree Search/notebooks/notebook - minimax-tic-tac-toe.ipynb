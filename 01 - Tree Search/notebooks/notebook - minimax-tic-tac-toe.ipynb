{
 "cells": [
  {
   "cell_type": "code",
   "execution_count": 1,
   "metadata": {},
   "outputs": [],
   "source": [
    "import numpy as np\n",
    "from math import inf\n",
    "import platform\n",
    "import time\n",
    "from os import system\n",
    "from pprint import pprint"
   ]
  },
  {
   "cell_type": "code",
   "execution_count": 2,
   "metadata": {},
   "outputs": [],
   "source": [
    "HUMAN = -1\n",
    "COMP = +1\n",
    "\n",
    "board = np.zeros((3,3), dtype=int)"
   ]
  },
  {
   "cell_type": "code",
   "execution_count": 3,
   "metadata": {},
   "outputs": [],
   "source": [
    "def print_state(state):\n",
    "    \"\"\"\n",
    "    This function prints a state to the screen.\n",
    "    :param state: the state (np.array of size 3X3)\n",
    "    :return: only prints. returns None.\n",
    "    \"\"\"\n",
    "    for row in state:\n",
    "        print(\"|\", end=\"\")\n",
    "        for element in row:\n",
    "            if element==-1:\n",
    "                print(\" o |\", end=\"\")\n",
    "            elif element==1:\n",
    "                print(\" x |\", end=\"\")\n",
    "            else:\n",
    "                print(\"   |\", end=\"\")\n",
    "        print()"
   ]
  },
  {
   "cell_type": "code",
   "execution_count": 4,
   "metadata": {},
   "outputs": [
    {
     "name": "stdout",
     "output_type": "stream",
     "text": [
      "| x |   |   |\n",
      "|   | x |   |\n",
      "|   |   | o |\n"
     ]
    }
   ],
   "source": [
    "# # example:\n",
    "state = np.zeros((3,3), dtype=int)\n",
    "state[1,1] = 1\n",
    "state[2,2] = -1\n",
    "state[0,0] = 1\n",
    "print_state(state.tolist())"
   ]
  },
  {
   "cell_type": "code",
   "execution_count": 5,
   "metadata": {},
   "outputs": [],
   "source": [
    "def evaluate(state):\n",
    "    \"\"\"\n",
    "    This function returns (+1) if COMP won in this state, (-1) if HUMAN won, and (0) if none.\n",
    "    :param state: the state (np.array of size 3X3)\n",
    "    :return: (+1) if COMP won in this state, (-1) if HUMAN won, and (0) if none.\n",
    "    \"\"\"\n",
    "    if wins(state, COMP):\n",
    "        score = +1\n",
    "    elif wins(state, HUMAN):\n",
    "        score = -1\n",
    "    else:\n",
    "        score = 0\n",
    "        \n",
    "    return score"
   ]
  },
  {
   "cell_type": "code",
   "execution_count": 6,
   "metadata": {},
   "outputs": [],
   "source": [
    "def wins(state, player):\n",
    "    \"\"\"\n",
    "    This function returns True if player won the game for the given state.\n",
    "    :param state: the state (np.array of size 3X3)\n",
    "    :param player: HUMAN or COMP\n",
    "    :return: True if player won, False if not.\n",
    "    \"\"\"\n",
    "    # if one of the triplets in the following list is all [1,1,1] then COMP wins. if [-1,-1,-1] then HUMAM wins\n",
    "    wins_states = [state[0, :].tolist(), # 1st row  \n",
    "                   state[1, :].tolist(), # 2st row \n",
    "                   state[2, :].tolist(), # 3st row \n",
    "                   state[:, 0].tolist(), # 1st col \n",
    "                   state[:, 1].tolist(), # 2st col \n",
    "                   state[:, 2].tolist(), # 3st col \n",
    "                   [state[0, 0], state[1, 1], state[2, 2]], # 1st diagonal\n",
    "                   [state[2, 0], state[1, 1], state[0, 2]]] # 2st diagonal\n",
    "    \n",
    "    if [player, player, player] in wins_states:\n",
    "        return True # player wins\n",
    "    else:\n",
    "        return False # player doesn't win"
   ]
  },
  {
   "cell_type": "code",
   "execution_count": 7,
   "metadata": {},
   "outputs": [],
   "source": [
    "def game_over(state):\n",
    "    \"\"\"\n",
    "    This function returns True one of the players won the game in the current state.\n",
    "    :param state: the state (np.array of size 3X3)\n",
    "    :return: True if game is won, False if not.\n",
    "    \"\"\"\n",
    "    return wins(state, HUMAN) or wins(state, COMP)"
   ]
  },
  {
   "cell_type": "code",
   "execution_count": 8,
   "metadata": {},
   "outputs": [],
   "source": [
    "def empty_locations(state):\n",
    "    \"\"\"\n",
    "    This function returns a list with all empty locations (x,y) on board for a given state.\n",
    "    :param state: the state (np.array of size 3X3)\n",
    "    :return: list of (x,y) tuples of the empty locations.\n",
    "    \"\"\"\n",
    "    locs = list(zip(*np.where(state==0)))\n",
    "    return locs"
   ]
  },
  {
   "cell_type": "code",
   "execution_count": 9,
   "metadata": {},
   "outputs": [],
   "source": [
    "def valid_move(x,y):\n",
    "    \"\"\"\n",
    "    This function returns True if location (x,y) is empty.\n",
    "    - uses the global \"board\" variable.\n",
    "    :param x: row index\n",
    "    :param y: col index\n",
    "    :return: True if (x,y) loc is empty. False otherwise.\n",
    "    \"\"\"\n",
    "    return board[x,y]==0"
   ]
  },
  {
   "cell_type": "code",
   "execution_count": 10,
   "metadata": {},
   "outputs": [],
   "source": [
    "def set_move(x, y, player):\n",
    "    \"\"\"\n",
    "    This function changes the state of an empty location (x,y) on board to player (+1 for COMP, -1 for HUMAN).\n",
    "    - uses the global \"board\" variable.\n",
    "    :param x: row index\n",
    "    :param y: col index\n",
    "    :return: if valid_state: changes board state and returns True. if not valid: returns False\n",
    "    \"\"\" \n",
    "    if valid_move(x,y):\n",
    "        board[x,y] = player\n",
    "        return True\n",
    "    else:\n",
    "        return False"
   ]
  },
  {
   "cell_type": "code",
   "execution_count": 11,
   "metadata": {},
   "outputs": [],
   "source": [
    "def minimax(state, depth, player):\n",
    "    \"\"\"\n",
    "    This is the minimax algorithm. it unfolds (recursively) all the tree from this state down, \n",
    "    and finds the best location for the next move according to the minimax algorithm.\n",
    "    The stop condition of the recursivityis if one of the players wins, or if the depth is 0 (no more plays left to play). \n",
    "    :param state: the state (np.array of size 3X3)\n",
    "    :param depth: how many layers are left to go down. in the initial state, it's 9, and if the board is full - it is 0.\n",
    "    :param player: HUMAN or COMP\n",
    "    :return: best, which correspond to the best move for player from the current state. best = [x, y, score]\n",
    "    \"\"\"\n",
    "    if player==COMP:\n",
    "        best = [-1, -1, -inf] # best should include the best move after the for-loop later. in the form of [x, y, score]\n",
    "                              # we initiate it with [-1, -1] for no location, and -inf so that the first outcome (score) will override it.\n",
    "    else: # player==HUMAN:\n",
    "        best = [-1, -1, +inf] # +inf so that the first outcome (score) will override it.\n",
    "    \n",
    "    if depth==0 or game_over(state):\n",
    "        score = evaluate(state) # returns (+1) if COMP wins, (-1) if HUMAN wins, (0) elsewhere.\n",
    "        return [-1, -1, score]\n",
    "    \n",
    "    for loc in empty_locations(state):\n",
    "        (x,y) = loc\n",
    "        state[x,y] = player # we'll change it back after calculating the minimax for this location. don't worry...\n",
    "        score = minimax(state, depth-1, -player) # run minimax for the (state, player) as if the current move was (x,y)\n",
    "        state[x,y] = 0\n",
    "        score = [x, y, score[2]]\n",
    "\n",
    "        if player==COMP: # player==COMP, max move\n",
    "            if score[2] > best[2]:\n",
    "                best = score\n",
    "        else: # player==HUMAN, min move\n",
    "            if score[2] < best[2]:\n",
    "                best = score\n",
    "        \n",
    "    return best"
   ]
  },
  {
   "cell_type": "code",
   "execution_count": 12,
   "metadata": {},
   "outputs": [],
   "source": [
    "def clean():\n",
    "    \"\"\"\n",
    "    Clears the console.\n",
    "    \"\"\"\n",
    "    os_name = platform.system().lower() # returns o/s name in lower case. e.g., 'windows', 'linux', etc.\n",
    "    if 'windows' in os_name:\n",
    "        system('cls')\n",
    "    else:\n",
    "        system('clear')"
   ]
  },
  {
   "cell_type": "code",
   "execution_count": 13,
   "metadata": {},
   "outputs": [],
   "source": [
    "def render(state, c_choice=\"X\", h_choice=\"O\"):\n",
    "    \"\"\"\n",
    "    This function prints a state to the screen.\n",
    "    :param state: the state (np.array of size 3X3)\n",
    "    :return: only prints. returns None.\n",
    "    \"\"\"\n",
    "    for row in state:\n",
    "        print(\"|\", end=\"\")\n",
    "        for element in row:\n",
    "            if element==-1:\n",
    "                print(\" %s |\"%h_choice, end=\"\")\n",
    "            elif element==1:\n",
    "                print(\" %s |\"%c_choice, end=\"\")\n",
    "            else:\n",
    "                print(\"   |\", end=\"\")\n",
    "        print()"
   ]
  },
  {
   "cell_type": "code",
   "execution_count": 14,
   "metadata": {},
   "outputs": [],
   "source": [
    "def ai_turn(c_choice=\"X\", h_choice=\"O\"):\n",
    "    \"\"\"\n",
    "    This function runs the ai turn.\n",
    "    :param c_choice: how to mark AI's moves (X/O)\n",
    "    :param h_choice: how to mark human's moves (X/O)\n",
    "    :return: only changes the board state. returns None.\n",
    "    \"\"\"\n",
    "    depth = len(empty_locations(board))\n",
    "    if depth==0 or game_over(board):\n",
    "        return \n",
    "    \n",
    "    clean()\n",
    "    players_markers = \"HUMAN: %s; COMP: %s\"%(h_choice, c_choice)\n",
    "    print(players_markers)\n",
    "    print('Computer turn [{}]\\n'.format(c_choice))\n",
    "    render(board, c_choice, h_choice) # prints current board.\n",
    "    if depth==9: # random pick if it's first move\n",
    "        x=np.random.choice([0,1,2])\n",
    "        y=np.random.choice([0,1,2])\n",
    "    else: # depth in the range of 1-8 - use the minimax to pick best move\n",
    "        move = minimax(board, depth, COMP)\n",
    "        (x,y) = move[0], move[1]\n",
    "        \n",
    "    set_move(x, y, COMP)\n",
    "    time.sleep(1)   "
   ]
  },
  {
   "cell_type": "code",
   "execution_count": 15,
   "metadata": {},
   "outputs": [],
   "source": [
    "all_moves_string = \"\"\"\n",
    "\n",
    "| 1 | 2 | 3 |\n",
    "| 4 | 5 | 6 |\n",
    "| 7 | 8 | 9 |\n",
    "\"\"\""
   ]
  },
  {
   "cell_type": "code",
   "execution_count": 16,
   "metadata": {},
   "outputs": [],
   "source": [
    "def human_turn(c_choice=\"X\", h_choice=\"O\"):\n",
    "    \"\"\"\n",
    "    This function runs the human turn - the human player picks its move.\n",
    "    :param c_choice: how to mark AI's moves (X/O)\n",
    "    :param h_choice: how to mark human's moves (X/O)\n",
    "    :return: only changes the board state. returns None.\n",
    "    \"\"\"\n",
    "    depth = len(empty_locations(board))\n",
    "    if depth==0 or game_over(board):\n",
    "        return \n",
    "    \n",
    "    # Dictionary of valid moves\n",
    "    move = -1\n",
    "    moves= dict()\n",
    "    for i in range(3):\n",
    "        for j in range(3):\n",
    "            counter = i*3+j+1\n",
    "            moves[counter] = [i, j] # eventually: moves={1:[0,0], 2:[0,1], 3:[0,2], 4:[1,0]... 9:[2,2]}\n",
    "            \n",
    "    clean()\n",
    "    players_markers = \"HUMAN: %s; COMP: %s\"%(h_choice, c_choice)\n",
    "    print('Human turn [{}]\\n'.format(h_choice))\n",
    "    render(board, c_choice, h_choice) # prints current board.\n",
    "    print(all_moves_string)\n",
    "    \n",
    "    while (move<1 or move>9):\n",
    "        try:\n",
    "            move = int(input('Use nampad (only 0 to 9)\\n'))\n",
    "            print(players_markers)\n",
    "            coord = moves[move]\n",
    "            try_move = set_move(coord[0], coord[1], HUMAN)\n",
    "            \n",
    "            if try_move==False:\n",
    "                print('Bad Move!')\n",
    "                move = -1\n",
    "                \n",
    "        except KeyboardInterrupt:\n",
    "            print('Bye...')\n",
    "            exit()\n",
    "        except:\n",
    "            print('Bad Choice')"
   ]
  },
  {
   "cell_type": "code",
   "execution_count": 17,
   "metadata": {},
   "outputs": [],
   "source": [
    "def main():\n",
    "    \"\"\"\n",
    "    Main function that calls all functions\n",
    "    \"\"\"\n",
    "    clean()\n",
    "    h_choice = \"-\"\n",
    "    \n",
    "    while h_choice not in \"OX\":\n",
    "        try:\n",
    "            h_choice = input('Choose X or O\\nChosen: ')\n",
    "            h_choice = h_choice.upper()\n",
    "        except KeyboardInterrupt:\n",
    "            print('Bye')\n",
    "            exit()\n",
    "        except:\n",
    "            print('Bad choice')\n",
    "\n",
    "    # Setting computer's choice\n",
    "    if h_choice == 'X':\n",
    "        first = \"HUMAN\"\n",
    "        c_choice = 'O'\n",
    "    else:\n",
    "        first=\"COMP\"\n",
    "        c_choice = 'X'\n",
    "\n",
    "    # Human may starts first\n",
    "    clean()\n",
    "\n",
    "    # Main loop of this game\n",
    "    while len(empty_locations(board)) > 0 and not game_over(board):\n",
    "        if first == 'COMP':\n",
    "            ai_turn(c_choice, h_choice)\n",
    "            first = ''\n",
    "\n",
    "        human_turn(c_choice, h_choice)\n",
    "        ai_turn(c_choice, h_choice)\n",
    "\n",
    "    # Game over message\n",
    "    if wins(board, HUMAN):\n",
    "        clean()\n",
    "        print('Human turn [{}]\\n'.format(h_choice))\n",
    "        render(board, c_choice, h_choice)\n",
    "        print('\\nYOU WIN!\\n')\n",
    "    elif wins(board, COMP):\n",
    "        clean()\n",
    "        print('Computer turn [{}]\\n'.format(c_choice))\n",
    "        render(board, c_choice, h_choice)\n",
    "        print('\\nYOU LOSE!\\n')\n",
    "    else:\n",
    "        clean()\n",
    "        render(board, c_choice, h_choice)\n",
    "        print('\\nDRAW!\\n')\n",
    "\n",
    "    exit()"
   ]
  },
  {
   "cell_type": "code",
   "execution_count": 18,
   "metadata": {},
   "outputs": [
    {
     "name": "stdout",
     "output_type": "stream",
     "text": [
      "\u001b[H\u001b[2J"
     ]
    },
    {
     "name": "stdin",
     "output_type": "stream",
     "text": [
      "Choose X or O\n",
      "Chosen:  X\n"
     ]
    },
    {
     "name": "stdout",
     "output_type": "stream",
     "text": [
      "\u001b[H\u001b[2J\u001b[H\u001b[2JHuman turn [X]\n",
      "\n",
      "|   |   |   |\n",
      "|   |   |   |\n",
      "|   |   |   |\n",
      "\n",
      "\n",
      "| 1 | 2 | 3 |\n",
      "| 4 | 5 | 6 |\n",
      "| 7 | 8 | 9 |\n",
      "\n"
     ]
    },
    {
     "name": "stdin",
     "output_type": "stream",
     "text": [
      "Use nampad (only 0 to 9)\n",
      " 5\n"
     ]
    },
    {
     "name": "stdout",
     "output_type": "stream",
     "text": [
      "HUMAN: X; COMP: O\n",
      "\u001b[H\u001b[2JHUMAN: X; COMP: O\n",
      "Computer turn [O]\n",
      "\n",
      "|   |   |   |\n",
      "|   | X |   |\n",
      "|   |   |   |\n",
      "\u001b[H\u001b[2JHuman turn [X]\n",
      "\n",
      "| O |   |   |\n",
      "|   | X |   |\n",
      "|   |   |   |\n",
      "\n",
      "\n",
      "| 1 | 2 | 3 |\n",
      "| 4 | 5 | 6 |\n",
      "| 7 | 8 | 9 |\n",
      "\n"
     ]
    },
    {
     "name": "stdin",
     "output_type": "stream",
     "text": [
      "Use nampad (only 0 to 9)\n",
      " 3\n"
     ]
    },
    {
     "name": "stdout",
     "output_type": "stream",
     "text": [
      "HUMAN: X; COMP: O\n",
      "\u001b[H\u001b[2JHUMAN: X; COMP: O\n",
      "Computer turn [O]\n",
      "\n",
      "| O |   | X |\n",
      "|   | X |   |\n",
      "|   |   |   |\n",
      "\u001b[H\u001b[2JHuman turn [X]\n",
      "\n",
      "| O |   | X |\n",
      "|   | X |   |\n",
      "| O |   |   |\n",
      "\n",
      "\n",
      "| 1 | 2 | 3 |\n",
      "| 4 | 5 | 6 |\n",
      "| 7 | 8 | 9 |\n",
      "\n"
     ]
    },
    {
     "name": "stdin",
     "output_type": "stream",
     "text": [
      "Use nampad (only 0 to 9)\n",
      " 9\n"
     ]
    },
    {
     "name": "stdout",
     "output_type": "stream",
     "text": [
      "HUMAN: X; COMP: O\n",
      "\u001b[H\u001b[2JHUMAN: X; COMP: O\n",
      "Computer turn [O]\n",
      "\n",
      "| O |   | X |\n",
      "|   | X |   |\n",
      "| O |   | X |\n",
      "\u001b[H\u001b[2JComputer turn [O]\n",
      "\n",
      "| O |   | X |\n",
      "| O | X |   |\n",
      "| O |   | X |\n",
      "\n",
      "YOU LOSE!\n",
      "\n"
     ]
    }
   ],
   "source": [
    "if __name__ == '__main__':\n",
    "    main()"
   ]
  },
  {
   "cell_type": "code",
   "execution_count": null,
   "metadata": {},
   "outputs": [],
   "source": []
  }
 ],
 "metadata": {
  "kernelspec": {
   "display_name": "Python 3 (ipykernel)",
   "language": "python",
   "name": "python3"
  },
  "language_info": {
   "codemirror_mode": {
    "name": "ipython",
    "version": 3
   },
   "file_extension": ".py",
   "mimetype": "text/x-python",
   "name": "python",
   "nbconvert_exporter": "python",
   "pygments_lexer": "ipython3",
   "version": "3.9.7"
  }
 },
 "nbformat": 4,
 "nbformat_minor": 4
}
