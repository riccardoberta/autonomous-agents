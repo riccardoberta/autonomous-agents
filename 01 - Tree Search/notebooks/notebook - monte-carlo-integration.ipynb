{
 "cells": [
  {
   "cell_type": "code",
   "execution_count": 1,
   "id": "6b8e581e",
   "metadata": {
    "collapsed": false,
    "jupyter": {
     "outputs_hidden": false
    }
   },
   "outputs": [
    {
     "data": {
      "image/png": "[encoded data removed]",
      "text/plain": [
       "<Figure size 432x288 with 1 Axes>"
      ]
     },
     "metadata": {
      "needs_background": "light"
     },
     "output_type": "display_data"
    }
   ],
   "source": [
    "import numpy as np\n",
    "import matplotlib.pyplot  as plt\n",
    "\n",
    "def f(x):\n",
    "    return np.sin(x)\n",
    "\n",
    "plt.plot(np.arange(0,np.pi,0.01), f(np.arange(0,np.pi,0.01)))\n",
    "plt.xlabel(\"x\")\n",
    "plt.ylabel(\"f(x)\")\n",
    "plt.title(\"function plot\");"
   ]
  },
  {
   "cell_type": "markdown",
   "id": "c42f3f46",
   "metadata": {},
   "source": [
    "Now we integrate using Monte-Carlo method from 0 to Pi:"
   ]
  },
  {
   "cell_type": "code",
   "execution_count": 12,
   "id": "fd800ece",
   "metadata": {
    "collapsed": false,
    "jupyter": {
     "outputs_hidden": false
    }
   },
   "outputs": [
    {
     "name": "stdout",
     "output_type": "stream",
     "text": [
      "(1000000, 2)\n"
     ]
    }
   ],
   "source": [
    "from numpy.random import random\n",
    "\n",
    "n = 1000000\n",
    "samples = np.array([[np.random.uniform(0, np.pi) for i in range(n)], \n",
    "                    [np.random.uniform(0, 1) for i in range(n)],]).T\n",
    "print(samples.shape)"
   ]
  },
  {
   "cell_type": "code",
   "execution_count": 13,
   "id": "22f7618b-bb76-4970-8274-52c70bfa8950",
   "metadata": {},
   "outputs": [
    {
     "data": {
      "image/png": "[encoded data removed]",
      "text/plain": [
       "<Figure size 432x288 with 1 Axes>"
      ]
     },
     "metadata": {
      "needs_background": "light"
     },
     "output_type": "display_data"
    }
   ],
   "source": [
    "plt.plot(np.arange(0,np.pi,0.01), f(np.arange(0,np.pi,0.01)))\n",
    "plt.scatter(samples[:, 0], samples[:, 1])\n",
    "plt.xlabel(\"x\")\n",
    "plt.ylabel(\"f(x)\")\n",
    "plt.title(\"function plot\");"
   ]
  },
  {
   "cell_type": "code",
   "execution_count": 14,
   "id": "a059c8d6",
   "metadata": {
    "collapsed": false,
    "jupyter": {
     "outputs_hidden": false
    }
   },
   "outputs": [
    {
     "name": "stdout",
     "output_type": "stream",
     "text": [
      "x:    [1.87158882 1.3593183  0.15897963 1.10576094 2.91190685]\n",
      "f(x): [0.95510199 0.97772174 0.15831079 0.8938057  0.22767159]\n",
      "y:    [0.80999821 0.77804417 0.92834568 0.3982894  0.61954606]\n"
     ]
    }
   ],
   "source": [
    "print(\"x:   \",samples[:5,0])\n",
    "print(\"f(x):\", f(samples[:5,0]))\n",
    "print(\"y:   \", samples[:5,1])"
   ]
  },
  {
   "cell_type": "code",
   "execution_count": 15,
   "id": "2ad027bf",
   "metadata": {
    "collapsed": false,
    "jupyter": {
     "outputs_hidden": false
    }
   },
   "outputs": [
    {
     "name": "stdout",
     "output_type": "stream",
     "text": [
      "Integral of f by Monte-Carlo method: 2.00174744064373\n"
     ]
    }
   ],
   "source": [
    "print(\"Integral of f by Monte-Carlo method:\", np.pi * (f(samples[:,0]) > samples[:,1]).sum() / float(n))"
   ]
  },
  {
   "cell_type": "code",
   "execution_count": 80,
   "id": "06302ff4",
   "metadata": {
    "collapsed": false,
    "jupyter": {
     "outputs_hidden": false
    }
   },
   "outputs": [
    {
     "name": "stdout",
     "output_type": "stream",
     "text": [
      "Integral of f by scipy: 2.0\n"
     ]
    }
   ],
   "source": [
    "from scipy.integrate import quad\n",
    "print(\"Integral of f by scipy:\", quad(f,0,np.pi)[0])"
   ]
  }
 ],
 "metadata": {
  "kernelspec": {
   "display_name": "Python 3 (ipykernel)",
   "language": "python",
   "name": "python3"
  },
  "language_info": {
   "codemirror_mode": {
    "name": "ipython",
    "version": 3
   },
   "file_extension": ".py",
   "mimetype": "text/x-python",
   "name": "python",
   "nbconvert_exporter": "python",
   "pygments_lexer": "ipython3",
   "version": "3.9.7"
  }
 },
 "nbformat": 4,
 "nbformat_minor": 5
}
