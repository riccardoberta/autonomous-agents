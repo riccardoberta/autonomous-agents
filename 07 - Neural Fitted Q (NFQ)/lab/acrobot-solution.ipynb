{
 "cells": [
  {
   "cell_type": "markdown",
   "metadata": {},
   "source": [
    "## Acrobot\n",
    "\n",
    "The [Acrobot](https://gymnasium.farama.org/environments/classic_control/acrobot/) is a classic problem in control theory. The environment consists of two links connected linearly to form a chain, with one end of the chain fixed. The joint between the two links is actuated. The goal is to apply torques on the actuated joint to swing the free end of the linear chain above a given height while starting from the initial state of hanging downwards.\n",
    "\n",
    "- The action space is discrete, deterministic, and represents the torque applied on the actuated joint between the two links: (0) apply -1 torque, (1) apply 0 torque to the actuated joint, (2) apply 1 torque to the actuated joint\n",
    "- The observation space is a 6-dimensional space with the sine and cosine of the two joint angles and their angular velocities.\n",
    "\n",
    "![](./images/acrobot.png)\n",
    "\n",
    "The goal is to have the free-end reach a designated target height in as few steps as possible, and as such all steps that do not reach the goal incur a reward of -1. Achieving the target height results in termination with a reward of 0. The reward threshold is -100."
   ]
  },
  {
   "cell_type": "markdown",
   "metadata": {},
   "source": [
    "1 - import the environment from Gymnasium and show it with a random policy"
   ]
  },
  {
   "cell_type": "code",
   "execution_count": 1,
   "metadata": {},
   "outputs": [
    {
     "name": "stdout",
     "output_type": "stream",
     "text": [
      "State Space:  (6,)\n",
      "Action Space:  3\n"
     ]
    }
   ],
   "source": [
    "# YOUR CODE HERE\n",
    "\n",
    "# You can get the environment from Gymnasium 'Acrobot-v1’; \n",
    "# In order to visually plot the environment you can import it \n",
    "# using render_mode=\"rgb_array\". Get also th state size\n",
    "# and action_size.\n",
    "\n",
    "import gymnasium\n",
    "\n",
    "acrobot = gymnasium.make('Acrobot-v1', render_mode=\"rgb_array\");\n",
    "\n",
    "state_size = acrobot.observation_space.shape;\n",
    "action_size = acrobot.action_space.n;\n",
    "\n",
    "print('State Space: ', state_size);\n",
    "print('Action Space: ', action_size);"
   ]
  },
  {
   "cell_type": "markdown",
   "metadata": {},
   "source": [
    "2 - Show the policy in action by rendering the environment several times after different decisions from a random policy:"
   ]
  },
  {
   "cell_type": "code",
   "execution_count": 2,
   "metadata": {},
   "outputs": [],
   "source": [
    "# YOUR CODE HERE\n",
    "\n",
    "# You can use the same function already used for the cartpole environment to \n",
    "# implement a random aget and to show the policy.\n",
    "\n",
    "import numpy as np\n",
    "\n",
    "def random_pi(state):\n",
    "    return np.random.choice([0,2]);"
   ]
  },
  {
   "cell_type": "code",
   "execution_count": 3,
   "metadata": {},
   "outputs": [],
   "source": [
    "import matplotlib.pyplot as plt\n",
    "from IPython.display import clear_output\n",
    "\n",
    "def show_policy(env, pi, n_episodes=1, max_steps=500):\n",
    "    for _ in range(n_episodes):\n",
    "        state = env.reset()[0];\n",
    "        done = False;\n",
    "        step = 0;\n",
    "        while not done:\n",
    "            action = pi(state);\n",
    "            state, reward, terminated, truncated, info = env.step(action);\n",
    "            if(terminated or truncated): done = True;\n",
    "            clear_output(wait=True);\n",
    "            plt.imshow(env.render());\n",
    "            plt.show(); \n",
    "            if step > max_steps: break;\n",
    "            step += 1;   "
   ]
  },
  {
   "cell_type": "code",
   "execution_count": null,
   "metadata": {},
   "outputs": [
    {
     "data": {
      "image/png": "[encoded data removed]",
      "text/plain": [
       "<Figure size 640x480 with 1 Axes>"
      ]
     },
     "metadata": {},
     "output_type": "display_data"
    }
   ],
   "source": [
    "show_policy(acrobot, random_pi, n_episodes=1, max_steps=50);"
   ]
  },
  {
   "cell_type": "markdown",
   "metadata": {},
   "source": [
    "3 - Create a neural network as a function approximator for the Q-function."
   ]
  },
  {
   "cell_type": "code",
   "execution_count": 6,
   "metadata": {},
   "outputs": [],
   "source": [
    "# YOUR CODE HERE\n",
    "\n",
    "# Add the code for a neural network using the PyTorch library and\n",
    "# the code of an optimizer as in the cartpole example\n",
    "\n",
    "import torch;\n",
    "\n",
    "dnn = torch.nn.Sequential(\n",
    "        torch.nn.Linear(state_size[0], 512),  \n",
    "        torch.nn.ReLU(),                           \n",
    "        torch.nn.Linear(512, 128),\n",
    "        torch.nn.ReLU(),\n",
    "        torch.nn.Linear(128, action_size));\n",
    "\n",
    "optimizer = torch.optim.RMSprop(dnn.parameters(), lr=0.0001);"
   ]
  },
  {
   "cell_type": "markdown",
   "metadata": {},
   "source": [
    "4 - Add the code for the experience buffer"
   ]
  },
  {
   "cell_type": "code",
   "execution_count": 7,
   "metadata": {},
   "outputs": [],
   "source": [
    "# YOUR CODE HERE\n",
    "\n",
    "# Add the code for the experience buffer as in the cartpole example\n",
    "\n",
    "batch_size = 1024;\n",
    "\n",
    "experience_type = np.dtype([\n",
    "    ('state', np.float32, (state_size)), \n",
    "    ('action', np.int8),                  \n",
    "    ('reward', np.float32),               \n",
    "    ('next_state', np.float32, (state_size)),  \n",
    "    ('failure', np.int8)                  \n",
    "])\n",
    "\n",
    "experiences_batch = np.empty(shape=(batch_size,), dtype=experience_type);"
   ]
  },
  {
   "cell_type": "markdown",
   "metadata": {},
   "source": [
    "5 - Add the code of the exploration strategy based on epsilon-greedy method:"
   ]
  },
  {
   "cell_type": "code",
   "execution_count": 8,
   "metadata": {},
   "outputs": [],
   "source": [
    "# YOUR CODE HERE\n",
    "\n",
    "# Add the code for an exploration strategy based on the epsilon-greedy algorithm\n",
    "\n",
    "import random\n",
    "\n",
    "def epsilon_greedy(dnn, state, action_size, epsilon):\n",
    "    if random.uniform(0,1) < epsilon:\n",
    "        return np.random.randint(action_size);\n",
    "    else:\n",
    "        # convert the state into a tensor\n",
    "        state = torch.FloatTensor(state).unsqueeze(0);\n",
    "        # calculate q_values from the network\n",
    "        q_values = dnn(state).detach();\n",
    "        # act greedy\n",
    "        action = np.argmax(q_values).data.numpy();\n",
    "        return action;"
   ]
  },
  {
   "cell_type": "markdown",
   "metadata": {},
   "source": [
    "6 - Add the code to train the neural network using the collected experiences:"
   ]
  },
  {
   "cell_type": "code",
   "execution_count": 9,
   "metadata": {},
   "outputs": [],
   "source": [
    "# YOUR CODE HERE\n",
    "\n",
    "# Re-use the optimize method as in the cartpole example\n",
    "\n",
    "def optimize(dnn, optimizer, batch, gamma, epochs):\n",
    "\n",
    "    # prepare the experience as tensors\n",
    "    states = torch.from_numpy(batch['state'].copy()).float();\n",
    "    actions = torch.from_numpy(batch['action'].copy()).long();    \n",
    "    next_states = torch.from_numpy(batch['next_state'].copy()).float();\n",
    "    rewards = torch.from_numpy(batch['reward'].copy()).float();\n",
    "    failures = torch.from_numpy(batch['failure'].copy()).long();\n",
    "\n",
    "    for epoch in range(epochs):\n",
    "\n",
    "        # get the values of the Q-function at next state\n",
    "        # remember to detach, we need to treat these values as constants! \n",
    "        q_next = dnn(next_states).detach();\n",
    "        \n",
    "        # get the max value \n",
    "        max_q_next = q_next.max(1)[0];\n",
    "\n",
    "        # one important step, often overlooked, is to ensure \n",
    "        # that failure states are grounded to zero\n",
    "        max_q_next *= (1 - failures.float());\n",
    "\n",
    "        # calculate the target \n",
    "        target = rewards + gamma * max_q_next;\n",
    "\n",
    "        # finally, we get the current estimate of Q(s,a)\n",
    "        q_current = torch.gather(dnn(states), 1, actions.unsqueeze(1)).squeeze(1);\n",
    "\n",
    "        # create the errors\n",
    "        td_error = target - q_current;\n",
    "\n",
    "        # calculate the loss\n",
    "        loss = td_error.pow(2).mean();\n",
    "\n",
    "        # backward pass: compute the gradients\n",
    "        optimizer.zero_grad();\n",
    "        loss.backward();\n",
    "\n",
    "        # update model parameters\n",
    "        optimizer.step();\n",
    "\n",
    "    return loss;\n"
   ]
  },
  {
   "cell_type": "markdown",
   "metadata": {},
   "source": [
    "7 - Write the code of the NFQ algorithm"
   ]
  },
  {
   "cell_type": "code",
   "execution_count": 18,
   "metadata": {},
   "outputs": [],
   "source": [
    "# YOUR CODE HERE\n",
    "\n",
    "# Re-use the optimize method as in the cartpole example\n",
    "\n",
    "def nfq(env, dnn, optimizer, batch, exploration_strategy,\n",
    "        episodes, epochs, gamma, epsilon):\n",
    "\n",
    "    # create a batch index\n",
    "    index = 0;\n",
    "\n",
    "    # train until for the maximum number of episodes\n",
    "    for episode in range(episodes):\n",
    "    \n",
    "        # set return to 0\n",
    "        discounted_return = 0;\n",
    "\n",
    "        # reset the environment at the beginning of the episode\n",
    "        state, done = env.reset()[0], False;\n",
    "\n",
    "        # interact with the environment until the episode is done\n",
    "        while not done:\n",
    "                \n",
    "            # select the action using the exploration policy\n",
    "            action = exploration_strategy(dnn, state, action_size, epsilon);\n",
    "            \n",
    "            # perform the selected action\n",
    "            next_state, reward, terminal, truncated, info = env.step(action);\n",
    "            done = terminal or truncated;\n",
    "            failure = terminal and not truncated;\n",
    "\n",
    "            # store the experience\n",
    "            batch[index] = (state, action, reward, next_state, failure);\n",
    "            index += 1;\n",
    "            \n",
    "            # if the experience collected so far is enough...\n",
    "            if index == len(batch):\n",
    "                # optimize the model\n",
    "                optimize(dnn, optimizer, batch, gamma, epochs);\n",
    "                # and clear the buffer\n",
    "                index = 0;\n",
    "                batch = np.empty(shape=(len(batch),), dtype=experience_type);\n",
    "\n",
    "            # update current state to next state\n",
    "            state = next_state;\n",
    "        \n",
    "            # update the return\n",
    "            discounted_return += reward;\n",
    "\n",
    "    # prepare the policy by acting greedily:\n",
    "    def pi(state):\n",
    "        # convert the state into a tensor\n",
    "        state = torch.FloatTensor(state).unsqueeze(0);\n",
    "\n",
    "        # calculate q_values from the network\n",
    "        q_values = dnn(state).detach();\n",
    "\n",
    "        # act greedy\n",
    "        action = np.argmax(q_values).data.numpy();\n",
    "        \n",
    "        return action;\n",
    "\n",
    "    return pi;"
   ]
  },
  {
   "cell_type": "markdown",
   "metadata": {},
   "source": [
    "8 - Apply NFQ to the environment "
   ]
  },
  {
   "cell_type": "code",
   "execution_count": 19,
   "metadata": {},
   "outputs": [],
   "source": [
    "# YOUR CODE HERE\n",
    "\n",
    "# Apply NFQ to the acrobot environment \n",
    "\n",
    "# define hyperparameters values\n",
    "episodes = 3000; \n",
    "batch_size = 1024; \n",
    "epochs = 40; \n",
    "gamma = 0.99;\n",
    "epsilon = 0.5; \n",
    "\n",
    "# run the algorithm\n",
    "pi = nfq(acrobot, dnn, optimizer, experiences_batch, epsilon_greedy,  \n",
    "         episodes, epochs, gamma, epsilon);"
   ]
  },
  {
   "cell_type": "markdown",
   "metadata": {},
   "source": [
    "9 - Evaluate the learned policy"
   ]
  },
  {
   "cell_type": "code",
   "execution_count": 20,
   "metadata": {},
   "outputs": [],
   "source": [
    "# YOUR CODE HERE\n",
    "\n",
    "# Write a function to evaluate its performance\n",
    "\n",
    "def evaluate(env, pi, episodes=1):\n",
    "    rewards = [];\n",
    "\n",
    "    for episode in range(episodes):\n",
    "        state, done = env.reset()[0], False;\n",
    "        rewards.append(0);\n",
    "        while not done:\n",
    "            action = pi(state);\n",
    "            state, reward, terminal, truncated, info = env.step(action)\n",
    "            rewards[-1] += reward;\n",
    "            done = terminal or truncated;\n",
    "\n",
    "    return np.mean(rewards)"
   ]
  },
  {
   "cell_type": "markdown",
   "metadata": {},
   "source": [
    "10 - Compare performace of random policy vs the one learned by the neural network"
   ]
  },
  {
   "cell_type": "code",
   "execution_count": 21,
   "metadata": {},
   "outputs": [
    {
     "name": "stdout",
     "output_type": "stream",
     "text": [
      "Random score -500.0\n",
      "Agent score -83.0\n"
     ]
    }
   ],
   "source": [
    "# YOUR CODE HERE\n",
    "\n",
    "# Run the evaluation on the two policies and compare\n",
    "\n",
    "random_score = evaluate(acrobot, random_pi, episodes=5);\n",
    "agent_score = evaluate(acrobot, pi, episodes=5);\n",
    "\n",
    "print(\"Random score\", random_score);\n",
    "print(\"Agent score\", agent_score);"
   ]
  },
  {
   "cell_type": "markdown",
   "metadata": {},
   "source": [
    "11 - Show the policy behavior"
   ]
  },
  {
   "cell_type": "code",
   "execution_count": 25,
   "metadata": {},
   "outputs": [
    {
     "data": {
      "image/png": "[encoded data removed]",
      "text/plain": [
       "<Figure size 640x480 with 1 Axes>"
      ]
     },
     "metadata": {},
     "output_type": "display_data"
    }
   ],
   "source": [
    "# YOUR CODE HERE\n",
    "\n",
    "# You can show the policy learned by the agent using the show_policy function\n",
    "\n",
    "show_policy(acrobot, pi, n_episodes=1)"
   ]
  },
  {
   "cell_type": "code",
   "execution_count": null,
   "metadata": {},
   "outputs": [],
   "source": []
  }
 ],
 "metadata": {
  "colab": {
   "collapsed_sections": [],
   "name": "math_differential_calculus",
   "provenance": [],
   "toc_visible": true
  },
  "kernelspec": {
   "display_name": "machine-learning",
   "language": "python",
   "name": "python3"
  },
  "language_info": {
   "codemirror_mode": {
    "name": "ipython",
    "version": 3
   },
   "file_extension": ".py",
   "mimetype": "text/x-python",
   "name": "python",
   "nbconvert_exporter": "python",
   "pygments_lexer": "ipython3",
   "version": "3.12.3"
  },
  "pycharm": {
   "stem_cell": {
    "cell_type": "raw",
    "metadata": {
     "collapsed": false
    },
    "source": []
   }
  }
 },
 "nbformat": 4,
 "nbformat_minor": 4
}
