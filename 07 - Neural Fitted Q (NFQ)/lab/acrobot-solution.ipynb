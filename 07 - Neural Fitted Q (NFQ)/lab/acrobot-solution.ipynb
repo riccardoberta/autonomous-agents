{
 "cells": [
  {
   "cell_type": "markdown",
   "metadata": {},
   "source": [
    "## Acrobot\n",
    "\n",
    "The [Acrobot](https://gymnasium.farama.org/environments/classic_control/acrobot/) is a classic problem in control theory. The environment consists of two links connected linearly to form a chain, with one end of the chain fixed. The joint between the two links is actuated. The goal is to apply torques on the actuated joint to swing the free end of the linear chain above a given height while starting from the initial state of hanging downwards.\n",
    "\n",
    "- The action space is discrete, deterministic, and represents the torque applied on the actuated joint between the two links: (0) apply -1 torque, (1) apply 0 torque to the actuated joint, (2) apply 1 torque to the actuated joint\n",
    "- The observation space is a 6-dimensional space with the sine and cosine of the two joint angles and their angular velocities.\n",
    "\n",
    "The goal is to have the free end reach a designated target height in as few steps as possible, and as such all steps that do not reach the goal incur a reward of -1. Achieving the target height results in termination with a reward of 0. The reward threshold is -100."
   ]
  },
  {
   "cell_type": "markdown",
   "metadata": {},
   "source": [
    "1 - import the environment from Gymnasium and show it with a random policy"
   ]
  },
  {
   "cell_type": "code",
   "execution_count": 1,
   "metadata": {},
   "outputs": [],
   "source": [
    "# YOUR CODE HERE\n",
    "\n",
    "# You can get the environment from Gymnasium 'Acrobot-v1’; \n",
    "# In order to visually plot the environment you can import it \n",
    "# using render_mode=\"rgb_array\"\n",
    "\n",
    "import gymnasium\n",
    "\n",
    "env_name = 'Acrobot-v1' \n",
    "env = gymnasium.make(env_name, render_mode=\"rgb_array\")"
   ]
  },
  {
   "cell_type": "markdown",
   "metadata": {},
   "source": [
    "2 - Show the policy in action by rendering the environment several times after different decisions from a random policy:"
   ]
  },
  {
   "cell_type": "code",
   "execution_count": 2,
   "metadata": {},
   "outputs": [],
   "source": [
    "# YOUR CODE HERE\n",
    "\n",
    "# You can use the same function already used for the cartpole environment\n",
    "\n",
    "import numpy as np\n",
    "import matplotlib.pyplot as plt\n",
    "from IPython.display import clear_output\n",
    "import time\n",
    "from itertools import count\n",
    "\n",
    "def show_policy(env, agent, n_episodes=1, max_steps=500):\n",
    "    for episode in count():\n",
    "\n",
    "        state = env.reset()[0]\n",
    "\n",
    "        for step in count():\n",
    "\n",
    "            if(agent is None):\n",
    "                action = np.random.choice((0, 1, 2))\n",
    "            else:\n",
    "                action = greedy(agent, state)\n",
    "            \n",
    "            state, reward, is_terminal, is_truncated, info = env.step(action)\n",
    "            done = is_terminal or is_truncated\n",
    "            \n",
    "            clear_output(wait=True)\n",
    "            plt.imshow(env.render())\n",
    "            plt.show()\n",
    "            \n",
    "            if done or step > max_steps:\n",
    "                break\n",
    "\n",
    "        if episode >= n_episodes-1:\n",
    "                break"
   ]
  },
  {
   "cell_type": "code",
   "execution_count": 3,
   "metadata": {},
   "outputs": [
    {
     "data": {
      "image/png": "[encoded data removed]",
      "text/plain": [
       "<Figure size 640x480 with 1 Axes>"
      ]
     },
     "metadata": {},
     "output_type": "display_data"
    }
   ],
   "source": [
    "show_policy(env, None, n_episodes=1, max_steps=50)"
   ]
  },
  {
   "cell_type": "markdown",
   "metadata": {},
   "source": [
    "3 - Create a neural network as a function approximator for the Q-function."
   ]
  },
  {
   "cell_type": "code",
   "execution_count": 4,
   "metadata": {},
   "outputs": [],
   "source": [
    "# YOUR CODE HERE\n",
    "\n",
    "# Add the code for a neural network using the PyTorch library as in the cart-pole example\n",
    "\n",
    "import torch\n",
    "\n",
    "class Approximator(torch.nn.Module):\n",
    "    def __init__(self, state_size, action_size):\n",
    "        super(Approximator, self).__init__()\n",
    "\n",
    "        # activation function (ReLU)\n",
    "        self.activation = torch.nn.functional.relu\n",
    "\n",
    "        # input layer\n",
    "        self.input_layer = torch.nn.Linear(state_size, 512)\n",
    "        \n",
    "        # chidden layer \n",
    "        self.hidden_layer = torch.nn.Linear(512, 128)\n",
    "\n",
    "        # output layer    \n",
    "        self.output_layer = torch.nn.Linear(128, action_size)\n",
    "\n",
    "    def forward(self, state):\n",
    "       \n",
    "        # convert the state into a tensor\n",
    "        if not isinstance(state, torch.Tensor):\n",
    "            state = torch.Tensor(state)\n",
    "\n",
    "        # pass it through the input layer\n",
    "        x = self.activation(self.input_layer(state))\n",
    "\n",
    "        # then pass hidden layer\n",
    "        x = self.activation(self.hidden_layer(x))\n",
    "\n",
    "        # finally, pass for the output layer\n",
    "        q_values = self.output_layer(x)\n",
    "        \n",
    "        return q_values\n",
    "\n",
    "    def select_action(self, state):\n",
    "\n",
    "        # convert the state into a tensor\n",
    "        state = torch.FloatTensor(state).unsqueeze(0)\n",
    "\n",
    "        # calculate q_values from the network\n",
    "        q_values = self(state).detach()\n",
    "\n",
    "        # act greedy\n",
    "        action = np.argmax(q_values).data.numpy()\n",
    "        \n",
    "        return action\n",
    "\n"
   ]
  },
  {
   "cell_type": "markdown",
   "metadata": {},
   "source": [
    "4 - Add the code for the experience buffer"
   ]
  },
  {
   "cell_type": "code",
   "execution_count": 14,
   "metadata": {},
   "outputs": [],
   "source": [
    "# YOUR CODE HERE\n",
    "\n",
    "# Add the code for the experience buffer as in the cart-pole example\n",
    "\n",
    "class ExperienceBuffer():\n",
    "    def __init__(self, state_shape, buffer_size):\n",
    "        self.buffer_size = buffer_size\n",
    "        \n",
    "        # prepare the buffer for the experience\n",
    "        self.states = np.empty(shape=(buffer_size, state_shape), dtype=np.float32)\n",
    "        self.actions = np.empty(shape=(buffer_size), dtype=np.int8)\n",
    "        self.rewards = np.empty(shape=(buffer_size), dtype=np.float32)\n",
    "        self.next_states = np.empty(shape=(buffer_size, state_shape), dtype=np.float32)\n",
    "        self.is_failures = np.empty(shape=(buffer_size), dtype=np.int8)\n",
    "\n",
    "        # update index\n",
    "        self.next_index = 0\n",
    "\n",
    "    def store(self, state, action, reward, next_state, is_failure):\n",
    "\n",
    "        # store the experience in the buffer\n",
    "        self.states[self.next_index] = state\n",
    "        self.actions[self.next_index] = action\n",
    "        self.rewards[self.next_index] = reward\n",
    "        self.next_states[self.next_index] = next_state\n",
    "        self.is_failures[self.next_index] = is_failure\n",
    "\n",
    "        # update index\n",
    "        self.next_index += 1\n",
    "    \n",
    "    def get(self):\n",
    "        # return experience\n",
    "        return self.states, self.actions, self.rewards, self.next_states, self.is_failures\n",
    "\n",
    "    def clear(self):\n",
    "        # restart from the begging of the buffer\n",
    "        self.next_index = 0\n",
    "\n",
    "    def len(self):\n",
    "        return self.next_index"
   ]
  },
  {
   "cell_type": "markdown",
   "metadata": {},
   "source": [
    "5 - Add the code for the optimization function"
   ]
  },
  {
   "cell_type": "code",
   "execution_count": 5,
   "metadata": {},
   "outputs": [],
   "source": [
    "# YOUR CODE HERE\n",
    "\n",
    "# Add the code for calculating the TD-error and the loss function, as in the cart-pole example\n",
    "\n",
    "def optimize(experiences, model, optimizer, gamma, epochs):\n",
    "    \n",
    "    # get the experience\n",
    "    states, actions, rewards, next_states, is_failures = experiences  \n",
    "\n",
    "    states = torch.from_numpy(np.vstack(states)).float()\n",
    "    actions = torch.from_numpy(np.vstack(actions)).long()\n",
    "    next_states = torch.from_numpy(np.vstack(next_states)).float()\n",
    "    rewards = torch.from_numpy(np.vstack(rewards)).float()\n",
    "    is_failures = torch.from_numpy(np.vstack(is_failures)).long()\n",
    "\n",
    "    for _ in range(epochs):\n",
    "\n",
    "        # get the values of the Q-function at next state\n",
    "        # remember to detach, we need to treat these values as constants \n",
    "        q_next = model(next_states).detach()\n",
    "        \n",
    "        # get the max value \n",
    "        max_q_next = q_next.max(1)[0].unsqueeze(1)\n",
    "\n",
    "        # one important step, often overlooked, is to ensure \n",
    "        # that failure states are grounded to zero\n",
    "        max_q_next *= (1 - is_failures)\n",
    "\n",
    "        # calculate the target \n",
    "        target = rewards + gamma * max_q_next\n",
    "\n",
    "        # finally, we get the current estimate of Q(s,a)\n",
    "        q_current = torch.gather(model(states), 1, actions)\n",
    "\n",
    "        # create the errors\n",
    "        td_error = target - q_current\n",
    "\n",
    "        # calculate the loss\n",
    "        value_loss = td_error.pow(2).mean()\n",
    "\n",
    "        # optimize the network\n",
    "        optimizer.zero_grad()\n",
    "        value_loss.backward()\n",
    "        optimizer.step()"
   ]
  },
  {
   "cell_type": "markdown",
   "metadata": {},
   "source": [
    "6 - Add the code of two strategies for exploration and exploitation and the code for the evaluation of the policy"
   ]
  },
  {
   "cell_type": "code",
   "execution_count": 6,
   "metadata": {},
   "outputs": [],
   "source": [
    "# YOUR CODE HERE\n",
    "\n",
    "# Add the code for an exploration strategy based on the epsilon-greedy algorithm\n",
    "\n",
    "import random\n",
    "\n",
    "def epsilon_greedy(approximator, state, action_size, epsilon):\n",
    "    if random.uniform(0,1) < epsilon:\n",
    "        return np.random.randint(action_size)\n",
    "    return approximator.select_action(state)"
   ]
  },
  {
   "cell_type": "code",
   "execution_count": 7,
   "metadata": {},
   "outputs": [],
   "source": [
    "# YOUR CODE HERE\n",
    "\n",
    "# Add the code for a exploitation strategy based on the greedy algorithm\n",
    "\n",
    "def greedy(approximator, state):\n",
    "    return approximator.select_action(state)"
   ]
  },
  {
   "cell_type": "code",
   "execution_count": 8,
   "metadata": {},
   "outputs": [],
   "source": [
    "# YOUR CODE HERE\n",
    "\n",
    "# Add the code for an evaluation of the agent policy\n",
    "\n",
    "def evaluate(approximator, env, episodes=1):\n",
    "    rewards = []\n",
    "    for _ in range(episodes):\n",
    "        state = env.reset()[0]\n",
    "        rewards.append(0)\n",
    "        while(True):\n",
    "            action = greedy(approximator, state)\n",
    "            state, reward, is_terminal, is_truncated, info = env.step(action)\n",
    "            rewards[-1] += reward\n",
    "            is_done = is_terminal or is_truncated\n",
    "            if is_done: \n",
    "                break\n",
    "    return np.mean(rewards)"
   ]
  },
  {
   "cell_type": "markdown",
   "metadata": {},
   "source": [
    "7 - Write the code of the NFQ algorithm"
   ]
  },
  {
   "cell_type": "code",
   "execution_count": 18,
   "metadata": {},
   "outputs": [],
   "source": [
    "import time\n",
    "import numpy as np\n",
    "import random\n",
    "from itertools import count\n",
    "\n",
    "def nfq(env_name, seed, \n",
    "        batch_size, epochs, gamma, epsilon, learning_rate,\n",
    "        max_episodes, max_time, max_score, episodes_window):\n",
    "\n",
    "    # create the environment\n",
    "    env = gymnasium.make(env_name)\n",
    "\n",
    "    # access the state and action sizes of the environment \n",
    "    state_size = env.observation_space.shape[0]\n",
    "    action_size = env.action_space.n\n",
    "\n",
    "    # create the experience buffer \n",
    "    experience_buffer = ExperienceBuffer(state_size, batch_size) \n",
    "\n",
    "    # set the seeds for reproducibility of results\n",
    "    torch.manual_seed(seed)\n",
    "    np.random.seed(seed)\n",
    "    random.seed(seed)\n",
    "    env.np_random = np.random.Generator(np.random.PCG64(seed))\n",
    "\n",
    "    # create the neural models\n",
    "    model = Approximator(state_size, action_size)\n",
    "\n",
    "    # create the optimizer\n",
    "    optimizer = torch.optim.RMSprop(model.parameters(), lr=learning_rate)\n",
    "\n",
    "    # episode stats trackers \n",
    "    episode_steps = []\n",
    "    episode_return = []\n",
    "    episode_seconds = []\n",
    "    episode_scores = []  \n",
    "\n",
    "    # total stats trackers\n",
    "    total_step = 0\n",
    "    training_time = 0\n",
    "    results = np.empty((max_episodes+1, 4))\n",
    "    results[:] = np.nan\n",
    "\n",
    "    # train until we reach a terminal condition\n",
    "    for episode in count():\n",
    "    \n",
    "        # get the start time of the episode\n",
    "        episode_start = time.time()\n",
    "\n",
    "        # set return to 0\n",
    "        discounted_return = 0\n",
    "\n",
    "        # reset the environment at the beginning of the episode\n",
    "        state = env.reset()[0]\n",
    "\n",
    "        # interact with the environment until the episode is done\n",
    "        for episode_step in count():\n",
    "                \n",
    "            # select the action using the exploration policy\n",
    "            action = epsilon_greedy(model, state, action_size, epsilon)\n",
    "            \n",
    "            # perform the selected action\n",
    "            next_state, reward, is_terminal, is_truncated, info = env.step(action)\n",
    "            is_done = is_terminal or is_truncated\n",
    "            is_failure = is_terminal and not is_truncated\n",
    "\n",
    "            # store the experience\n",
    "            experience_buffer.store(state, action, reward, next_state, is_failure)\n",
    "\n",
    "            # if the experience collected so far is enough, optimize the model \n",
    "            # and clear the buffer\n",
    "            if experience_buffer.len() == batch_size:\n",
    "                optimize(experience_buffer.get(), model, optimizer, gamma, epochs)\n",
    "                experience_buffer.clear()\n",
    "        \n",
    "            # update current state to next state\n",
    "            state = next_state\n",
    "        \n",
    "            # update the return\n",
    "            discounted_return += reward\n",
    "\n",
    "            # update the total steps\n",
    "            total_step += 1\n",
    "        \n",
    "            if is_done:\n",
    "                break\n",
    "\n",
    "        # evaluate the learned policy after the episode\n",
    "        score = evaluate(model, env)\n",
    "\n",
    "        # timing stuff\n",
    "        episode_elapsed = time.time() - episode_start\n",
    "\n",
    "        # update episode stats\n",
    "        episode_steps.append(episode_step)\n",
    "        episode_return.append(discounted_return)\n",
    "        episode_seconds.append(episode_elapsed)\n",
    "        episode_scores.append(score)\n",
    "\n",
    "        # update total stats\n",
    "        training_time += episode_elapsed   \n",
    "    \n",
    "        # average stats over some recent episodes\n",
    "        mean_return = np.mean(episode_return[-episodes_window:])\n",
    "        mean_score = np.mean(episode_scores[-episodes_window:])\n",
    "\n",
    "        # report results\n",
    "        results[episode] = total_step, mean_return, mean_score, training_time\n",
    "\n",
    "        # informative print logging  \n",
    "        message = 'episode {:04}, total steps {:06}, score {:05.1f}'\n",
    "        message = message.format(episode, total_step, mean_score)\n",
    "        print(message, end='\\r', flush=True)\n",
    "\n",
    "        # check max episodes achievement criteria\n",
    "        if (episode >= max_episodes):\n",
    "            print(message, ' --> reached max episodes ')\n",
    "            break\n",
    "\n",
    "        # check max time achievement criteria\n",
    "        if (training_time >= max_time):\n",
    "            print(message, ' --> reached max time ')\n",
    "            break\n",
    "\n",
    "        # check max score achievement criteria\n",
    "        if (mean_score >= max_score):\n",
    "            print(message, ' --> reached max score ')\n",
    "            break\n",
    "\n",
    "    return model, score, results"
   ]
  },
  {
   "cell_type": "markdown",
   "metadata": {},
   "source": [
    "8 - Apply NFQ to the environment "
   ]
  },
  {
   "cell_type": "code",
   "execution_count": 21,
   "metadata": {},
   "outputs": [
    {
     "name": "stdout",
     "output_type": "stream",
     "text": [
      "episode 0091, total steps 020383, score -99.4  --> reached max score \n"
     ]
    }
   ],
   "source": [
    "# YOUR CODE HERE\n",
    "\n",
    "# Apply NFQ to the environment \n",
    "\n",
    "# discount factor, exploration rate and learning rate\n",
    "gamma = 0.99  \n",
    "epsilon = 0.5\n",
    "learning_rate = 0.0005\n",
    "\n",
    "# training parameters\n",
    "batch_size = 1024\n",
    "epochs = 40\n",
    "\n",
    "# max number of episodes to train\n",
    "max_episodes = 3000\n",
    "max_time = 4*60\n",
    "max_score = -100\n",
    "episodes_window = 50\n",
    "\n",
    "# set the seed for reproducibility of results\n",
    "seed = 97\n",
    "\n",
    "# create the agent\n",
    "q_function, score, result = nfq(env_name, seed, \n",
    "                                batch_size, epochs, gamma, epsilon, learning_rate,\n",
    "                                max_episodes, max_time, max_score, episodes_window)"
   ]
  },
  {
   "cell_type": "markdown",
   "metadata": {},
   "source": [
    "9 - show the learning curves "
   ]
  },
  {
   "cell_type": "code",
   "execution_count": 22,
   "metadata": {},
   "outputs": [
    {
     "data": {
      "image/png": "[encoded data removed]",
      "text/plain": [
       "<Figure size 1200x600 with 1 Axes>"
      ]
     },
     "metadata": {},
     "output_type": "display_data"
    }
   ],
   "source": [
    "# YOUR CODE HERE\n",
    "\n",
    "# Show the moving average reward of the training process\n",
    "\n",
    "import matplotlib.pyplot as plt\n",
    "\n",
    "steps, train_reward, eval_score, _ = result.T\n",
    "\n",
    "plt.figure(figsize=(12,6))\n",
    "\n",
    "plt.plot(train_reward, linewidth=1)\n",
    "plt.title('Moving Avg Reward (Training)')\n",
    "plt.ylabel('Reward')\n",
    "plt.xlabel('Episodes')\n",
    "\n",
    "plt.show()"
   ]
  },
  {
   "cell_type": "code",
   "execution_count": 23,
   "metadata": {},
   "outputs": [
    {
     "data": {
      "image/png": "[encoded data removed]",
      "text/plain": [
       "<Figure size 1200x600 with 1 Axes>"
      ]
     },
     "metadata": {},
     "output_type": "display_data"
    }
   ],
   "source": [
    "# YOUR CODE HERE\n",
    "\n",
    "# Show the moving average reward of the evaluation process\n",
    "\n",
    "plt.figure(figsize=(12,6))\n",
    "\n",
    "plt.plot(eval_score, linewidth=1)\n",
    "plt.title('Moving Avg Reward (Evaluation)')\n",
    "plt.ylabel('Reward')\n",
    "plt.xlabel('Episodes')\n",
    "\n",
    "plt.show()"
   ]
  },
  {
   "cell_type": "markdown",
   "metadata": {},
   "source": [
    "10 - show the policy behavior"
   ]
  },
  {
   "cell_type": "code",
   "execution_count": 24,
   "metadata": {},
   "outputs": [
    {
     "data": {
      "image/png": "[encoded data removed]",
      "text/plain": [
       "<Figure size 640x480 with 1 Axes>"
      ]
     },
     "metadata": {},
     "output_type": "display_data"
    }
   ],
   "source": [
    "# YOUR CODE HERE\n",
    "\n",
    "# You can show the policy learned by the agent using the show_policy function\n",
    "\n",
    "show_policy(env, q_function, n_episodes=1)"
   ]
  }
 ],
 "metadata": {
  "colab": {
   "collapsed_sections": [],
   "name": "math_differential_calculus",
   "provenance": [],
   "toc_visible": true
  },
  "interpreter": {
   "hash": "8aeb84091b1f1fb8d8b9efbf1e96a552fa0144c39bfbc7f744113ad2216f701d"
  },
  "kernelspec": {
   "display_name": "Python 3 (ipykernel)",
   "language": "python",
   "name": "python3"
  },
  "language_info": {
   "codemirror_mode": {
    "name": "ipython",
    "version": 3
   },
   "file_extension": ".py",
   "mimetype": "text/x-python",
   "name": "python",
   "nbconvert_exporter": "python",
   "pygments_lexer": "ipython3",
   "version": "3.11.4"
  },
  "pycharm": {
   "stem_cell": {
    "cell_type": "raw",
    "metadata": {
     "collapsed": false
    },
    "source": []
   }
  }
 },
 "nbformat": 4,
 "nbformat_minor": 4
}
